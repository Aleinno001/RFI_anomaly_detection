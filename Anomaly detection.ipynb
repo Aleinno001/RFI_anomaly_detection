{
 "cells": [
  {
   "metadata": {},
   "cell_type": "markdown",
   "source": "# Caricamento dei modelli:",
   "id": "fefc1c2e62ae5dcc"
  },
  {
   "metadata": {},
   "cell_type": "markdown",
   "source": "### 1) SAM2",
   "id": "e9af56afe0af42b8"
  },
  {
   "metadata": {
    "ExecuteTime": {
     "end_time": "2025-06-04T16:32:51.048619Z",
     "start_time": "2025-06-04T16:32:44.102101Z"
    }
   },
   "cell_type": "code",
   "source": [
    "import shutil\n",
    "import matplotlib\n",
    "from groundingdino.util.inference import load_model, load_image, predict, annotate\n",
    "\n",
    "import numpy as np\n",
    "import torchvision.transforms as transforms\n",
    "#from sklearn.ensemble import IsolationForest\n",
    "from torchvision.ops import box_convert\n",
    "import os\n",
    "from scipy.ndimage import generic_filter\n",
    "import utility\n",
    "\n",
    "# if using Apple MPS, fall back to CPU for unsupported ops\n",
    "os.environ[\"PYTORCH_ENABLE_MPS_FALLBACK\"] = \"1\"\n",
    "import torch\n",
    "import torchvision\n",
    "import cv2\n",
    "from matplotlib import pyplot as plt\n",
    "from PIL import Image\n",
    "from sam2.build_sam import build_sam2, build_sam2_video_predictor\n",
    "from sam2.automatic_mask_generator import SAM2AutomaticMaskGenerator, SAM2ImagePredictor"
   ],
   "id": "6bbf878bd4ccbd67",
   "outputs": [
    {
     "name": "stderr",
     "output_type": "stream",
     "text": [
      "RequestsDependencyWarning: Unable to find acceptable character detection dependency (chardet or charset_normalizer).\n",
      "TqdmWarning: IProgress not found. Please update jupyter and ipywidgets. See https://ipywidgets.readthedocs.io/en/stable/user_install.html\n",
      "FutureWarning: Importing from timm.models.layers is deprecated, please import via timm.layers\n"
     ]
    }
   ],
   "execution_count": 1
  },
  {
   "cell_type": "code",
   "id": "initial_id",
   "metadata": {
    "collapsed": true,
    "ExecuteTime": {
     "end_time": "2025-06-04T16:32:51.345569Z",
     "start_time": "2025-06-04T16:32:51.080608Z"
    }
   },
   "source": [
    "# select the device for computation\n",
    "if torch.cuda.is_available():\n",
    "    device = torch.device(\"cuda\")\n",
    "elif torch.backends.mps.is_available():\n",
    "    device = torch.device(\"mps\")\n",
    "else:\n",
    "    device = torch.device(\"cpu\")\n",
    "print(f\"using device: {device}\")\n",
    "\n",
    "def check_bfloat16_cublas_support():\n",
    "    \"\"\"Test if the GPU supports bfloat16 in cublasGemmStridedBatchedEx operations specifically\"\"\"\n",
    "    if not torch.cuda.is_available():\n",
    "        print(\"CUDA not available\")\n",
    "        return False\n",
    "\n",
    "    try:\n",
    "        # Create tensors that will specifically trigger cublasGemmStridedBatchedEx\n",
    "        # Use larger dimensions and batch size to ensure the specific CUBLAS path is taken\n",
    "        batch_size = 8\n",
    "        seq_len = 64\n",
    "        hidden_size = 128\n",
    "\n",
    "        # Create example inputs similar to transformer attention operations\n",
    "        query = torch.randn(batch_size, seq_len, hidden_size, device=\"cuda\").to(torch.bfloat16)\n",
    "        key = torch.randn(batch_size, seq_len, hidden_size, device=\"cuda\").to(torch.bfloat16)\n",
    "        value = torch.randn(batch_size, seq_len, hidden_size, device=\"cuda\").to(torch.bfloat16)\n",
    "\n",
    "        # This will trigger cublasGemmStridedBatchedEx internally\n",
    "        # First compute query @ key.transpose(-2, -1) which uses batched matmul\n",
    "        attn_weights = torch.bmm(query, key.transpose(1, 2))\n",
    "        torch.cuda.synchronize()\n",
    "\n",
    "        # Then compute attn_weights @ value which uses another batched matmul\n",
    "        attn_output = torch.bmm(attn_weights.softmax(dim=-1), value)\n",
    "        torch.cuda.synchronize()\n",
    "\n",
    "        print(\"GPU fully supports bfloat16 in cublasGemmStridedBatchedEx\")\n",
    "        return True\n",
    "\n",
    "    except RuntimeError as e:\n",
    "        if \"CUBLAS_STATUS_NOT_SUPPORTED\" in str(e):\n",
    "            print(f\"bfloat16 not fully supported: {str(e)}\")\n",
    "            return False\n",
    "        else:\n",
    "            print(f\"Other error occurred: {str(e)}\")\n",
    "            raise\n",
    "\n",
    "if device.type == \"cuda\":\n",
    "    if check_bfloat16_cublas_support():\n",
    "        print(\"Using bfloat16 precision\")  # use bfloat16 for the entire notebook\n",
    "        torch.autocast(\"cuda\", dtype=torch.bfloat16).__enter__()\n",
    "    else:\n",
    "        print(\"bfloat16 not supported, using float32 instead\")  # older GPUs like Titan X do not support CUDNN ops with bfloat16...\n",
    "        torch.autocast(\"cuda\", dtype=torch.float32).__enter__()\n",
    "    #torch.autocast(\"cuda\", dtype=torch.float32).__enter__()\n",
    "    # turn on tfloat32 for Ampere GPUs\n",
    "    # (https://pytorch.org/docs/stable/notes/cuda.html#tensorfloat-32-tf32-on-ampere-devices)\n",
    "    if torch.cuda.get_device_properties(0).major >= 8:\n",
    "        torch.backends.cuda.matmul.allow_tf32 = True\n",
    "        torch.backends.cudnn.allow_tf32 = True\n",
    "elif device.type == \"mps\":\n",
    "    print(\n",
    "        \"\\nSupport for MPS devices is preliminary. SAM 2 is trained with CUDA and might \"\n",
    "        \"give numerically different outputs and sometimes degraded performance on MPS. \"\n",
    "        \"See e.g. https://github.com/pytorch/pytorch/issues/84936 for a discussion.\"\n",
    "    )\n",
    "\n",
    "# loading SAM parameters\n",
    "sam2_checkpoint = \"./models/sam2.1/sam2.1_hiera_tiny.pt\"\n",
    "model_cfg_path = \"./configs/sam2.1/sam2.1_hiera_t.yaml\"\n"
   ],
   "outputs": [
    {
     "name": "stdout",
     "output_type": "stream",
     "text": [
      "using device: cuda\n",
      "bfloat16 not fully supported: CUDA error: CUBLAS_STATUS_NOT_SUPPORTED when calling `cublasGemmStridedBatchedEx(handle, opa, opb, (int)m, (int)n, (int)k, (void*)&falpha, a, CUDA_R_16BF, (int)lda, stridea, b, CUDA_R_16BF, (int)ldb, strideb, (void*)&fbeta, c, CUDA_R_16BF, (int)ldc, stridec, (int)num_batches, compute_type, CUBLAS_GEMM_DEFAULT_TENSOR_OP)`\n",
      "bfloat16 not supported, using float32 instead\n"
     ]
    }
   ],
   "execution_count": 2
  },
  {
   "metadata": {
    "ExecuteTime": {
     "end_time": "2025-06-04T16:32:54.172514Z",
     "start_time": "2025-06-04T16:32:51.497750Z"
    }
   },
   "cell_type": "code",
   "source": [
    "device = device\n",
    "sam2 = build_sam2(model_cfg_path, sam2_checkpoint, device=device)\n",
    "# mask_generator = SAM2AutomaticMaskGenerator(\n",
    "#     sam2,\n",
    "#     points_per_side=32,  # Increase for more detailed segmentation\n",
    "#     pred_iou_thresh=0.7,  # Adjust threshold based on your needs 0.86 def\n",
    "#     stability_score_thresh=0.92,\n",
    "#     stability_score_offset=0.7,\n",
    "#     crop_n_layers=1,\n",
    "#     crop_n_points_downscale_factor=2\n",
    "# )\n",
    "image_predictor = SAM2ImagePredictor(sam2)\n",
    "video_predictor = build_sam2_video_predictor(model_cfg_path, sam2_checkpoint, device=device)"
   ],
   "id": "7a8c1d60b10d2506",
   "outputs": [],
   "execution_count": 3
  },
  {
   "metadata": {},
   "cell_type": "markdown",
   "source": "### 2) Grounding DINO",
   "id": "8b69ea2d0cac24ed"
  },
  {
   "metadata": {
    "ExecuteTime": {
     "end_time": "2025-06-04T16:32:57.399823Z",
     "start_time": "2025-06-04T16:32:54.213828Z"
    }
   },
   "cell_type": "code",
   "source": [
    "model = load_model(\"./configs/groundingdino/GroundingDINO_SwinT_OGC.py\", \"./models/groundingdino/groundingdino_swint_ogc.pth\",device)\n",
    "#IMAGE_PATH = \"\"\n",
    "TEXT_PROMPT = \"object .\"\n",
    "BOX_TRESHOLD = 0.35\n",
    "TEXT_TRESHOLD = 0.25"
   ],
   "id": "516701587e3fcf5e",
   "outputs": [
    {
     "name": "stderr",
     "output_type": "stream",
     "text": [
      "UserWarning: torch.meshgrid: in an upcoming release, it will be required to pass the indexing argument. (Triggered internally at /pytorch/aten/src/ATen/native/TensorShape.cpp:4314.)\n"
     ]
    },
    {
     "name": "stdout",
     "output_type": "stream",
     "text": [
      "final text_encoder_type: bert-base-uncased\n"
     ]
    }
   ],
   "execution_count": 4
  },
  {
   "metadata": {},
   "cell_type": "markdown",
   "source": "## Utilizzo su Dataset 'FOSH'\n",
   "id": "de5d2d042dbc8f54"
  },
  {
   "metadata": {},
   "cell_type": "code",
   "source": [
    "from utility import *\n",
    "print(os.getcwd())  # This prints the current directory\n",
    "\n",
    "# Where to retrive images\n",
    "folder_path = \"inserimento_oggetti\"\n",
    "\n",
    "# Extract frames\n",
    "frame_names = [\n",
    "    p for p in os.listdir(folder_path)\n",
    "    if os.path.splitext(p)[-1] in [\".jpg\", \".jpeg\", \".JPG\", \".JPEG\"]\n",
    "]\n",
    "# Sorting frames\n",
    "frame_names.sort(key=lambda p: int(os.path.splitext(p)[0].split('_')[-1]))\n",
    "\n",
    "#setting the railway box\n",
    "railway_box = np.array([0, 256, 640, 512])\n",
    "\n",
    "# Setting statistics\n",
    "gd_iou, h_iou, otsu_iou = 0, 0, 0\n",
    "gd_dice , h_dice, otsu_dice = 0, 0, 0\n",
    "gd_precision , h_precision, otsu_precision = 0, 0, 0\n",
    "gd_recall, h_recall, otsu_recall = 0, 0, 0\n",
    "\n",
    "n_frames = 0\n",
    "skipped = 0\n",
    "\n",
    "try:\n",
    "    for p in frame_names:\n",
    "        print('----------------------')\n",
    "        image =  cv2.imread(os.path.join(folder_path, p))\n",
    "        ground_truth = cv2.imread(utility.find_corresponding_segmentation(p, 'segmentazione_oggetti'), cv2.IMREAD_GRAYSCALE)\n",
    "\n",
    "        if cv2.countNonZero(ground_truth) < 170:\n",
    "            print(\"oggetto troppo piccolo\")\n",
    "            skipped += 1\n",
    "            continue\n",
    "\n",
    "        if n_frames % 20 == 0:\n",
    "            print(\"frame saltati: \", skipped)\n",
    "\n",
    "        name = str(p)\n",
    "        print(\"Analyzing image:\", name)\n",
    "        print()\n",
    "        image_predictor.set_image(image)\n",
    "\n",
    "        object_mask_gd, m_h, m_l = None, None, None\n",
    "        n_frames += 1\n",
    "\n",
    "        ### GROUNDING DINO + SAM 2 METHOD\n",
    "\n",
    "\n",
    "        # Finding objects in the bounding box with Grounding DINO\n",
    "        image_source, gd_image = load_image(folder_path+'/'+name)\n",
    "\n",
    "        gd_boxes, logits, phrases = predict(\n",
    "            model=model,\n",
    "            image=gd_image,\n",
    "            caption=TEXT_PROMPT,\n",
    "            box_threshold=BOX_TRESHOLD,\n",
    "            text_threshold=TEXT_TRESHOLD,\n",
    "            device=device,\n",
    "        )\n",
    "\n",
    "        h, w, _ = image_source.shape\n",
    "        gd_boxes = gd_boxes * torch.Tensor([w, h, w, h])\n",
    "        gd_boxes = box_convert(boxes=gd_boxes, in_fmt=\"cxcywh\", out_fmt=\"xyxy\").numpy()\n",
    "\n",
    "        for box in gd_boxes:\n",
    "            if utility.is_contained(box, railway_box,1):\n",
    "                object_mask_gd, score_gd, _ = image_predictor.predict(\n",
    "                    box=box,\n",
    "                    multimask_output=False,\n",
    "                )\n",
    "                # salvataggio dell'immagine\n",
    "                utility.show_masks(image, object_mask_gd, score_gd,borders=False,show=False,savefig=True,save_path=\"debug/gd2/\",\n",
    "                                   save_name=name,box_coords=box)\n",
    "\n",
    "\n",
    "                statistics_map_gd = utility.segmentation_metrics(object_mask_gd, ground_truth)\n",
    "                for metric in statistics_map_gd:\n",
    "                    if metric == 'IoU':\n",
    "                        gd_iou += statistics_map_gd[metric]\n",
    "                    elif metric == 'Dice':\n",
    "                        gd_dice += statistics_map_gd[metric]\n",
    "                    elif metric == 'Precision':\n",
    "                        gd_precision += statistics_map_gd[metric]\n",
    "                    elif metric == 'Recall':\n",
    "                        gd_recall += statistics_map_gd[metric]\n",
    "\n",
    "        print(\"Grounding Dino - frame: \",n_frames, \", IoU: \", gd_iou/n_frames, \", Dice: \", gd_dice/n_frames,\n",
    "              \", Precision: \", gd_precision/n_frames, \", Recall: \", gd_recall/n_frames)\n",
    "\n",
    "\n",
    "\n",
    "\n",
    "        ### HOLES METHOD\n",
    "\n",
    "\n",
    "\n",
    "        # Creating a grid of points for the railway's mask\n",
    "        points ,labels = utility.create_grid(railway_box, points_per_row=[3, 4, 5])\n",
    "\n",
    "        masks, scores, logits = image_predictor.predict(\n",
    "            point_coords=points,\n",
    "            point_labels=labels,\n",
    "            #box=railway_box,\n",
    "            multimask_output=False,\n",
    "            return_logits=True,\n",
    "        )\n",
    "        sorted_ind = np.argsort(scores)[::-1]\n",
    "        masks = masks[sorted_ind]\n",
    "        scores = scores[sorted_ind]\n",
    "        logits = logits[sorted_ind]\n",
    "\n",
    "        # Displaying the image with the grid approach, use the parameters to show or save\n",
    "        utility.show_masks(image,masks>0,scores,input_labels=labels,point_coords=points,show=False,savefig=True,\n",
    "                           save_path='debug/grid/',save_name=p)\n",
    "\n",
    "        l = np.squeeze(masks)\n",
    "        l[l < 0] = 0\n",
    "\n",
    "        sigmoid_mask = utility.sigmoid(l)  # Values are now in range [0, 1]\n",
    "\n",
    "        #Convert to uint8 (0-255 range for OpenCV)\n",
    "        sigmoid_mask_2d = (sigmoid_mask * 255).astype(np.uint8)  # Shape: (1, H, W)\n",
    "\n",
    "        sig = (sigmoid_mask_2d > 127).astype(np.uint8) # binarify the mask to search for holes\n",
    "\n",
    "        coord_holes, holes_labels = utility.find_holes(sig, 100)\n",
    "\n",
    "        if len(coord_holes)>0:\n",
    "\n",
    "            m_h,s_h,_ = image_predictor.predict(\n",
    "                point_coords=coord_holes,\n",
    "                point_labels=holes_labels,\n",
    "                multimask_output=False,\n",
    "            )\n",
    "            utility.show_masks(image, m_h, s_h, borders=False, show=False, savefig=True, point_coords=coord_holes,\n",
    "                               input_labels=holes_labels, save_path='debug/holes/', save_name=name)\n",
    "\n",
    "            d_h = utility.segmentation_metrics(m_h, ground_truth)\n",
    "            for metric in d_h:\n",
    "                if metric == 'IoU':\n",
    "                    h_iou += d_h[metric]\n",
    "                elif metric == 'Dice':\n",
    "                    h_dice += d_h[metric]\n",
    "                elif metric == 'Precision':\n",
    "                    h_precision += d_h[metric]\n",
    "                elif metric == 'Recall':\n",
    "                    h_recall += d_h[metric]\n",
    "\n",
    "        print(\"Holes - frame: \", n_frames, \", IoU: \", h_iou / n_frames, \", Dice: \", h_dice / n_frames, \", Precision: \", h_precision / n_frames, \", Recall: \", h_recall / n_frames)\n",
    "\n",
    "\n",
    "\n",
    "        ###  OTSU METHOD\n",
    "\n",
    "        #Creating an high-pass filter upon railway mask logits using OTSU for the calculation of the threshold\n",
    "\n",
    "        thresh_val, binary_mask = cv2.threshold(sigmoid_mask_2d, 0, 255, cv2.THRESH_BINARY + cv2.THRESH_OTSU)\n",
    "\n",
    "        binary_mask[binary_mask > 127] = 1\n",
    "\n",
    "\n",
    "        if binary_mask.dtype != np.uint8:\n",
    "            binary_mask = binary_mask.astype(np.uint8)\n",
    "\n",
    "\n",
    "        coord_holes, o_labels = utility.find_holes(binary_mask, 100)\n",
    "        if len(coord_holes) > 0:\n",
    "            m_o, s_o, _ = image_predictor.predict(\n",
    "                point_coords=coord_holes,\n",
    "                point_labels=o_labels,\n",
    "                multimask_output=False,\n",
    "            )\n",
    "            utility.show_masks(image, m_o, np.array([0]), borders=False, point_coords=coord_holes, input_labels=o_labels,\n",
    "                               show=False, savefig=True, save_path='debug/otzu/', save_name=name)\n",
    "\n",
    "            d_o = utility.segmentation_metrics(m_o, ground_truth)\n",
    "            for metric in d_o:\n",
    "                if metric == 'IoU':\n",
    "                    otsu_iou += d_o[metric]\n",
    "                elif metric == 'Dice':\n",
    "                    otsu_dice += d_o[metric]\n",
    "                elif metric == 'Precision':\n",
    "                    otsu_precision += d_o[metric]\n",
    "                elif metric == 'Recall':\n",
    "                    otsu_recall += d_o[metric]\n",
    "\n",
    "\n",
    "        print(\"Otsu - frame: \", n_frames, \", IoU: \", otsu_iou / n_frames, \", Dice: \", otsu_dice / n_frames,\n",
    "              \", Precision: \", otsu_precision / n_frames, \", Recall: \", otsu_recall / n_frames)\n",
    "except(KeyboardInterrupt, SystemExit):\n",
    "    print(\"Exiting...\")\n",
    "    print('iou', gd_iou, h_iou, otsu_iou)\n",
    "    print('dice', gd_dice, h_dice, otsu_dice)\n",
    "    print('precision', gd_precision, h_precision, otsu_precision)\n",
    "    print('recall', gd_recall, h_recall, otsu_recall)\n",
    "    print('n_frames ', n_frames)\n",
    "    print('skipped ',skipped)"
   ],
   "id": "a4eb5ebb7bc65a4a",
   "outputs": [],
   "execution_count": null
  },
  {
   "metadata": {},
   "cell_type": "markdown",
   "source": "## Anomaly detection (Grounding DINO + SAM2)\n",
   "id": "b800f4196f740e1f"
  },
  {
   "metadata": {
    "ExecuteTime": {
     "end_time": "2025-06-04T16:32:57.453463Z",
     "start_time": "2025-06-04T16:32:57.449319Z"
    }
   },
   "cell_type": "code",
   "source": [
    "#rd.video_analysis('s_c_f','seg_new_video', model)\n",
    "\n",
    "video_dir = 'test_video/test_video_san_donato/'\n",
    "segmented_video_dir = 'test_video/output'\n"
   ],
   "id": "2639abad6febe94d",
   "outputs": [],
   "execution_count": 5
  },
  {
   "metadata": {},
   "cell_type": "markdown",
   "source": "# frame-based processing",
   "id": "c0755bdee8f0f809"
  },
  {
   "metadata": {},
   "cell_type": "code",
   "source": [
    "try:\n",
    "    #Extract frames\n",
    "    frame_names = [\n",
    "        p for p in os.listdir(video_dir)\n",
    "        if os.path.splitext(p)[-1] in [\".jpg\", \".jpeg\", \".JPG\", \".JPEG\"]\n",
    "    ]\n",
    "    #Sorting frames\n",
    "    frame_names.sort(key=lambda p: int(os.path.splitext(p)[0].split('_')[-1]))\n",
    "    #Setting the inference_state\n",
    "    inference_state = video_predictor.init_state(video_path=video_dir)\n",
    "\n",
    "    ann_frame_idx = 0  # the frame index we interact with\n",
    "    ann_obj_id = 1  # give a unique id to each object we interact with (it can be any integers)\n",
    "\n",
    "    # Finding the railway and objects bounding box with G DINO\n",
    "    dino_boxes, phrases, dino_score = utility.grounding_Dino_analyzer(video_dir+'/'+frame_names[0],model,\n",
    "                            'railway . object .', device)\n",
    "    max_score_railway = 0\n",
    "    railway_box = None\n",
    "    object_points = []\n",
    "\n",
    "    # FIXME we should check if those bounding box objects are inside the railway box, consider using utility.is_contained()\n",
    "    for i, phrase in enumerate(phrases):\n",
    "        if phrase == 'railway' and dino_score[i] > max_score_railway:\n",
    "            railway_box = dino_boxes[i]\n",
    "            max_score_railway = dino_score[i]\n",
    "        if phrase == 'object':\n",
    "            x_min, y_min, x_max, y_max = dino_boxes[i]\n",
    "            x_center = (x_min + x_max) // 2\n",
    "            y_center = (y_min + y_max) // 2\n",
    "            object_points.append([x_center, y_center])\n",
    "\n",
    "    # Setting the railway mask\n",
    "    _, out_obj_ids, out_mask_logits = video_predictor.add_new_points_or_box(\n",
    "        inference_state=inference_state,\n",
    "        frame_idx=ann_frame_idx,\n",
    "        obj_id=ann_obj_id,\n",
    "        box=railway_box,\n",
    "    )\n",
    "    id_objects = []\n",
    "\n",
    "    # Setting the objects found in the first frame if any\n",
    "    for obj_point in object_points:\n",
    "        print('obj_point ', obj_point)\n",
    "        ann_obj_id += 1\n",
    "        id_objects.append(ann_obj_id)\n",
    "        _, out_obj_ids, out_mask_logits = video_predictor.add_new_points_or_box(\n",
    "            inference_state=inference_state,\n",
    "            frame_idx=ann_frame_idx,\n",
    "            obj_id=ann_obj_id,\n",
    "            points=[obj_point],\n",
    "            labels= np.array([1], np.int32),\n",
    "        )\n",
    "\n",
    "    idx_frame = 0\n",
    "    video_segments = {}  # video_segments contains the per-frame segmentation results\n",
    "\n",
    "    while idx_frame < len(frame_names):\n",
    "        last_masks = {}\n",
    "\n",
    "        # Starting the inference propagation in future frames\n",
    "        for out_frame_idx, out_obj_ids, out_mask_logits in video_predictor.propagate_in_video(inference_state, start_frame_idx=idx_frame):\n",
    "\n",
    "            video_segments[out_frame_idx] = {\n",
    "                out_obj_id: (out_mask_logits[i] > 0).cpu().numpy()\n",
    "                for i, out_obj_id in enumerate(out_obj_ids)\n",
    "            }\n",
    "\n",
    "\n",
    "            # plt.close('all')\n",
    "            # plt.imshow(Image.open(os.path.join(video_dir, frame_names[out_frame_idx])))\n",
    "            #\n",
    "            # for out_obj_id, out_mask in video_segments[out_frame_idx].items():\n",
    "            #     utility.show_mask_v(out_mask, plt.gca(), obj_id=out_obj_id)\n",
    "            #\n",
    "            # plt.show()\n",
    "\n",
    "            idx_frame += 1\n",
    "\n",
    "            # If we're in the 15th frame we stop the propagation to check for newer objects\n",
    "            if idx_frame % 15 == 0:\n",
    "                for out_obj_id, out_mask in video_segments[out_frame_idx].items():\n",
    "                    last_masks[out_obj_id] = out_mask\n",
    "                break\n",
    "\n",
    "        # Using Grounding DINO on the last frame\n",
    "        obj_boxes, _, obj_scores= utility.grounding_Dino_analyzer(video_dir+'/'+frame_names[idx_frame-1], model,'object .',device)\n",
    "        new_boxes = []\n",
    "\n",
    "        #check if the objects found have already been seen and followed\n",
    "        for obj_box in obj_boxes:\n",
    "            contained = False\n",
    "            for idx,mask in last_masks.items():\n",
    "                #print('lll', mask.shape)\n",
    "                if utility.is_mask_in_box(mask, obj_box):\n",
    "                    #print(\"C'era di già\")\n",
    "                    contained = True\n",
    "                    break\n",
    "            if contained:\n",
    "                continue\n",
    "            else:\n",
    "                new_boxes.append(obj_box)\n",
    "\n",
    "\n",
    "        # saving those 15 frames in the segmented_video_dir\n",
    "        for idx_frame_proc in range(idx_frame - 15, idx_frame):\n",
    "            plt.close('all')\n",
    "            plt.imshow(Image.open(os.path.join(video_dir, frame_names[idx_frame_proc])))\n",
    "\n",
    "            for out_obj_id, out_mask in video_segments[idx_frame_proc].items():\n",
    "                utility.show_mask_v(out_mask, plt.gca(), obj_id=out_obj_id)\n",
    "            plt.savefig(os.path.join(segmented_video_dir, frame_names[idx_frame_proc]),\n",
    "                        bbox_inches='tight', pad_inches=0)\n",
    "            #plt.show()\n",
    "\n",
    "        # If we find new objects we add them to the last frame using the same inference_state, then we can restart the  propagation process\n",
    "        for obj_box in new_boxes:\n",
    "            print(\"new box \", obj_box)\n",
    "            ann_obj_id += 1\n",
    "\n",
    "            x_min, y_min, x_max, y_max = obj_box\n",
    "            x_center = (x_min + x_max) // 2\n",
    "            y_center = (y_min + y_max) // 2\n",
    "\n",
    "            _, out_obj_ids, out_mask_logits = video_predictor.add_new_points_or_box(\n",
    "                inference_state=inference_state,\n",
    "                frame_idx= idx_frame,\n",
    "                obj_id=ann_obj_id,\n",
    "                points=[[x_center, y_center]],\n",
    "                labels=np.array([1], np.int32),\n",
    "            )\n",
    "        # segmented_img,_ = draw_mask_2(np.array(Image.open(os.path.join(video_dir, frame_names[out_frame_idx]))), out_mask_logits[0].cpu().numpy())\n",
    "        # im = Image.fromarray(segmented_img)\n",
    "        # save_path = os.path.join(segmented_video_dir, f\"frame_{out_frame_idx:03d}.png\")\n",
    "        # im.save(save_path)# max_logit_value = out_mask_logits[0].max().item()\n",
    "\n",
    "\n",
    "        # plt.imshow(out_mask_logits.squeeze(), cmap='viridis')\n",
    "        # plt.colorbar(label='Valore dei Logits')\n",
    "        # plt.title(\"Logits della Maschera\")\n",
    "        # plt.axis('off')\n",
    "        # plt.show()\n",
    "        # if out_frame_idx == 2:\n",
    "        #     print(\"Annotiamo l'anomalia\")\n",
    "        #     # Let's add a negative click on this frame at (x, y) = (82, 415) to refine the segment\n",
    "        #     pp = np.array([[550, 370]], dtype=np.float32)\n",
    "        #     # for labels, `1` means positive click and `0` means negative click\n",
    "        #     ll = np.array([0], np.int32)\n",
    "        #     _, out_obj_ids, out_mask_logits = self.video_predictor.add_new_points_or_box(\n",
    "        #         inference_state=inference_state,\n",
    "        #         frame_idx=out_frame_idx,\n",
    "        #         obj_id=ann_obj_id,\n",
    "        #         points=pp,\n",
    "        #         labels=ll,\n",
    "        #     )\n",
    "        # plt.figure(figsize=(9, 6))\n",
    "        # plt.title(f\"frame {out_frame_idx}\")\n",
    "        # plt.imshow(Image.open(os.path.join(video_dir, frame_names[out_frame_idx])))\n",
    "        # utility.show_mask_v((out_mask_logits[0] > threshold).cpu().numpy(), plt.gca(), obj_id=out_obj_ids[0])\n",
    "        # if out_frame_idx == 100:\n",
    "        #     plt.close('all')\n",
    "\n",
    "\n",
    "\n",
    "    # vis_frame_stride = 1\n",
    "    # plt.close(\"all\")\n",
    "    # for out_frame_idx in range(0, len(frame_names), vis_frame_stride):\n",
    "    #     # image = np.asarray(Image.open(os.path.join(video_dir, frame_names[out_frame_idx])))\n",
    "    #     for out_obj_id, out_mask in video_segments[out_frame_idx].items():\n",
    "    #         utility.show_mask_v(out_mask, plt.gca(), obj_id=out_obj_id)\n",
    "    #         # segmented_img = draw_mask(image, out_mask)\n",
    "    #         # im = Image.fromarray(segmented_img)\n",
    "    #         # save_path = os.path.join(segmented_video_dir, f\"frame_{out_frame_idx:03d}.png\")\n",
    "    #         # im.save(save_path)\n",
    "    #     plt.savefig(os.path.join(segmented_video_dir, frame_names[out_frame_idx]))\n",
    "except(KeyboardInterrupt, SystemExit):\n",
    "    print(\"Exiting...\")"
   ],
   "id": "f283d1b5baa80d17",
   "outputs": [],
   "execution_count": null
  },
  {
   "metadata": {},
   "cell_type": "markdown",
   "source": [
    "# Video-based processing\n",
    "\n",
    "Refactored version to reduce CUDA memory usage and improve performance by processing frames in batches.\n",
    "Avoids reprocessing frames from the beginning by using a stateful approach with SAM2."
   ],
   "id": "ec9cfc1874411709"
  },
  {
   "metadata": {
    "ExecuteTime": {
     "end_time": "2025-06-04T17:01:28.515001Z",
     "start_time": "2025-06-04T16:39:30.903746Z"
    }
   },
   "cell_type": "code",
   "source": [
    "import os\n",
    "import torch\n",
    "import numpy as np\n",
    "import cv2\n",
    "import matplotlib.pyplot as plt\n",
    "import gc\n",
    "import time\n",
    "\n",
    "# Path configurations\n",
    "video_path = \"test_video/ir_2025-01-31_05-09-12.mp4\"  # Can be camera index (0, 1) for webcam\n",
    "segmented_video_dir = \"test_video/output\"\n",
    "\n",
    "BOX_TRESHOLD = 0.22  # Threshold for Grounding DINO box detection\n",
    "TEXT_TRESHOLD = 0.18  # Threshold for Grounding DINO text detection\n",
    "\n",
    "# Create output directory if it doesn't exist\n",
    "os.makedirs(segmented_video_dir, exist_ok=True)\n",
    "\n",
    "# Create a temporary directory for frame storage\n",
    "temp_dir = os.path.join(\"temp_frames\")\n",
    "os.makedirs(temp_dir, exist_ok=True)\n",
    "\n",
    "# Open the video stream\n",
    "cap = cv2.VideoCapture(video_path)\n",
    "if not cap.isOpened():\n",
    "    raise Exception(f\"Could not open video stream: {video_path}\")\n",
    "\n",
    "# Get video properties\n",
    "fps = cap.get(cv2.CAP_PROP_FPS)\n",
    "width = int(cap.get(cv2.CAP_PROP_FRAME_WIDTH))\n",
    "height = int(cap.get(cv2.CAP_PROP_FRAME_HEIGHT))\n",
    "print(f\"Video stream at {fps} FPS, resolution: {width}x{height}\")\n",
    "\n",
    "# Object tracking variables\n",
    "ann_obj_id = 1  # Object ID counter\n",
    "last_masks = {}  # Store the last known mask for each object\n",
    "frame_idx = 0\n",
    "railway_box = None  # Store railway box for future reference\n",
    "\n",
    "try:\n",
    "    while True:\n",
    "        print(f\"\\n--- Processing frame {frame_idx} ---\")\n",
    "        start_time = time.time()\n",
    "\n",
    "        # Read the next frame\n",
    "        success, frame = cap.read()\n",
    "        if not success:\n",
    "            print(\"End of stream or error reading frame\")\n",
    "            break\n",
    "\n",
    "        # Clear temp directory\n",
    "        for file in os.listdir(temp_dir):\n",
    "            os.remove(os.path.join(temp_dir, file))\n",
    "\n",
    "        # Save current frame to temp directory\n",
    "        frame_path = os.path.join(temp_dir, \"000000.jpg\")\n",
    "        cv2.imwrite(frame_path, frame)\n",
    "\n",
    "        # Convert to RGB for visualization\n",
    "        frame_rgb = cv2.cvtColor(frame, cv2.COLOR_BGR2RGB)\n",
    "\n",
    "        # Initialize new state for this frame\n",
    "        torch.cuda.empty_cache()\n",
    "        gc.collect()\n",
    "        inference_state = video_predictor.init_state(video_path=temp_dir)\n",
    "\n",
    "        # Process based on frame index\n",
    "        if frame_idx == 0:\n",
    "            # First frame: detect railway and objects with Grounding DINO\n",
    "            dino_boxes, phrases, dino_scores = utility.grounding_Dino_analyzer(\n",
    "                frame_path, model, 'railway . object .', device, BOX_TRESHOLD=BOX_TRESHOLD, TEXT_TRESHOLD=TEXT_TRESHOLD\n",
    "            )\n",
    "\n",
    "            # Find railway box and object points\n",
    "            max_score_railway = 0\n",
    "            object_points = []\n",
    "\n",
    "            for i, phrase in enumerate(phrases):\n",
    "                if phrase == 'railway' and dino_scores[i] > max_score_railway:\n",
    "                    railway_box = dino_boxes[i]\n",
    "                    max_score_railway = dino_scores[i]\n",
    "                elif phrase == 'object':\n",
    "                    x_min, y_min, x_max, y_max = dino_boxes[i]\n",
    "                    object_points.append([(x_min + x_max) // 2, (y_min + y_max) // 2])\n",
    "\n",
    "            print(f\"Found railway: {railway_box is not None}, objects: {len(object_points)}\")\n",
    "\n",
    "            # Add railway to tracking\n",
    "            if railway_box is not None:\n",
    "                _, out_obj_ids, out_mask_logits = video_predictor.add_new_points_or_box(\n",
    "                    inference_state=inference_state,\n",
    "                    frame_idx=0,\n",
    "                    obj_id=ann_obj_id,\n",
    "                    box=railway_box,\n",
    "                )\n",
    "\n",
    "                # Store railway mask\n",
    "                last_masks[ann_obj_id] = (out_mask_logits[0] > 0).cpu().numpy()\n",
    "\n",
    "            # Add detected objects to tracking\n",
    "            for obj_point in object_points:\n",
    "                ann_obj_id += 1\n",
    "                _, out_obj_ids, out_mask_logits = video_predictor.add_new_points_or_box(\n",
    "                    inference_state=inference_state,\n",
    "                    frame_idx=0,\n",
    "                    obj_id=ann_obj_id,\n",
    "                    points=[obj_point],\n",
    "                    labels=np.array([1], np.int32),\n",
    "                )\n",
    "\n",
    "                # Store object mask\n",
    "                idx = list(out_obj_ids).index(ann_obj_id) if ann_obj_id in out_obj_ids else 0\n",
    "                last_masks[ann_obj_id] = (out_mask_logits[idx] > 0).cpu().numpy()\n",
    "        else:\n",
    "            # For non-first frames, transfer objects from previous frame\n",
    "            for obj_id, mask in last_masks.items():\n",
    "                # Convert mask to proper format and find center point\n",
    "                mask_array = np.asarray(mask)\n",
    "                if mask_array.ndim > 2:\n",
    "                    mask_array = mask_array.squeeze()\n",
    "                    if mask_array.ndim > 2:\n",
    "                        mask_array = mask_array[0]\n",
    "\n",
    "                # Find non-zero coordinates (points inside the mask)\n",
    "                y_indices, x_indices = np.where(mask_array > 0)\n",
    "\n",
    "                if len(y_indices) > 0:\n",
    "                    # Use center of mass as representative point\n",
    "                    center_y = int(np.mean(y_indices))\n",
    "                    center_x = int(np.mean(x_indices))\n",
    "\n",
    "                    # Special handling for railway (can use box instead of point)\n",
    "                    if obj_id == 1 and railway_box is not None:\n",
    "                        _, _, _ = video_predictor.add_new_points_or_box(\n",
    "                            inference_state=inference_state,\n",
    "                            frame_idx=0,\n",
    "                            obj_id=obj_id,\n",
    "                            box=railway_box,\n",
    "                        )\n",
    "                    else:\n",
    "                        # Add object using its center point\n",
    "                        _, _, _ = video_predictor.add_new_points_or_box(\n",
    "                            inference_state=inference_state,\n",
    "                            frame_idx=0,\n",
    "                            obj_id=obj_id,\n",
    "                            points=[[center_x, center_y]],\n",
    "                            labels=np.array([1], np.int32),\n",
    "                        )\n",
    "\n",
    "        # Propagate all objects in current frame\n",
    "        result = next(video_predictor.propagate_in_video(\n",
    "            inference_state,\n",
    "            start_frame_idx=0\n",
    "        ))\n",
    "        _, out_obj_ids, out_mask_logits = result\n",
    "\n",
    "        # Update all masks for next frame\n",
    "        for i, obj_id in enumerate(out_obj_ids):\n",
    "            last_masks[obj_id] = (out_mask_logits[i] > 0).cpu().numpy()\n",
    "\n",
    "        # Check for new objects periodically\n",
    "        if frame_idx % 15 == 0 and frame_idx > 0:\n",
    "            dino_boxes, phrases, _ = utility.grounding_Dino_analyzer(\n",
    "                frame_path, model, 'object .', device, BOX_TRESHOLD=BOX_TRESHOLD, TEXT_TRESHOLD=TEXT_TRESHOLD\n",
    "            )\n",
    "\n",
    "            # Check each detected object\n",
    "            for i, phrase in enumerate(phrases):\n",
    "                if phrase == 'object':\n",
    "                    x_min, y_min, x_max, y_max = dino_boxes[i]\n",
    "                    center_x = (x_min + x_max) // 2\n",
    "                    center_y = (y_min + y_max) // 2\n",
    "\n",
    "                    # Check if this object is already tracked\n",
    "                    already_tracked = False\n",
    "                    for mask in last_masks.values():\n",
    "                        mask_array = np.asarray(mask)\n",
    "                        if mask_array.ndim > 2:\n",
    "                            mask_array = mask_array.squeeze()\n",
    "                            if mask_array.ndim > 2:\n",
    "                                mask_array = mask_array[0]\n",
    "\n",
    "                        # Check if point is inside any existing mask\n",
    "                        if (0 <= int(center_y) < mask_array.shape[0] and\n",
    "                          0 <= int(center_x) < mask_array.shape[1] and\n",
    "                            mask_array[int(center_y), int(center_x)]):\n",
    "                            already_tracked = True\n",
    "                            break\n",
    "\n",
    "                    # Add new object if not already tracked\n",
    "                    if not already_tracked:\n",
    "                        ann_obj_id += 1\n",
    "                        print(f\"New object {ann_obj_id} detected at frame {frame_idx}\")\n",
    "\n",
    "                        _, out_obj_ids, out_mask_logits = video_predictor.add_new_points_or_box(\n",
    "                            inference_state=inference_state,\n",
    "                            frame_idx=0,\n",
    "                            obj_id=ann_obj_id,\n",
    "                            points=[[center_x, center_y]],\n",
    "                            labels=np.array([1], np.int32),\n",
    "                        )\n",
    "\n",
    "                        # Re-propagate with the new object\n",
    "                        result = next(video_predictor.propagate_in_video(\n",
    "                            inference_state,\n",
    "                            start_frame_idx=0\n",
    "                        ))\n",
    "                        _, out_obj_ids, out_mask_logits = result\n",
    "\n",
    "                        # Update masks dictionary\n",
    "                        for i, obj_id in enumerate(out_obj_ids):\n",
    "                            last_masks[obj_id] = (out_mask_logits[i] > 0).cpu().numpy()\n",
    "\n",
    "        # Create visualization\n",
    "        plt.figure(figsize=(8, 6))\n",
    "        plt.imshow(frame_rgb)\n",
    "        for obj_id, mask in last_masks.items():\n",
    "            utility.show_mask_v(mask, plt.gca(), obj_id=obj_id)\n",
    "        plt.savefig(os.path.join(segmented_video_dir, f\"frame_{frame_idx:06d}.jpg\"))\n",
    "        plt.close()\n",
    "\n",
    "        # Calculate processing time\n",
    "        processing_time = time.time() - start_time\n",
    "        print(f\"Frame processed in {processing_time:.2f}s\")\n",
    "\n",
    "        # Increment frame counter\n",
    "        frame_idx += 1\n",
    "\n",
    "        # Clear memory for next iteration\n",
    "        del inference_state\n",
    "        gc.collect()\n",
    "        torch.cuda.empty_cache()\n",
    "\n",
    "except (KeyboardInterrupt, SystemExit):\n",
    "    print(\"Exiting gracefully...\")\n",
    "finally:\n",
    "    # Release resources\n",
    "    cap.release()\n",
    "\n",
    "    # Clean up temp directory\n",
    "    for file in os.listdir(temp_dir):\n",
    "        os.remove(os.path.join(temp_dir, file))\n",
    "    os.rmdir(temp_dir)\n",
    "\n",
    "    print(f\"Processing completed or interrupted after {frame_idx} frames\")"
   ],
   "id": "5db02e4d29f104d8",
   "outputs": [
    {
     "name": "stdout",
     "output_type": "stream",
     "text": [
      "Video stream at 25.0 FPS, resolution: 640x512\n",
      "\n",
      "--- Processing frame 0 ---\n"
     ]
    },
    {
     "name": "stderr",
     "output_type": "stream",
     "text": [
      "frame loading (JPEG): 100%|██████████| 1/1 [00:00<00:00, 29.04it/s]\n",
      "FutureWarning: The `device` argument is deprecated and will be removed in v5 of Transformers.\n",
      "UserWarning: torch.utils.checkpoint: the use_reentrant parameter should be passed explicitly. In version 2.5 we will raise an exception if use_reentrant is not passed. use_reentrant=False is recommended, but if you need to preserve the current default behavior, you can pass use_reentrant=True. Refer to docs for more details on the differences between the two variants.\n",
      "UserWarning: None of the inputs have requires_grad=True. Gradients will be None\n"
     ]
    },
    {
     "name": "stdout",
     "output_type": "stream",
     "text": [
      "Analysis with Grounding Dino\n"
     ]
    },
    {
     "name": "stderr",
     "output_type": "stream",
     "text": [
      "FutureWarning: `torch.cuda.amp.autocast(args...)` is deprecated. Please use `torch.amp.autocast('cuda', args...)` instead.\n"
     ]
    },
    {
     "name": "stdout",
     "output_type": "stream",
     "text": [
      "['railway', 'object', 'object'] tensor([0.7364, 0.5972, 0.3127])\n",
      "Found railway: True, objects: 2\n"
     ]
    },
    {
     "name": "stderr",
     "output_type": "stream",
     "text": [
      "propagate in video:   0%|          | 0/1 [00:00<?, ?it/s]\n"
     ]
    },
    {
     "name": "stdout",
     "output_type": "stream",
     "text": [
      "Frame processed in 1.66s\n",
      "\n",
      "--- Processing frame 1 ---\n"
     ]
    },
    {
     "name": "stderr",
     "output_type": "stream",
     "text": [
      "frame loading (JPEG): 100%|██████████| 1/1 [00:00<00:00, 30.51it/s]\n",
      "propagate in video:   0%|          | 0/1 [00:00<?, ?it/s]\n",
      "\n",
      "propagate in video:   0%|          | 0/1 [00:00<?, ?it/s]\n"
     ]
    },
    {
     "name": "stdout",
     "output_type": "stream",
     "text": [
      "Frame processed in 0.92s\n",
      "\n",
      "--- Processing frame 143 ---\n"
     ]
    },
    {
     "name": "stderr",
     "output_type": "stream",
     "text": [
      "frame loading (JPEG): 100%|██████████| 1/1 [00:00<00:00, 21.54it/s]\n",
      "propagate in video:   0%|          | 0/1 [00:00<?, ?it/s]\n"
     ]
    },
    {
     "name": "stdout",
     "output_type": "stream",
     "text": [
      "Frame processed in 0.87s\n",
      "\n",
      "--- Processing frame 144 ---\n"
     ]
    },
    {
     "name": "stderr",
     "output_type": "stream",
     "text": [
      "frame loading (JPEG): 100%|██████████| 1/1 [00:00<00:00, 21.96it/s]\n",
      "propagate in video:   0%|          | 0/1 [00:00<?, ?it/s]\n"
     ]
    },
    {
     "name": "stdout",
     "output_type": "stream",
     "text": [
      "Frame processed in 0.85s\n",
      "\n",
      "--- Processing frame 145 ---\n"
     ]
    },
    {
     "name": "stderr",
     "output_type": "stream",
     "text": [
      "frame loading (JPEG): 100%|██████████| 1/1 [00:00<00:00, 29.09it/s]\n",
      "propagate in video:   0%|          | 0/1 [00:00<?, ?it/s]\n"
     ]
    },
    {
     "name": "stdout",
     "output_type": "stream",
     "text": [
      "Frame processed in 0.89s\n",
      "\n",
      "--- Processing frame 146 ---\n"
     ]
    },
    {
     "name": "stderr",
     "output_type": "stream",
     "text": [
      "frame loading (JPEG): 100%|██████████| 1/1 [00:00<00:00, 27.95it/s]\n",
      "propagate in video:   0%|          | 0/1 [00:00<?, ?it/s]\n"
     ]
    },
    {
     "name": "stdout",
     "output_type": "stream",
     "text": [
      "Frame processed in 0.85s\n",
      "\n",
      "--- Processing frame 147 ---\n"
     ]
    },
    {
     "name": "stderr",
     "output_type": "stream",
     "text": [
      "frame loading (JPEG): 100%|██████████| 1/1 [00:00<00:00, 21.82it/s]\n",
      "propagate in video:   0%|          | 0/1 [00:00<?, ?it/s]\n"
     ]
    },
    {
     "name": "stdout",
     "output_type": "stream",
     "text": [
      "Frame processed in 0.87s\n",
      "\n",
      "--- Processing frame 148 ---\n"
     ]
    },
    {
     "name": "stderr",
     "output_type": "stream",
     "text": [
      "frame loading (JPEG): 100%|██████████| 1/1 [00:00<00:00, 27.14it/s]\n",
      "propagate in video:   0%|          | 0/1 [00:00<?, ?it/s]\n"
     ]
    },
    {
     "name": "stdout",
     "output_type": "stream",
     "text": [
      "Frame processed in 0.86s\n",
      "\n",
      "--- Processing frame 149 ---\n"
     ]
    },
    {
     "name": "stderr",
     "output_type": "stream",
     "text": [
      "frame loading (JPEG): 100%|██████████| 1/1 [00:00<00:00, 28.82it/s]\n",
      "propagate in video:   0%|          | 0/1 [00:00<?, ?it/s]\n"
     ]
    },
    {
     "name": "stdout",
     "output_type": "stream",
     "text": [
      "Frame processed in 0.83s\n",
      "\n",
      "--- Processing frame 150 ---\n"
     ]
    },
    {
     "name": "stderr",
     "output_type": "stream",
     "text": [
      "frame loading (JPEG): 100%|██████████| 1/1 [00:00<00:00, 29.20it/s]\n",
      "propagate in video:   0%|          | 0/1 [00:00<?, ?it/s]\n",
      "FutureWarning: The `device` argument is deprecated and will be removed in v5 of Transformers.\n",
      "UserWarning: torch.utils.checkpoint: the use_reentrant parameter should be passed explicitly. In version 2.5 we will raise an exception if use_reentrant is not passed. use_reentrant=False is recommended, but if you need to preserve the current default behavior, you can pass use_reentrant=True. Refer to docs for more details on the differences between the two variants.\n",
      "UserWarning: None of the inputs have requires_grad=True. Gradients will be None\n"
     ]
    },
    {
     "name": "stdout",
     "output_type": "stream",
     "text": [
      "Analysis with Grounding Dino\n"
     ]
    },
    {
     "name": "stderr",
     "output_type": "stream",
     "text": [
      "FutureWarning: `torch.cuda.amp.autocast(args...)` is deprecated. Please use `torch.amp.autocast('cuda', args...)` instead.\n"
     ]
    },
    {
     "name": "stdout",
     "output_type": "stream",
     "text": [
      "['object', 'object'] tensor([0.6623, 0.3529])\n",
      "Frame processed in 1.35s\n",
      "\n",
      "--- Processing frame 151 ---\n"
     ]
    },
    {
     "name": "stderr",
     "output_type": "stream",
     "text": [
      "frame loading (JPEG): 100%|██████████| 1/1 [00:00<00:00, 23.05it/s]\n",
      "propagate in video:   0%|          | 0/1 [00:00<?, ?it/s]\n"
     ]
    },
    {
     "name": "stdout",
     "output_type": "stream",
     "text": [
      "Frame processed in 0.90s\n",
      "\n",
      "--- Processing frame 152 ---\n"
     ]
    },
    {
     "name": "stderr",
     "output_type": "stream",
     "text": [
      "frame loading (JPEG): 100%|██████████| 1/1 [00:00<00:00, 23.09it/s]\n",
      "propagate in video:   0%|          | 0/1 [00:00<?, ?it/s]\n"
     ]
    },
    {
     "name": "stdout",
     "output_type": "stream",
     "text": [
      "Frame processed in 0.87s\n",
      "\n",
      "--- Processing frame 153 ---\n"
     ]
    },
    {
     "name": "stderr",
     "output_type": "stream",
     "text": [
      "frame loading (JPEG): 100%|██████████| 1/1 [00:00<00:00, 25.69it/s]\n",
      "propagate in video:   0%|          | 0/1 [00:00<?, ?it/s]\n"
     ]
    },
    {
     "name": "stdout",
     "output_type": "stream",
     "text": [
      "Frame processed in 0.84s\n",
      "\n",
      "--- Processing frame 154 ---\n"
     ]
    },
    {
     "name": "stderr",
     "output_type": "stream",
     "text": [
      "frame loading (JPEG): 100%|██████████| 1/1 [00:00<00:00, 25.96it/s]\n",
      "propagate in video:   0%|          | 0/1 [00:00<?, ?it/s]\n"
     ]
    },
    {
     "name": "stdout",
     "output_type": "stream",
     "text": [
      "Frame processed in 0.84s\n",
      "\n",
      "--- Processing frame 155 ---\n"
     ]
    },
    {
     "name": "stderr",
     "output_type": "stream",
     "text": [
      "frame loading (JPEG): 100%|██████████| 1/1 [00:00<00:00, 26.96it/s]\n",
      "propagate in video:   0%|          | 0/1 [00:00<?, ?it/s]\n"
     ]
    },
    {
     "name": "stdout",
     "output_type": "stream",
     "text": [
      "Frame processed in 0.88s\n",
      "\n",
      "--- Processing frame 156 ---\n"
     ]
    },
    {
     "name": "stderr",
     "output_type": "stream",
     "text": [
      "frame loading (JPEG): 100%|██████████| 1/1 [00:00<00:00, 29.13it/s]\n",
      "propagate in video:   0%|          | 0/1 [00:00<?, ?it/s]\n"
     ]
    },
    {
     "name": "stdout",
     "output_type": "stream",
     "text": [
      "Frame processed in 0.92s\n",
      "\n",
      "--- Processing frame 157 ---\n"
     ]
    },
    {
     "name": "stderr",
     "output_type": "stream",
     "text": [
      "frame loading (JPEG): 100%|██████████| 1/1 [00:00<00:00, 27.68it/s]\n",
      "propagate in video:   0%|          | 0/1 [00:00<?, ?it/s]\n"
     ]
    },
    {
     "name": "stdout",
     "output_type": "stream",
     "text": [
      "Frame processed in 0.86s\n",
      "\n",
      "--- Processing frame 158 ---\n"
     ]
    },
    {
     "name": "stderr",
     "output_type": "stream",
     "text": [
      "frame loading (JPEG): 100%|██████████| 1/1 [00:00<00:00, 26.92it/s]\n",
      "propagate in video:   0%|          | 0/1 [00:00<?, ?it/s]\n"
     ]
    },
    {
     "name": "stdout",
     "output_type": "stream",
     "text": [
      "Frame processed in 0.84s\n",
      "\n",
      "--- Processing frame 159 ---\n"
     ]
    },
    {
     "name": "stderr",
     "output_type": "stream",
     "text": [
      "frame loading (JPEG): 100%|██████████| 1/1 [00:00<00:00, 22.10it/s]\n",
      "propagate in video:   0%|          | 0/1 [00:00<?, ?it/s]\n"
     ]
    },
    {
     "name": "stdout",
     "output_type": "stream",
     "text": [
      "Frame processed in 0.85s\n",
      "\n",
      "--- Processing frame 160 ---\n"
     ]
    },
    {
     "name": "stderr",
     "output_type": "stream",
     "text": [
      "frame loading (JPEG): 100%|██████████| 1/1 [00:00<00:00, 25.70it/s]\n",
      "propagate in video:   0%|          | 0/1 [00:00<?, ?it/s]\n"
     ]
    },
    {
     "name": "stdout",
     "output_type": "stream",
     "text": [
      "Frame processed in 0.90s\n",
      "\n",
      "--- Processing frame 161 ---\n"
     ]
    },
    {
     "name": "stderr",
     "output_type": "stream",
     "text": [
      "frame loading (JPEG): 100%|██████████| 1/1 [00:00<00:00, 27.19it/s]\n",
      "propagate in video:   0%|          | 0/1 [00:00<?, ?it/s]\n"
     ]
    },
    {
     "name": "stdout",
     "output_type": "stream",
     "text": [
      "Frame processed in 0.86s\n",
      "\n",
      "--- Processing frame 162 ---\n"
     ]
    },
    {
     "name": "stderr",
     "output_type": "stream",
     "text": [
      "frame loading (JPEG): 100%|██████████| 1/1 [00:00<00:00, 28.36it/s]\n",
      "propagate in video:   0%|          | 0/1 [00:00<?, ?it/s]\n"
     ]
    },
    {
     "name": "stdout",
     "output_type": "stream",
     "text": [
      "Frame processed in 0.85s\n",
      "\n",
      "--- Processing frame 163 ---\n"
     ]
    },
    {
     "name": "stderr",
     "output_type": "stream",
     "text": [
      "frame loading (JPEG): 100%|██████████| 1/1 [00:00<00:00, 26.64it/s]\n",
      "propagate in video:   0%|          | 0/1 [00:00<?, ?it/s]\n"
     ]
    },
    {
     "name": "stdout",
     "output_type": "stream",
     "text": [
      "Frame processed in 0.83s\n",
      "\n",
      "--- Processing frame 164 ---\n"
     ]
    },
    {
     "name": "stderr",
     "output_type": "stream",
     "text": [
      "frame loading (JPEG): 100%|██████████| 1/1 [00:00<00:00, 23.49it/s]\n",
      "propagate in video:   0%|          | 0/1 [00:00<?, ?it/s]\n"
     ]
    },
    {
     "name": "stdout",
     "output_type": "stream",
     "text": [
      "Frame processed in 0.96s\n",
      "\n",
      "--- Processing frame 165 ---\n"
     ]
    },
    {
     "name": "stderr",
     "output_type": "stream",
     "text": [
      "frame loading (JPEG): 100%|██████████| 1/1 [00:00<00:00, 26.47it/s]\n",
      "propagate in video:   0%|          | 0/1 [00:00<?, ?it/s]\n",
      "FutureWarning: The `device` argument is deprecated and will be removed in v5 of Transformers.\n",
      "UserWarning: torch.utils.checkpoint: the use_reentrant parameter should be passed explicitly. In version 2.5 we will raise an exception if use_reentrant is not passed. use_reentrant=False is recommended, but if you need to preserve the current default behavior, you can pass use_reentrant=True. Refer to docs for more details on the differences between the two variants.\n",
      "UserWarning: None of the inputs have requires_grad=True. Gradients will be None\n"
     ]
    },
    {
     "name": "stdout",
     "output_type": "stream",
     "text": [
      "Analysis with Grounding Dino\n"
     ]
    },
    {
     "name": "stderr",
     "output_type": "stream",
     "text": [
      "FutureWarning: `torch.cuda.amp.autocast(args...)` is deprecated. Please use `torch.amp.autocast('cuda', args...)` instead.\n"
     ]
    },
    {
     "name": "stdout",
     "output_type": "stream",
     "text": [
      "['object', 'object'] tensor([0.6710, 0.3427])\n",
      "Frame processed in 1.40s\n",
      "\n",
      "--- Processing frame 166 ---\n"
     ]
    },
    {
     "name": "stderr",
     "output_type": "stream",
     "text": [
      "frame loading (JPEG): 100%|██████████| 1/1 [00:00<00:00, 20.19it/s]\n",
      "propagate in video:   0%|          | 0/1 [00:00<?, ?it/s]\n"
     ]
    },
    {
     "name": "stdout",
     "output_type": "stream",
     "text": [
      "Frame processed in 0.88s\n",
      "\n",
      "--- Processing frame 167 ---\n"
     ]
    },
    {
     "name": "stderr",
     "output_type": "stream",
     "text": [
      "frame loading (JPEG): 100%|██████████| 1/1 [00:00<00:00, 27.94it/s]\n",
      "propagate in video:   0%|          | 0/1 [00:00<?, ?it/s]\n"
     ]
    },
    {
     "name": "stdout",
     "output_type": "stream",
     "text": [
      "Frame processed in 0.95s\n",
      "\n",
      "--- Processing frame 168 ---\n"
     ]
    },
    {
     "name": "stderr",
     "output_type": "stream",
     "text": [
      "frame loading (JPEG): 100%|██████████| 1/1 [00:00<00:00, 27.44it/s]\n",
      "propagate in video:   0%|          | 0/1 [00:00<?, ?it/s]\n"
     ]
    },
    {
     "name": "stdout",
     "output_type": "stream",
     "text": [
      "Frame processed in 0.88s\n",
      "\n",
      "--- Processing frame 169 ---\n"
     ]
    },
    {
     "name": "stderr",
     "output_type": "stream",
     "text": [
      "frame loading (JPEG): 100%|██████████| 1/1 [00:00<00:00, 23.12it/s]\n",
      "propagate in video:   0%|          | 0/1 [00:00<?, ?it/s]\n"
     ]
    },
    {
     "name": "stdout",
     "output_type": "stream",
     "text": [
      "Frame processed in 0.90s\n",
      "\n",
      "--- Processing frame 170 ---\n"
     ]
    },
    {
     "name": "stderr",
     "output_type": "stream",
     "text": [
      "frame loading (JPEG): 100%|██████████| 1/1 [00:00<00:00, 28.74it/s]\n",
      "propagate in video:   0%|          | 0/1 [00:00<?, ?it/s]\n"
     ]
    },
    {
     "name": "stdout",
     "output_type": "stream",
     "text": [
      "Frame processed in 0.87s\n",
      "\n",
      "--- Processing frame 171 ---\n"
     ]
    },
    {
     "name": "stderr",
     "output_type": "stream",
     "text": [
      "frame loading (JPEG): 100%|██████████| 1/1 [00:00<00:00, 24.17it/s]\n",
      "propagate in video:   0%|          | 0/1 [00:00<?, ?it/s]\n"
     ]
    },
    {
     "name": "stdout",
     "output_type": "stream",
     "text": [
      "Frame processed in 0.86s\n",
      "\n",
      "--- Processing frame 172 ---\n"
     ]
    },
    {
     "name": "stderr",
     "output_type": "stream",
     "text": [
      "frame loading (JPEG): 100%|██████████| 1/1 [00:00<00:00, 23.42it/s]\n",
      "propagate in video:   0%|          | 0/1 [00:00<?, ?it/s]\n"
     ]
    },
    {
     "name": "stdout",
     "output_type": "stream",
     "text": [
      "Frame processed in 0.86s\n",
      "\n",
      "--- Processing frame 173 ---\n"
     ]
    },
    {
     "name": "stderr",
     "output_type": "stream",
     "text": [
      "frame loading (JPEG): 100%|██████████| 1/1 [00:00<00:00, 27.89it/s]\n",
      "propagate in video:   0%|          | 0/1 [00:00<?, ?it/s]\n"
     ]
    },
    {
     "name": "stdout",
     "output_type": "stream",
     "text": [
      "Frame processed in 0.85s\n",
      "\n",
      "--- Processing frame 174 ---\n"
     ]
    },
    {
     "name": "stderr",
     "output_type": "stream",
     "text": [
      "frame loading (JPEG): 100%|██████████| 1/1 [00:00<00:00, 27.29it/s]\n",
      "propagate in video:   0%|          | 0/1 [00:00<?, ?it/s]\n"
     ]
    },
    {
     "name": "stdout",
     "output_type": "stream",
     "text": [
      "Frame processed in 0.87s\n",
      "\n",
      "--- Processing frame 175 ---\n"
     ]
    },
    {
     "name": "stderr",
     "output_type": "stream",
     "text": [
      "frame loading (JPEG): 100%|██████████| 1/1 [00:00<00:00, 23.78it/s]\n",
      "propagate in video:   0%|          | 0/1 [00:00<?, ?it/s]\n"
     ]
    },
    {
     "name": "stdout",
     "output_type": "stream",
     "text": [
      "Frame processed in 0.93s\n",
      "\n",
      "--- Processing frame 176 ---\n"
     ]
    },
    {
     "name": "stderr",
     "output_type": "stream",
     "text": [
      "frame loading (JPEG): 100%|██████████| 1/1 [00:00<00:00, 27.26it/s]\n",
      "propagate in video:   0%|          | 0/1 [00:00<?, ?it/s]\n"
     ]
    },
    {
     "name": "stdout",
     "output_type": "stream",
     "text": [
      "Frame processed in 0.86s\n",
      "\n",
      "--- Processing frame 177 ---\n"
     ]
    },
    {
     "name": "stderr",
     "output_type": "stream",
     "text": [
      "frame loading (JPEG): 100%|██████████| 1/1 [00:00<00:00, 26.89it/s]\n",
      "propagate in video:   0%|          | 0/1 [00:00<?, ?it/s]\n"
     ]
    },
    {
     "name": "stdout",
     "output_type": "stream",
     "text": [
      "Frame processed in 0.85s\n",
      "\n",
      "--- Processing frame 178 ---\n"
     ]
    },
    {
     "name": "stderr",
     "output_type": "stream",
     "text": [
      "frame loading (JPEG): 100%|██████████| 1/1 [00:00<00:00, 25.46it/s]\n",
      "propagate in video:   0%|          | 0/1 [00:00<?, ?it/s]\n"
     ]
    },
    {
     "name": "stdout",
     "output_type": "stream",
     "text": [
      "Frame processed in 0.86s\n",
      "\n",
      "--- Processing frame 179 ---\n"
     ]
    },
    {
     "name": "stderr",
     "output_type": "stream",
     "text": [
      "frame loading (JPEG): 100%|██████████| 1/1 [00:00<00:00, 25.69it/s]\n",
      "propagate in video:   0%|          | 0/1 [00:00<?, ?it/s]\n"
     ]
    },
    {
     "name": "stdout",
     "output_type": "stream",
     "text": [
      "Frame processed in 0.88s\n",
      "\n",
      "--- Processing frame 180 ---\n"
     ]
    },
    {
     "name": "stderr",
     "output_type": "stream",
     "text": [
      "frame loading (JPEG): 100%|██████████| 1/1 [00:00<00:00, 26.22it/s]\n",
      "propagate in video:   0%|          | 0/1 [00:00<?, ?it/s]\n",
      "FutureWarning: The `device` argument is deprecated and will be removed in v5 of Transformers.\n",
      "UserWarning: torch.utils.checkpoint: the use_reentrant parameter should be passed explicitly. In version 2.5 we will raise an exception if use_reentrant is not passed. use_reentrant=False is recommended, but if you need to preserve the current default behavior, you can pass use_reentrant=True. Refer to docs for more details on the differences between the two variants.\n",
      "UserWarning: None of the inputs have requires_grad=True. Gradients will be None\n"
     ]
    },
    {
     "name": "stdout",
     "output_type": "stream",
     "text": [
      "Analysis with Grounding Dino\n"
     ]
    },
    {
     "name": "stderr",
     "output_type": "stream",
     "text": [
      "FutureWarning: `torch.cuda.amp.autocast(args...)` is deprecated. Please use `torch.amp.autocast('cuda', args...)` instead.\n"
     ]
    },
    {
     "name": "stdout",
     "output_type": "stream",
     "text": [
      "['object', 'object'] tensor([0.6634, 0.3602])\n",
      "Frame processed in 1.53s\n",
      "\n",
      "--- Processing frame 181 ---\n"
     ]
    },
    {
     "name": "stderr",
     "output_type": "stream",
     "text": [
      "frame loading (JPEG): 100%|██████████| 1/1 [00:00<00:00, 13.58it/s]\n",
      "propagate in video:   0%|          | 0/1 [00:00<?, ?it/s]\n"
     ]
    },
    {
     "name": "stdout",
     "output_type": "stream",
     "text": [
      "Frame processed in 1.15s\n",
      "\n",
      "--- Processing frame 182 ---\n"
     ]
    },
    {
     "name": "stderr",
     "output_type": "stream",
     "text": [
      "frame loading (JPEG): 100%|██████████| 1/1 [00:00<00:00, 22.16it/s]\n",
      "propagate in video:   0%|          | 0/1 [00:00<?, ?it/s]\n"
     ]
    },
    {
     "name": "stdout",
     "output_type": "stream",
     "text": [
      "Frame processed in 1.21s\n",
      "\n",
      "--- Processing frame 183 ---\n"
     ]
    },
    {
     "name": "stderr",
     "output_type": "stream",
     "text": [
      "frame loading (JPEG): 100%|██████████| 1/1 [00:00<00:00, 21.53it/s]\n",
      "propagate in video:   0%|          | 0/1 [00:00<?, ?it/s]\n"
     ]
    },
    {
     "name": "stdout",
     "output_type": "stream",
     "text": [
      "Frame processed in 0.97s\n",
      "\n",
      "--- Processing frame 184 ---\n"
     ]
    },
    {
     "name": "stderr",
     "output_type": "stream",
     "text": [
      "frame loading (JPEG): 100%|██████████| 1/1 [00:00<00:00, 18.55it/s]\n",
      "propagate in video:   0%|          | 0/1 [00:00<?, ?it/s]\n"
     ]
    },
    {
     "name": "stdout",
     "output_type": "stream",
     "text": [
      "Frame processed in 0.90s\n",
      "\n",
      "--- Processing frame 185 ---\n"
     ]
    },
    {
     "name": "stderr",
     "output_type": "stream",
     "text": [
      "frame loading (JPEG): 100%|██████████| 1/1 [00:00<00:00, 26.11it/s]\n",
      "propagate in video:   0%|          | 0/1 [00:00<?, ?it/s]\n"
     ]
    },
    {
     "name": "stdout",
     "output_type": "stream",
     "text": [
      "Frame processed in 0.87s\n",
      "\n",
      "--- Processing frame 186 ---\n"
     ]
    },
    {
     "name": "stderr",
     "output_type": "stream",
     "text": [
      "frame loading (JPEG): 100%|██████████| 1/1 [00:00<00:00, 20.65it/s]\n",
      "propagate in video:   0%|          | 0/1 [00:00<?, ?it/s]\n"
     ]
    },
    {
     "name": "stdout",
     "output_type": "stream",
     "text": [
      "Frame processed in 0.94s\n",
      "\n",
      "--- Processing frame 187 ---\n"
     ]
    },
    {
     "name": "stderr",
     "output_type": "stream",
     "text": [
      "frame loading (JPEG): 100%|██████████| 1/1 [00:00<00:00, 27.01it/s]\n",
      "propagate in video:   0%|          | 0/1 [00:00<?, ?it/s]\n"
     ]
    },
    {
     "name": "stdout",
     "output_type": "stream",
     "text": [
      "Frame processed in 0.86s\n",
      "\n",
      "--- Processing frame 188 ---\n"
     ]
    },
    {
     "name": "stderr",
     "output_type": "stream",
     "text": [
      "frame loading (JPEG): 100%|██████████| 1/1 [00:00<00:00, 27.93it/s]\n",
      "propagate in video:   0%|          | 0/1 [00:00<?, ?it/s]\n"
     ]
    },
    {
     "name": "stdout",
     "output_type": "stream",
     "text": [
      "Frame processed in 0.89s\n",
      "\n",
      "--- Processing frame 189 ---\n"
     ]
    },
    {
     "name": "stderr",
     "output_type": "stream",
     "text": [
      "frame loading (JPEG): 100%|██████████| 1/1 [00:00<00:00, 28.58it/s]\n",
      "propagate in video:   0%|          | 0/1 [00:00<?, ?it/s]\n"
     ]
    },
    {
     "name": "stdout",
     "output_type": "stream",
     "text": [
      "Frame processed in 0.89s\n",
      "\n",
      "--- Processing frame 190 ---\n"
     ]
    },
    {
     "name": "stderr",
     "output_type": "stream",
     "text": [
      "frame loading (JPEG): 100%|██████████| 1/1 [00:00<00:00, 28.07it/s]\n",
      "propagate in video:   0%|          | 0/1 [00:00<?, ?it/s]\n"
     ]
    },
    {
     "name": "stdout",
     "output_type": "stream",
     "text": [
      "Frame processed in 0.97s\n",
      "\n",
      "--- Processing frame 191 ---\n"
     ]
    },
    {
     "name": "stderr",
     "output_type": "stream",
     "text": [
      "frame loading (JPEG): 100%|██████████| 1/1 [00:00<00:00, 28.71it/s]\n",
      "propagate in video:   0%|          | 0/1 [00:00<?, ?it/s]\n"
     ]
    },
    {
     "name": "stdout",
     "output_type": "stream",
     "text": [
      "Frame processed in 0.95s\n",
      "\n",
      "--- Processing frame 192 ---\n"
     ]
    },
    {
     "name": "stderr",
     "output_type": "stream",
     "text": [
      "frame loading (JPEG): 100%|██████████| 1/1 [00:00<00:00, 23.34it/s]\n",
      "propagate in video:   0%|          | 0/1 [00:00<?, ?it/s]\n"
     ]
    },
    {
     "name": "stdout",
     "output_type": "stream",
     "text": [
      "Frame processed in 0.88s\n",
      "\n",
      "--- Processing frame 193 ---\n"
     ]
    },
    {
     "name": "stderr",
     "output_type": "stream",
     "text": [
      "frame loading (JPEG): 100%|██████████| 1/1 [00:00<00:00, 28.58it/s]\n",
      "propagate in video:   0%|          | 0/1 [00:00<?, ?it/s]\n"
     ]
    },
    {
     "name": "stdout",
     "output_type": "stream",
     "text": [
      "Frame processed in 0.90s\n",
      "\n",
      "--- Processing frame 194 ---\n"
     ]
    },
    {
     "name": "stderr",
     "output_type": "stream",
     "text": [
      "frame loading (JPEG): 100%|██████████| 1/1 [00:00<00:00, 24.25it/s]\n",
      "propagate in video:   0%|          | 0/1 [00:00<?, ?it/s]\n"
     ]
    },
    {
     "name": "stdout",
     "output_type": "stream",
     "text": [
      "Frame processed in 0.89s\n",
      "\n",
      "--- Processing frame 195 ---\n"
     ]
    },
    {
     "name": "stderr",
     "output_type": "stream",
     "text": [
      "frame loading (JPEG): 100%|██████████| 1/1 [00:00<00:00, 24.59it/s]\n",
      "propagate in video:   0%|          | 0/1 [00:00<?, ?it/s]\n",
      "FutureWarning: The `device` argument is deprecated and will be removed in v5 of Transformers.\n",
      "UserWarning: torch.utils.checkpoint: the use_reentrant parameter should be passed explicitly. In version 2.5 we will raise an exception if use_reentrant is not passed. use_reentrant=False is recommended, but if you need to preserve the current default behavior, you can pass use_reentrant=True. Refer to docs for more details on the differences between the two variants.\n",
      "UserWarning: None of the inputs have requires_grad=True. Gradients will be None\n"
     ]
    },
    {
     "name": "stdout",
     "output_type": "stream",
     "text": [
      "Analysis with Grounding Dino\n"
     ]
    },
    {
     "name": "stderr",
     "output_type": "stream",
     "text": [
      "FutureWarning: `torch.cuda.amp.autocast(args...)` is deprecated. Please use `torch.amp.autocast('cuda', args...)` instead.\n"
     ]
    },
    {
     "name": "stdout",
     "output_type": "stream",
     "text": [
      "['object', 'object'] tensor([0.7231, 0.3352])\n",
      "Frame processed in 1.42s\n",
      "\n",
      "--- Processing frame 196 ---\n"
     ]
    },
    {
     "name": "stderr",
     "output_type": "stream",
     "text": [
      "frame loading (JPEG): 100%|██████████| 1/1 [00:00<00:00, 28.92it/s]\n",
      "propagate in video:   0%|          | 0/1 [00:00<?, ?it/s]\n"
     ]
    },
    {
     "name": "stdout",
     "output_type": "stream",
     "text": [
      "Frame processed in 0.88s\n",
      "\n",
      "--- Processing frame 197 ---\n"
     ]
    },
    {
     "name": "stderr",
     "output_type": "stream",
     "text": [
      "frame loading (JPEG): 100%|██████████| 1/1 [00:00<00:00, 15.43it/s]\n",
      "propagate in video:   0%|          | 0/1 [00:00<?, ?it/s]\n"
     ]
    },
    {
     "name": "stdout",
     "output_type": "stream",
     "text": [
      "Frame processed in 0.99s\n",
      "\n",
      "--- Processing frame 198 ---\n"
     ]
    },
    {
     "name": "stderr",
     "output_type": "stream",
     "text": [
      "frame loading (JPEG): 100%|██████████| 1/1 [00:00<00:00, 22.30it/s]\n",
      "propagate in video:   0%|          | 0/1 [00:00<?, ?it/s]\n"
     ]
    },
    {
     "name": "stdout",
     "output_type": "stream",
     "text": [
      "Frame processed in 0.92s\n",
      "\n",
      "--- Processing frame 199 ---\n"
     ]
    },
    {
     "name": "stderr",
     "output_type": "stream",
     "text": [
      "frame loading (JPEG): 100%|██████████| 1/1 [00:00<00:00, 27.08it/s]\n",
      "propagate in video:   0%|          | 0/1 [00:00<?, ?it/s]\n"
     ]
    },
    {
     "name": "stdout",
     "output_type": "stream",
     "text": [
      "Frame processed in 0.87s\n",
      "\n",
      "--- Processing frame 200 ---\n"
     ]
    },
    {
     "name": "stderr",
     "output_type": "stream",
     "text": [
      "frame loading (JPEG): 100%|██████████| 1/1 [00:00<00:00, 22.90it/s]\n",
      "propagate in video:   0%|          | 0/1 [00:00<?, ?it/s]\n"
     ]
    },
    {
     "name": "stdout",
     "output_type": "stream",
     "text": [
      "Frame processed in 0.89s\n",
      "\n",
      "--- Processing frame 201 ---\n"
     ]
    },
    {
     "name": "stderr",
     "output_type": "stream",
     "text": [
      "frame loading (JPEG): 100%|██████████| 1/1 [00:00<00:00, 21.00it/s]\n",
      "propagate in video:   0%|          | 0/1 [00:00<?, ?it/s]\n"
     ]
    },
    {
     "name": "stdout",
     "output_type": "stream",
     "text": [
      "Frame processed in 0.91s\n",
      "\n",
      "--- Processing frame 202 ---\n"
     ]
    },
    {
     "name": "stderr",
     "output_type": "stream",
     "text": [
      "frame loading (JPEG): 100%|██████████| 1/1 [00:00<00:00, 21.73it/s]\n",
      "propagate in video:   0%|          | 0/1 [00:00<?, ?it/s]\n"
     ]
    },
    {
     "name": "stdout",
     "output_type": "stream",
     "text": [
      "Frame processed in 0.98s\n",
      "\n",
      "--- Processing frame 203 ---\n"
     ]
    },
    {
     "name": "stderr",
     "output_type": "stream",
     "text": [
      "frame loading (JPEG): 100%|██████████| 1/1 [00:00<00:00, 29.84it/s]\n",
      "propagate in video:   0%|          | 0/1 [00:00<?, ?it/s]\n"
     ]
    },
    {
     "name": "stdout",
     "output_type": "stream",
     "text": [
      "Frame processed in 0.87s\n",
      "\n",
      "--- Processing frame 204 ---\n"
     ]
    },
    {
     "name": "stderr",
     "output_type": "stream",
     "text": [
      "frame loading (JPEG): 100%|██████████| 1/1 [00:00<00:00, 21.87it/s]\n",
      "propagate in video:   0%|          | 0/1 [00:00<?, ?it/s]\n"
     ]
    },
    {
     "name": "stdout",
     "output_type": "stream",
     "text": [
      "Frame processed in 0.87s\n",
      "\n",
      "--- Processing frame 205 ---\n"
     ]
    },
    {
     "name": "stderr",
     "output_type": "stream",
     "text": [
      "frame loading (JPEG): 100%|██████████| 1/1 [00:00<00:00, 25.27it/s]\n",
      "propagate in video:   0%|          | 0/1 [00:00<?, ?it/s]\n"
     ]
    },
    {
     "name": "stdout",
     "output_type": "stream",
     "text": [
      "Frame processed in 0.89s\n",
      "\n",
      "--- Processing frame 206 ---\n"
     ]
    },
    {
     "name": "stderr",
     "output_type": "stream",
     "text": [
      "frame loading (JPEG): 100%|██████████| 1/1 [00:00<00:00, 26.84it/s]\n",
      "propagate in video:   0%|          | 0/1 [00:00<?, ?it/s]\n"
     ]
    },
    {
     "name": "stdout",
     "output_type": "stream",
     "text": [
      "Frame processed in 0.87s\n",
      "\n",
      "--- Processing frame 207 ---\n"
     ]
    },
    {
     "name": "stderr",
     "output_type": "stream",
     "text": [
      "frame loading (JPEG): 100%|██████████| 1/1 [00:00<00:00, 23.64it/s]\n",
      "propagate in video:   0%|          | 0/1 [00:00<?, ?it/s]\n"
     ]
    },
    {
     "name": "stdout",
     "output_type": "stream",
     "text": [
      "Frame processed in 0.95s\n",
      "\n",
      "--- Processing frame 208 ---\n"
     ]
    },
    {
     "name": "stderr",
     "output_type": "stream",
     "text": [
      "frame loading (JPEG): 100%|██████████| 1/1 [00:00<00:00, 29.90it/s]\n",
      "propagate in video:   0%|          | 0/1 [00:00<?, ?it/s]\n"
     ]
    },
    {
     "name": "stdout",
     "output_type": "stream",
     "text": [
      "Frame processed in 0.89s\n",
      "\n",
      "--- Processing frame 209 ---\n"
     ]
    },
    {
     "name": "stderr",
     "output_type": "stream",
     "text": [
      "frame loading (JPEG): 100%|██████████| 1/1 [00:00<00:00, 23.95it/s]\n",
      "propagate in video:   0%|          | 0/1 [00:00<?, ?it/s]\n"
     ]
    },
    {
     "name": "stdout",
     "output_type": "stream",
     "text": [
      "Frame processed in 0.90s\n",
      "\n",
      "--- Processing frame 210 ---\n"
     ]
    },
    {
     "name": "stderr",
     "output_type": "stream",
     "text": [
      "frame loading (JPEG): 100%|██████████| 1/1 [00:00<00:00, 29.51it/s]\n",
      "propagate in video:   0%|          | 0/1 [00:00<?, ?it/s]\n",
      "FutureWarning: The `device` argument is deprecated and will be removed in v5 of Transformers.\n",
      "UserWarning: torch.utils.checkpoint: the use_reentrant parameter should be passed explicitly. In version 2.5 we will raise an exception if use_reentrant is not passed. use_reentrant=False is recommended, but if you need to preserve the current default behavior, you can pass use_reentrant=True. Refer to docs for more details on the differences between the two variants.\n",
      "UserWarning: None of the inputs have requires_grad=True. Gradients will be None\n"
     ]
    },
    {
     "name": "stdout",
     "output_type": "stream",
     "text": [
      "Analysis with Grounding Dino\n"
     ]
    },
    {
     "name": "stderr",
     "output_type": "stream",
     "text": [
      "FutureWarning: `torch.cuda.amp.autocast(args...)` is deprecated. Please use `torch.amp.autocast('cuda', args...)` instead.\n"
     ]
    },
    {
     "name": "stdout",
     "output_type": "stream",
     "text": [
      "['object', 'object'] tensor([0.7402, 0.3688])\n",
      "Frame processed in 1.45s\n",
      "\n",
      "--- Processing frame 211 ---\n"
     ]
    },
    {
     "name": "stderr",
     "output_type": "stream",
     "text": [
      "frame loading (JPEG): 100%|██████████| 1/1 [00:00<00:00, 20.05it/s]\n",
      "propagate in video:   0%|          | 0/1 [00:00<?, ?it/s]\n"
     ]
    },
    {
     "name": "stdout",
     "output_type": "stream",
     "text": [
      "Frame processed in 0.94s\n",
      "\n",
      "--- Processing frame 212 ---\n"
     ]
    },
    {
     "name": "stderr",
     "output_type": "stream",
     "text": [
      "frame loading (JPEG): 100%|██████████| 1/1 [00:00<00:00, 19.72it/s]\n",
      "propagate in video:   0%|          | 0/1 [00:00<?, ?it/s]\n"
     ]
    },
    {
     "name": "stdout",
     "output_type": "stream",
     "text": [
      "Frame processed in 1.01s\n",
      "\n",
      "--- Processing frame 213 ---\n"
     ]
    },
    {
     "name": "stderr",
     "output_type": "stream",
     "text": [
      "frame loading (JPEG): 100%|██████████| 1/1 [00:00<00:00, 22.70it/s]\n",
      "propagate in video:   0%|          | 0/1 [00:00<?, ?it/s]\n"
     ]
    },
    {
     "name": "stdout",
     "output_type": "stream",
     "text": [
      "Frame processed in 0.98s\n",
      "\n",
      "--- Processing frame 214 ---\n"
     ]
    },
    {
     "name": "stderr",
     "output_type": "stream",
     "text": [
      "frame loading (JPEG): 100%|██████████| 1/1 [00:00<00:00, 27.33it/s]\n",
      "propagate in video:   0%|          | 0/1 [00:00<?, ?it/s]\n"
     ]
    },
    {
     "name": "stdout",
     "output_type": "stream",
     "text": [
      "Frame processed in 0.90s\n",
      "\n",
      "--- Processing frame 215 ---\n"
     ]
    },
    {
     "name": "stderr",
     "output_type": "stream",
     "text": [
      "frame loading (JPEG): 100%|██████████| 1/1 [00:00<00:00, 30.45it/s]\n",
      "propagate in video:   0%|          | 0/1 [00:00<?, ?it/s]\n"
     ]
    },
    {
     "name": "stdout",
     "output_type": "stream",
     "text": [
      "Frame processed in 0.92s\n",
      "\n",
      "--- Processing frame 216 ---\n"
     ]
    },
    {
     "name": "stderr",
     "output_type": "stream",
     "text": [
      "frame loading (JPEG): 100%|██████████| 1/1 [00:00<00:00, 20.57it/s]\n",
      "propagate in video:   0%|          | 0/1 [00:00<?, ?it/s]\n"
     ]
    },
    {
     "name": "stdout",
     "output_type": "stream",
     "text": [
      "Frame processed in 0.93s\n",
      "\n",
      "--- Processing frame 217 ---\n"
     ]
    },
    {
     "name": "stderr",
     "output_type": "stream",
     "text": [
      "frame loading (JPEG): 100%|██████████| 1/1 [00:00<00:00, 25.23it/s]\n",
      "propagate in video:   0%|          | 0/1 [00:00<?, ?it/s]\n"
     ]
    },
    {
     "name": "stdout",
     "output_type": "stream",
     "text": [
      "Frame processed in 0.89s\n",
      "\n",
      "--- Processing frame 218 ---\n"
     ]
    },
    {
     "name": "stderr",
     "output_type": "stream",
     "text": [
      "frame loading (JPEG): 100%|██████████| 1/1 [00:00<00:00, 21.14it/s]\n",
      "propagate in video:   0%|          | 0/1 [00:00<?, ?it/s]\n"
     ]
    },
    {
     "name": "stdout",
     "output_type": "stream",
     "text": [
      "Frame processed in 0.89s\n",
      "\n",
      "--- Processing frame 219 ---\n"
     ]
    },
    {
     "name": "stderr",
     "output_type": "stream",
     "text": [
      "frame loading (JPEG): 100%|██████████| 1/1 [00:00<00:00, 26.01it/s]\n",
      "propagate in video:   0%|          | 0/1 [00:00<?, ?it/s]\n"
     ]
    },
    {
     "name": "stdout",
     "output_type": "stream",
     "text": [
      "Frame processed in 0.89s\n",
      "\n",
      "--- Processing frame 220 ---\n"
     ]
    },
    {
     "name": "stderr",
     "output_type": "stream",
     "text": [
      "frame loading (JPEG): 100%|██████████| 1/1 [00:00<00:00, 22.58it/s]\n",
      "propagate in video:   0%|          | 0/1 [00:00<?, ?it/s]\n"
     ]
    },
    {
     "name": "stdout",
     "output_type": "stream",
     "text": [
      "Frame processed in 0.94s\n",
      "\n",
      "--- Processing frame 221 ---\n"
     ]
    },
    {
     "name": "stderr",
     "output_type": "stream",
     "text": [
      "frame loading (JPEG): 100%|██████████| 1/1 [00:00<00:00, 28.35it/s]\n",
      "propagate in video:   0%|          | 0/1 [00:00<?, ?it/s]\n"
     ]
    },
    {
     "name": "stdout",
     "output_type": "stream",
     "text": [
      "Frame processed in 0.89s\n",
      "\n",
      "--- Processing frame 222 ---\n"
     ]
    },
    {
     "name": "stderr",
     "output_type": "stream",
     "text": [
      "frame loading (JPEG): 100%|██████████| 1/1 [00:00<00:00, 22.51it/s]\n",
      "propagate in video:   0%|          | 0/1 [00:00<?, ?it/s]\n"
     ]
    },
    {
     "name": "stdout",
     "output_type": "stream",
     "text": [
      "Frame processed in 0.89s\n",
      "\n",
      "--- Processing frame 223 ---\n"
     ]
    },
    {
     "name": "stderr",
     "output_type": "stream",
     "text": [
      "frame loading (JPEG): 100%|██████████| 1/1 [00:00<00:00, 22.08it/s]\n",
      "propagate in video:   0%|          | 0/1 [00:00<?, ?it/s]\n"
     ]
    },
    {
     "name": "stdout",
     "output_type": "stream",
     "text": [
      "Frame processed in 0.90s\n",
      "\n",
      "--- Processing frame 224 ---\n"
     ]
    },
    {
     "name": "stderr",
     "output_type": "stream",
     "text": [
      "frame loading (JPEG): 100%|██████████| 1/1 [00:00<00:00, 27.35it/s]\n",
      "propagate in video:   0%|          | 0/1 [00:00<?, ?it/s]\n"
     ]
    },
    {
     "name": "stdout",
     "output_type": "stream",
     "text": [
      "Frame processed in 0.93s\n",
      "\n",
      "--- Processing frame 225 ---\n"
     ]
    },
    {
     "name": "stderr",
     "output_type": "stream",
     "text": [
      "frame loading (JPEG): 100%|██████████| 1/1 [00:00<00:00, 25.02it/s]\n",
      "propagate in video:   0%|          | 0/1 [00:00<?, ?it/s]\n",
      "FutureWarning: The `device` argument is deprecated and will be removed in v5 of Transformers.\n",
      "UserWarning: torch.utils.checkpoint: the use_reentrant parameter should be passed explicitly. In version 2.5 we will raise an exception if use_reentrant is not passed. use_reentrant=False is recommended, but if you need to preserve the current default behavior, you can pass use_reentrant=True. Refer to docs for more details on the differences between the two variants.\n",
      "UserWarning: None of the inputs have requires_grad=True. Gradients will be None\n"
     ]
    },
    {
     "name": "stdout",
     "output_type": "stream",
     "text": [
      "Analysis with Grounding Dino\n"
     ]
    },
    {
     "name": "stderr",
     "output_type": "stream",
     "text": [
      "FutureWarning: `torch.cuda.amp.autocast(args...)` is deprecated. Please use `torch.amp.autocast('cuda', args...)` instead.\n"
     ]
    },
    {
     "name": "stdout",
     "output_type": "stream",
     "text": [
      "['object', 'object'] tensor([0.6881, 0.4214])\n",
      "Frame processed in 1.46s\n",
      "\n",
      "--- Processing frame 226 ---\n"
     ]
    },
    {
     "name": "stderr",
     "output_type": "stream",
     "text": [
      "frame loading (JPEG): 100%|██████████| 1/1 [00:00<00:00, 22.30it/s]\n",
      "propagate in video:   0%|          | 0/1 [00:00<?, ?it/s]\n"
     ]
    },
    {
     "name": "stdout",
     "output_type": "stream",
     "text": [
      "Frame processed in 0.96s\n",
      "\n",
      "--- Processing frame 227 ---\n"
     ]
    },
    {
     "name": "stderr",
     "output_type": "stream",
     "text": [
      "frame loading (JPEG): 100%|██████████| 1/1 [00:00<00:00, 28.31it/s]\n",
      "propagate in video:   0%|          | 0/1 [00:00<?, ?it/s]\n"
     ]
    },
    {
     "name": "stdout",
     "output_type": "stream",
     "text": [
      "Frame processed in 0.89s\n",
      "\n",
      "--- Processing frame 228 ---\n"
     ]
    },
    {
     "name": "stderr",
     "output_type": "stream",
     "text": [
      "frame loading (JPEG): 100%|██████████| 1/1 [00:00<00:00, 27.98it/s]\n",
      "propagate in video:   0%|          | 0/1 [00:00<?, ?it/s]\n"
     ]
    },
    {
     "name": "stdout",
     "output_type": "stream",
     "text": [
      "Frame processed in 0.90s\n",
      "\n",
      "--- Processing frame 229 ---\n"
     ]
    },
    {
     "name": "stderr",
     "output_type": "stream",
     "text": [
      "frame loading (JPEG): 100%|██████████| 1/1 [00:00<00:00, 27.20it/s]\n",
      "propagate in video:   0%|          | 0/1 [00:00<?, ?it/s]\n"
     ]
    },
    {
     "name": "stdout",
     "output_type": "stream",
     "text": [
      "Frame processed in 0.98s\n",
      "\n",
      "--- Processing frame 230 ---\n"
     ]
    },
    {
     "name": "stderr",
     "output_type": "stream",
     "text": [
      "frame loading (JPEG): 100%|██████████| 1/1 [00:00<00:00, 29.79it/s]\n",
      "propagate in video:   0%|          | 0/1 [00:00<?, ?it/s]\n"
     ]
    },
    {
     "name": "stdout",
     "output_type": "stream",
     "text": [
      "Frame processed in 0.94s\n",
      "\n",
      "--- Processing frame 231 ---\n"
     ]
    },
    {
     "name": "stderr",
     "output_type": "stream",
     "text": [
      "frame loading (JPEG): 100%|██████████| 1/1 [00:00<00:00, 24.13it/s]\n",
      "propagate in video:   0%|          | 0/1 [00:00<?, ?it/s]\n"
     ]
    },
    {
     "name": "stdout",
     "output_type": "stream",
     "text": [
      "Frame processed in 0.96s\n",
      "\n",
      "--- Processing frame 232 ---\n"
     ]
    },
    {
     "name": "stderr",
     "output_type": "stream",
     "text": [
      "frame loading (JPEG): 100%|██████████| 1/1 [00:00<00:00, 29.29it/s]\n",
      "propagate in video:   0%|          | 0/1 [00:00<?, ?it/s]\n"
     ]
    },
    {
     "name": "stdout",
     "output_type": "stream",
     "text": [
      "Frame processed in 0.90s\n",
      "\n",
      "--- Processing frame 233 ---\n"
     ]
    },
    {
     "name": "stderr",
     "output_type": "stream",
     "text": [
      "frame loading (JPEG): 100%|██████████| 1/1 [00:00<00:00, 28.71it/s]\n",
      "propagate in video:   0%|          | 0/1 [00:00<?, ?it/s]\n"
     ]
    },
    {
     "name": "stdout",
     "output_type": "stream",
     "text": [
      "Frame processed in 0.91s\n",
      "\n",
      "--- Processing frame 234 ---\n"
     ]
    },
    {
     "name": "stderr",
     "output_type": "stream",
     "text": [
      "frame loading (JPEG): 100%|██████████| 1/1 [00:00<00:00, 23.99it/s]\n",
      "propagate in video:   0%|          | 0/1 [00:00<?, ?it/s]\n"
     ]
    },
    {
     "name": "stdout",
     "output_type": "stream",
     "text": [
      "Frame processed in 1.01s\n",
      "\n",
      "--- Processing frame 235 ---\n"
     ]
    },
    {
     "name": "stderr",
     "output_type": "stream",
     "text": [
      "frame loading (JPEG): 100%|██████████| 1/1 [00:00<00:00, 29.71it/s]\n",
      "propagate in video:   0%|          | 0/1 [00:00<?, ?it/s]\n"
     ]
    },
    {
     "name": "stdout",
     "output_type": "stream",
     "text": [
      "Frame processed in 0.91s\n",
      "\n",
      "--- Processing frame 236 ---\n"
     ]
    },
    {
     "name": "stderr",
     "output_type": "stream",
     "text": [
      "frame loading (JPEG): 100%|██████████| 1/1 [00:00<00:00, 22.34it/s]\n",
      "propagate in video:   0%|          | 0/1 [00:00<?, ?it/s]\n"
     ]
    },
    {
     "name": "stdout",
     "output_type": "stream",
     "text": [
      "Frame processed in 0.98s\n",
      "\n",
      "--- Processing frame 237 ---\n"
     ]
    },
    {
     "name": "stderr",
     "output_type": "stream",
     "text": [
      "frame loading (JPEG): 100%|██████████| 1/1 [00:00<00:00, 20.61it/s]\n",
      "propagate in video:   0%|          | 0/1 [00:00<?, ?it/s]\n"
     ]
    },
    {
     "name": "stdout",
     "output_type": "stream",
     "text": [
      "Frame processed in 0.94s\n",
      "\n",
      "--- Processing frame 238 ---\n"
     ]
    },
    {
     "name": "stderr",
     "output_type": "stream",
     "text": [
      "frame loading (JPEG): 100%|██████████| 1/1 [00:00<00:00, 23.67it/s]\n",
      "propagate in video:   0%|          | 0/1 [00:00<?, ?it/s]\n"
     ]
    },
    {
     "name": "stdout",
     "output_type": "stream",
     "text": [
      "Frame processed in 0.92s\n",
      "\n",
      "--- Processing frame 239 ---\n"
     ]
    },
    {
     "name": "stderr",
     "output_type": "stream",
     "text": [
      "frame loading (JPEG): 100%|██████████| 1/1 [00:00<00:00, 24.73it/s]\n",
      "propagate in video:   0%|          | 0/1 [00:00<?, ?it/s]\n"
     ]
    },
    {
     "name": "stdout",
     "output_type": "stream",
     "text": [
      "Frame processed in 0.96s\n",
      "\n",
      "--- Processing frame 240 ---\n"
     ]
    },
    {
     "name": "stderr",
     "output_type": "stream",
     "text": [
      "frame loading (JPEG): 100%|██████████| 1/1 [00:00<00:00, 22.68it/s]\n",
      "propagate in video:   0%|          | 0/1 [00:00<?, ?it/s]\n",
      "FutureWarning: The `device` argument is deprecated and will be removed in v5 of Transformers.\n",
      "UserWarning: torch.utils.checkpoint: the use_reentrant parameter should be passed explicitly. In version 2.5 we will raise an exception if use_reentrant is not passed. use_reentrant=False is recommended, but if you need to preserve the current default behavior, you can pass use_reentrant=True. Refer to docs for more details on the differences between the two variants.\n",
      "UserWarning: None of the inputs have requires_grad=True. Gradients will be None\n"
     ]
    },
    {
     "name": "stdout",
     "output_type": "stream",
     "text": [
      "Analysis with Grounding Dino\n"
     ]
    },
    {
     "name": "stderr",
     "output_type": "stream",
     "text": [
      "FutureWarning: `torch.cuda.amp.autocast(args...)` is deprecated. Please use `torch.amp.autocast('cuda', args...)` instead.\n"
     ]
    },
    {
     "name": "stdout",
     "output_type": "stream",
     "text": [
      "['object', 'object', 'object'] tensor([0.6791, 0.4001, 0.2458])\n",
      "New object 4 detected at frame 240\n"
     ]
    },
    {
     "name": "stderr",
     "output_type": "stream",
     "text": [
      "propagate in video:   0%|          | 0/1 [00:00<?, ?it/s]\n"
     ]
    },
    {
     "name": "stdout",
     "output_type": "stream",
     "text": [
      "Frame processed in 1.54s\n",
      "\n",
      "--- Processing frame 241 ---\n"
     ]
    },
    {
     "name": "stderr",
     "output_type": "stream",
     "text": [
      "frame loading (JPEG): 100%|██████████| 1/1 [00:00<00:00, 21.16it/s]\n",
      "propagate in video:   0%|          | 0/1 [00:00<?, ?it/s]\n"
     ]
    },
    {
     "name": "stdout",
     "output_type": "stream",
     "text": [
      "Frame processed in 1.09s\n",
      "\n",
      "--- Processing frame 242 ---\n"
     ]
    },
    {
     "name": "stderr",
     "output_type": "stream",
     "text": [
      "frame loading (JPEG): 100%|██████████| 1/1 [00:00<00:00, 20.06it/s]\n",
      "propagate in video:   0%|          | 0/1 [00:00<?, ?it/s]\n"
     ]
    },
    {
     "name": "stdout",
     "output_type": "stream",
     "text": [
      "Frame processed in 1.11s\n",
      "\n",
      "--- Processing frame 243 ---\n"
     ]
    },
    {
     "name": "stderr",
     "output_type": "stream",
     "text": [
      "frame loading (JPEG): 100%|██████████| 1/1 [00:00<00:00, 20.79it/s]\n",
      "propagate in video:   0%|          | 0/1 [00:00<?, ?it/s]\n"
     ]
    },
    {
     "name": "stdout",
     "output_type": "stream",
     "text": [
      "Frame processed in 1.03s\n",
      "\n",
      "--- Processing frame 244 ---\n"
     ]
    },
    {
     "name": "stderr",
     "output_type": "stream",
     "text": [
      "frame loading (JPEG): 100%|██████████| 1/1 [00:00<00:00, 29.28it/s]\n",
      "propagate in video:   0%|          | 0/1 [00:00<?, ?it/s]\n"
     ]
    },
    {
     "name": "stdout",
     "output_type": "stream",
     "text": [
      "Frame processed in 1.01s\n",
      "\n",
      "--- Processing frame 245 ---\n"
     ]
    },
    {
     "name": "stderr",
     "output_type": "stream",
     "text": [
      "frame loading (JPEG): 100%|██████████| 1/1 [00:00<00:00, 30.31it/s]\n",
      "propagate in video:   0%|          | 0/1 [00:00<?, ?it/s]\n"
     ]
    },
    {
     "name": "stdout",
     "output_type": "stream",
     "text": [
      "Frame processed in 1.05s\n",
      "\n",
      "--- Processing frame 246 ---\n"
     ]
    },
    {
     "name": "stderr",
     "output_type": "stream",
     "text": [
      "frame loading (JPEG): 100%|██████████| 1/1 [00:00<00:00, 25.06it/s]\n",
      "propagate in video:   0%|          | 0/1 [00:00<?, ?it/s]\n"
     ]
    },
    {
     "name": "stdout",
     "output_type": "stream",
     "text": [
      "Frame processed in 1.06s\n",
      "\n",
      "--- Processing frame 247 ---\n"
     ]
    },
    {
     "name": "stderr",
     "output_type": "stream",
     "text": [
      "frame loading (JPEG): 100%|██████████| 1/1 [00:00<00:00, 24.10it/s]\n",
      "propagate in video:   0%|          | 0/1 [00:00<?, ?it/s]\n"
     ]
    },
    {
     "name": "stdout",
     "output_type": "stream",
     "text": [
      "Frame processed in 1.06s\n",
      "\n",
      "--- Processing frame 248 ---\n"
     ]
    },
    {
     "name": "stderr",
     "output_type": "stream",
     "text": [
      "frame loading (JPEG): 100%|██████████| 1/1 [00:00<00:00, 22.94it/s]\n",
      "propagate in video:   0%|          | 0/1 [00:00<?, ?it/s]\n"
     ]
    },
    {
     "name": "stdout",
     "output_type": "stream",
     "text": [
      "Frame processed in 1.04s\n",
      "\n",
      "--- Processing frame 249 ---\n"
     ]
    },
    {
     "name": "stderr",
     "output_type": "stream",
     "text": [
      "frame loading (JPEG): 100%|██████████| 1/1 [00:00<00:00, 24.28it/s]\n",
      "propagate in video:   0%|          | 0/1 [00:00<?, ?it/s]\n"
     ]
    },
    {
     "name": "stdout",
     "output_type": "stream",
     "text": [
      "Frame processed in 0.99s\n",
      "\n",
      "--- Processing frame 250 ---\n"
     ]
    },
    {
     "name": "stderr",
     "output_type": "stream",
     "text": [
      "frame loading (JPEG): 100%|██████████| 1/1 [00:00<00:00, 27.14it/s]\n",
      "propagate in video:   0%|          | 0/1 [00:00<?, ?it/s]\n"
     ]
    },
    {
     "name": "stdout",
     "output_type": "stream",
     "text": [
      "Frame processed in 1.05s\n",
      "\n",
      "--- Processing frame 251 ---\n"
     ]
    },
    {
     "name": "stderr",
     "output_type": "stream",
     "text": [
      "frame loading (JPEG): 100%|██████████| 1/1 [00:00<00:00, 22.63it/s]\n",
      "propagate in video:   0%|          | 0/1 [00:00<?, ?it/s]\n"
     ]
    },
    {
     "name": "stdout",
     "output_type": "stream",
     "text": [
      "Frame processed in 1.06s\n",
      "\n",
      "--- Processing frame 252 ---\n"
     ]
    },
    {
     "name": "stderr",
     "output_type": "stream",
     "text": [
      "frame loading (JPEG): 100%|██████████| 1/1 [00:00<00:00, 23.84it/s]\n",
      "propagate in video:   0%|          | 0/1 [00:00<?, ?it/s]\n"
     ]
    },
    {
     "name": "stdout",
     "output_type": "stream",
     "text": [
      "Frame processed in 1.01s\n",
      "\n",
      "--- Processing frame 253 ---\n"
     ]
    },
    {
     "name": "stderr",
     "output_type": "stream",
     "text": [
      "frame loading (JPEG): 100%|██████████| 1/1 [00:00<00:00, 27.30it/s]\n",
      "propagate in video:   0%|          | 0/1 [00:00<?, ?it/s]\n"
     ]
    },
    {
     "name": "stdout",
     "output_type": "stream",
     "text": [
      "Frame processed in 1.04s\n",
      "\n",
      "--- Processing frame 254 ---\n"
     ]
    },
    {
     "name": "stderr",
     "output_type": "stream",
     "text": [
      "frame loading (JPEG): 100%|██████████| 1/1 [00:00<00:00, 27.30it/s]\n",
      "propagate in video:   0%|          | 0/1 [00:00<?, ?it/s]\n"
     ]
    },
    {
     "name": "stdout",
     "output_type": "stream",
     "text": [
      "Frame processed in 1.03s\n",
      "\n",
      "--- Processing frame 255 ---\n"
     ]
    },
    {
     "name": "stderr",
     "output_type": "stream",
     "text": [
      "frame loading (JPEG): 100%|██████████| 1/1 [00:00<00:00, 21.58it/s]\n",
      "propagate in video:   0%|          | 0/1 [00:00<?, ?it/s]\n",
      "FutureWarning: The `device` argument is deprecated and will be removed in v5 of Transformers.\n",
      "UserWarning: torch.utils.checkpoint: the use_reentrant parameter should be passed explicitly. In version 2.5 we will raise an exception if use_reentrant is not passed. use_reentrant=False is recommended, but if you need to preserve the current default behavior, you can pass use_reentrant=True. Refer to docs for more details on the differences between the two variants.\n",
      "UserWarning: None of the inputs have requires_grad=True. Gradients will be None\n"
     ]
    },
    {
     "name": "stdout",
     "output_type": "stream",
     "text": [
      "Analysis with Grounding Dino\n"
     ]
    },
    {
     "name": "stderr",
     "output_type": "stream",
     "text": [
      "FutureWarning: `torch.cuda.amp.autocast(args...)` is deprecated. Please use `torch.amp.autocast('cuda', args...)` instead.\n"
     ]
    },
    {
     "name": "stdout",
     "output_type": "stream",
     "text": [
      "['object', 'object', 'object', 'object'] tensor([0.6526, 0.4391, 0.2218, 0.2294])\n",
      "New object 5 detected at frame 255\n"
     ]
    },
    {
     "name": "stderr",
     "output_type": "stream",
     "text": [
      "propagate in video:   0%|          | 0/1 [00:00<?, ?it/s]\n"
     ]
    },
    {
     "name": "stdout",
     "output_type": "stream",
     "text": [
      "Frame processed in 1.67s\n",
      "\n",
      "--- Processing frame 256 ---\n"
     ]
    },
    {
     "name": "stderr",
     "output_type": "stream",
     "text": [
      "frame loading (JPEG): 100%|██████████| 1/1 [00:00<00:00, 24.97it/s]\n",
      "propagate in video:   0%|          | 0/1 [00:00<?, ?it/s]\n"
     ]
    },
    {
     "name": "stdout",
     "output_type": "stream",
     "text": [
      "Frame processed in 1.19s\n",
      "\n",
      "--- Processing frame 257 ---\n"
     ]
    },
    {
     "name": "stderr",
     "output_type": "stream",
     "text": [
      "frame loading (JPEG): 100%|██████████| 1/1 [00:00<00:00, 27.79it/s]\n",
      "propagate in video:   0%|          | 0/1 [00:00<?, ?it/s]\n"
     ]
    },
    {
     "name": "stdout",
     "output_type": "stream",
     "text": [
      "Frame processed in 1.14s\n",
      "\n",
      "--- Processing frame 258 ---\n"
     ]
    },
    {
     "name": "stderr",
     "output_type": "stream",
     "text": [
      "frame loading (JPEG): 100%|██████████| 1/1 [00:00<00:00, 23.14it/s]\n",
      "propagate in video:   0%|          | 0/1 [00:00<?, ?it/s]\n"
     ]
    },
    {
     "name": "stdout",
     "output_type": "stream",
     "text": [
      "Frame processed in 1.19s\n",
      "\n",
      "--- Processing frame 259 ---\n"
     ]
    },
    {
     "name": "stderr",
     "output_type": "stream",
     "text": [
      "frame loading (JPEG): 100%|██████████| 1/1 [00:00<00:00, 27.03it/s]\n",
      "propagate in video:   0%|          | 0/1 [00:00<?, ?it/s]\n"
     ]
    },
    {
     "name": "stdout",
     "output_type": "stream",
     "text": [
      "Frame processed in 1.11s\n",
      "\n",
      "--- Processing frame 260 ---\n"
     ]
    },
    {
     "name": "stderr",
     "output_type": "stream",
     "text": [
      "frame loading (JPEG): 100%|██████████| 1/1 [00:00<00:00, 25.63it/s]\n",
      "propagate in video:   0%|          | 0/1 [00:00<?, ?it/s]\n"
     ]
    },
    {
     "name": "stdout",
     "output_type": "stream",
     "text": [
      "Frame processed in 1.17s\n",
      "\n",
      "--- Processing frame 261 ---\n"
     ]
    },
    {
     "name": "stderr",
     "output_type": "stream",
     "text": [
      "frame loading (JPEG): 100%|██████████| 1/1 [00:00<00:00, 21.60it/s]\n",
      "propagate in video:   0%|          | 0/1 [00:00<?, ?it/s]\n"
     ]
    },
    {
     "name": "stdout",
     "output_type": "stream",
     "text": [
      "Frame processed in 1.17s\n",
      "\n",
      "--- Processing frame 262 ---\n"
     ]
    },
    {
     "name": "stderr",
     "output_type": "stream",
     "text": [
      "frame loading (JPEG): 100%|██████████| 1/1 [00:00<00:00, 24.50it/s]\n",
      "propagate in video:   0%|          | 0/1 [00:00<?, ?it/s]\n"
     ]
    },
    {
     "name": "stdout",
     "output_type": "stream",
     "text": [
      "Frame processed in 1.18s\n",
      "\n",
      "--- Processing frame 263 ---\n"
     ]
    },
    {
     "name": "stderr",
     "output_type": "stream",
     "text": [
      "frame loading (JPEG): 100%|██████████| 1/1 [00:00<00:00, 23.16it/s]\n",
      "propagate in video:   0%|          | 0/1 [00:00<?, ?it/s]\n"
     ]
    },
    {
     "name": "stdout",
     "output_type": "stream",
     "text": [
      "Frame processed in 1.18s\n",
      "\n",
      "--- Processing frame 264 ---\n"
     ]
    },
    {
     "name": "stderr",
     "output_type": "stream",
     "text": [
      "frame loading (JPEG): 100%|██████████| 1/1 [00:00<00:00, 26.64it/s]\n",
      "propagate in video:   0%|          | 0/1 [00:00<?, ?it/s]\n"
     ]
    },
    {
     "name": "stdout",
     "output_type": "stream",
     "text": [
      "Frame processed in 1.16s\n",
      "\n",
      "--- Processing frame 265 ---\n"
     ]
    },
    {
     "name": "stderr",
     "output_type": "stream",
     "text": [
      "frame loading (JPEG): 100%|██████████| 1/1 [00:00<00:00, 21.95it/s]\n",
      "propagate in video:   0%|          | 0/1 [00:00<?, ?it/s]\n"
     ]
    },
    {
     "name": "stdout",
     "output_type": "stream",
     "text": [
      "Frame processed in 1.18s\n",
      "\n",
      "--- Processing frame 266 ---\n"
     ]
    },
    {
     "name": "stderr",
     "output_type": "stream",
     "text": [
      "frame loading (JPEG): 100%|██████████| 1/1 [00:00<00:00, 23.58it/s]\n",
      "propagate in video:   0%|          | 0/1 [00:00<?, ?it/s]\n"
     ]
    },
    {
     "name": "stdout",
     "output_type": "stream",
     "text": [
      "Frame processed in 1.24s\n",
      "\n",
      "--- Processing frame 267 ---\n"
     ]
    },
    {
     "name": "stderr",
     "output_type": "stream",
     "text": [
      "frame loading (JPEG): 100%|██████████| 1/1 [00:00<00:00, 27.63it/s]\n",
      "propagate in video:   0%|          | 0/1 [00:00<?, ?it/s]\n"
     ]
    },
    {
     "name": "stdout",
     "output_type": "stream",
     "text": [
      "Frame processed in 1.12s\n",
      "\n",
      "--- Processing frame 268 ---\n"
     ]
    },
    {
     "name": "stderr",
     "output_type": "stream",
     "text": [
      "frame loading (JPEG): 100%|██████████| 1/1 [00:00<00:00, 21.33it/s]\n",
      "propagate in video:   0%|          | 0/1 [00:00<?, ?it/s]\n"
     ]
    },
    {
     "name": "stdout",
     "output_type": "stream",
     "text": [
      "Frame processed in 1.24s\n",
      "\n",
      "--- Processing frame 269 ---\n"
     ]
    },
    {
     "name": "stderr",
     "output_type": "stream",
     "text": [
      "frame loading (JPEG): 100%|██████████| 1/1 [00:00<00:00, 25.65it/s]\n",
      "propagate in video:   0%|          | 0/1 [00:00<?, ?it/s]\n"
     ]
    },
    {
     "name": "stdout",
     "output_type": "stream",
     "text": [
      "Frame processed in 1.13s\n",
      "\n",
      "--- Processing frame 270 ---\n"
     ]
    },
    {
     "name": "stderr",
     "output_type": "stream",
     "text": [
      "frame loading (JPEG): 100%|██████████| 1/1 [00:00<00:00, 24.45it/s]\n",
      "propagate in video:   0%|          | 0/1 [00:00<?, ?it/s]\n",
      "FutureWarning: The `device` argument is deprecated and will be removed in v5 of Transformers.\n",
      "UserWarning: torch.utils.checkpoint: the use_reentrant parameter should be passed explicitly. In version 2.5 we will raise an exception if use_reentrant is not passed. use_reentrant=False is recommended, but if you need to preserve the current default behavior, you can pass use_reentrant=True. Refer to docs for more details on the differences between the two variants.\n",
      "UserWarning: None of the inputs have requires_grad=True. Gradients will be None\n"
     ]
    },
    {
     "name": "stdout",
     "output_type": "stream",
     "text": [
      "Analysis with Grounding Dino\n"
     ]
    },
    {
     "name": "stderr",
     "output_type": "stream",
     "text": [
      "FutureWarning: `torch.cuda.amp.autocast(args...)` is deprecated. Please use `torch.amp.autocast('cuda', args...)` instead.\n"
     ]
    },
    {
     "name": "stdout",
     "output_type": "stream",
     "text": [
      "['object', 'object', 'object'] tensor([0.6078, 0.3432, 0.2734])\n",
      "Frame processed in 1.70s\n",
      "\n",
      "--- Processing frame 271 ---\n"
     ]
    },
    {
     "name": "stderr",
     "output_type": "stream",
     "text": [
      "frame loading (JPEG): 100%|██████████| 1/1 [00:00<00:00, 28.40it/s]\n",
      "propagate in video:   0%|          | 0/1 [00:00<?, ?it/s]\n"
     ]
    },
    {
     "name": "stdout",
     "output_type": "stream",
     "text": [
      "Frame processed in 1.12s\n",
      "\n",
      "--- Processing frame 272 ---\n"
     ]
    },
    {
     "name": "stderr",
     "output_type": "stream",
     "text": [
      "frame loading (JPEG): 100%|██████████| 1/1 [00:00<00:00, 26.10it/s]\n",
      "propagate in video:   0%|          | 0/1 [00:00<?, ?it/s]\n"
     ]
    },
    {
     "name": "stdout",
     "output_type": "stream",
     "text": [
      "Frame processed in 1.19s\n",
      "\n",
      "--- Processing frame 273 ---\n"
     ]
    },
    {
     "name": "stderr",
     "output_type": "stream",
     "text": [
      "frame loading (JPEG): 100%|██████████| 1/1 [00:00<00:00, 20.47it/s]\n",
      "propagate in video:   0%|          | 0/1 [00:00<?, ?it/s]\n"
     ]
    },
    {
     "name": "stdout",
     "output_type": "stream",
     "text": [
      "Frame processed in 1.18s\n",
      "\n",
      "--- Processing frame 274 ---\n"
     ]
    },
    {
     "name": "stderr",
     "output_type": "stream",
     "text": [
      "frame loading (JPEG): 100%|██████████| 1/1 [00:00<00:00, 29.01it/s]\n",
      "propagate in video:   0%|          | 0/1 [00:00<?, ?it/s]\n"
     ]
    },
    {
     "name": "stdout",
     "output_type": "stream",
     "text": [
      "Frame processed in 1.15s\n",
      "\n",
      "--- Processing frame 275 ---\n"
     ]
    },
    {
     "name": "stderr",
     "output_type": "stream",
     "text": [
      "frame loading (JPEG): 100%|██████████| 1/1 [00:00<00:00, 24.54it/s]\n",
      "propagate in video:   0%|          | 0/1 [00:00<?, ?it/s]\n"
     ]
    },
    {
     "name": "stdout",
     "output_type": "stream",
     "text": [
      "Frame processed in 1.15s\n",
      "\n",
      "--- Processing frame 276 ---\n"
     ]
    },
    {
     "name": "stderr",
     "output_type": "stream",
     "text": [
      "frame loading (JPEG): 100%|██████████| 1/1 [00:00<00:00, 27.61it/s]\n",
      "propagate in video:   0%|          | 0/1 [00:00<?, ?it/s]\n"
     ]
    },
    {
     "name": "stdout",
     "output_type": "stream",
     "text": [
      "Frame processed in 1.11s\n",
      "\n",
      "--- Processing frame 277 ---\n"
     ]
    },
    {
     "name": "stderr",
     "output_type": "stream",
     "text": [
      "frame loading (JPEG): 100%|██████████| 1/1 [00:00<00:00, 25.68it/s]\n",
      "propagate in video:   0%|          | 0/1 [00:00<?, ?it/s]\n"
     ]
    },
    {
     "name": "stdout",
     "output_type": "stream",
     "text": [
      "Frame processed in 1.21s\n",
      "\n",
      "--- Processing frame 278 ---\n"
     ]
    },
    {
     "name": "stderr",
     "output_type": "stream",
     "text": [
      "frame loading (JPEG): 100%|██████████| 1/1 [00:00<00:00, 26.50it/s]\n",
      "propagate in video:   0%|          | 0/1 [00:00<?, ?it/s]\n"
     ]
    },
    {
     "name": "stdout",
     "output_type": "stream",
     "text": [
      "Frame processed in 1.18s\n",
      "\n",
      "--- Processing frame 279 ---\n"
     ]
    },
    {
     "name": "stderr",
     "output_type": "stream",
     "text": [
      "frame loading (JPEG): 100%|██████████| 1/1 [00:00<00:00, 22.91it/s]\n",
      "propagate in video:   0%|          | 0/1 [00:00<?, ?it/s]\n"
     ]
    },
    {
     "name": "stdout",
     "output_type": "stream",
     "text": [
      "Frame processed in 1.19s\n",
      "\n",
      "--- Processing frame 280 ---\n"
     ]
    },
    {
     "name": "stderr",
     "output_type": "stream",
     "text": [
      "frame loading (JPEG): 100%|██████████| 1/1 [00:00<00:00, 26.87it/s]\n",
      "propagate in video:   0%|          | 0/1 [00:00<?, ?it/s]\n"
     ]
    },
    {
     "name": "stdout",
     "output_type": "stream",
     "text": [
      "Frame processed in 1.12s\n",
      "\n",
      "--- Processing frame 281 ---\n"
     ]
    },
    {
     "name": "stderr",
     "output_type": "stream",
     "text": [
      "frame loading (JPEG): 100%|██████████| 1/1 [00:00<00:00, 20.67it/s]\n",
      "propagate in video:   0%|          | 0/1 [00:00<?, ?it/s]\n"
     ]
    },
    {
     "name": "stdout",
     "output_type": "stream",
     "text": [
      "Frame processed in 1.22s\n",
      "\n",
      "--- Processing frame 282 ---\n"
     ]
    },
    {
     "name": "stderr",
     "output_type": "stream",
     "text": [
      "frame loading (JPEG): 100%|██████████| 1/1 [00:00<00:00, 24.25it/s]\n",
      "propagate in video:   0%|          | 0/1 [00:00<?, ?it/s]\n"
     ]
    },
    {
     "name": "stdout",
     "output_type": "stream",
     "text": [
      "Frame processed in 1.13s\n",
      "\n",
      "--- Processing frame 283 ---\n"
     ]
    },
    {
     "name": "stderr",
     "output_type": "stream",
     "text": [
      "frame loading (JPEG): 100%|██████████| 1/1 [00:00<00:00, 25.22it/s]\n",
      "propagate in video:   0%|          | 0/1 [00:00<?, ?it/s]\n"
     ]
    },
    {
     "name": "stdout",
     "output_type": "stream",
     "text": [
      "Frame processed in 1.14s\n",
      "\n",
      "--- Processing frame 284 ---\n"
     ]
    },
    {
     "name": "stderr",
     "output_type": "stream",
     "text": [
      "frame loading (JPEG): 100%|██████████| 1/1 [00:00<00:00, 22.18it/s]\n",
      "propagate in video:   0%|          | 0/1 [00:00<?, ?it/s]\n"
     ]
    },
    {
     "name": "stdout",
     "output_type": "stream",
     "text": [
      "Frame processed in 1.17s\n",
      "\n",
      "--- Processing frame 285 ---\n"
     ]
    },
    {
     "name": "stderr",
     "output_type": "stream",
     "text": [
      "frame loading (JPEG): 100%|██████████| 1/1 [00:00<00:00, 20.71it/s]\n",
      "propagate in video:   0%|          | 0/1 [00:00<?, ?it/s]\n",
      "FutureWarning: The `device` argument is deprecated and will be removed in v5 of Transformers.\n",
      "UserWarning: torch.utils.checkpoint: the use_reentrant parameter should be passed explicitly. In version 2.5 we will raise an exception if use_reentrant is not passed. use_reentrant=False is recommended, but if you need to preserve the current default behavior, you can pass use_reentrant=True. Refer to docs for more details on the differences between the two variants.\n",
      "UserWarning: None of the inputs have requires_grad=True. Gradients will be None\n"
     ]
    },
    {
     "name": "stdout",
     "output_type": "stream",
     "text": [
      "Analysis with Grounding Dino\n"
     ]
    },
    {
     "name": "stderr",
     "output_type": "stream",
     "text": [
      "FutureWarning: `torch.cuda.amp.autocast(args...)` is deprecated. Please use `torch.amp.autocast('cuda', args...)` instead.\n"
     ]
    },
    {
     "name": "stdout",
     "output_type": "stream",
     "text": [
      "['object', 'object'] tensor([0.6752, 0.4514])\n",
      "Frame processed in 1.70s\n",
      "\n",
      "--- Processing frame 286 ---\n"
     ]
    },
    {
     "name": "stderr",
     "output_type": "stream",
     "text": [
      "frame loading (JPEG): 100%|██████████| 1/1 [00:00<00:00, 23.23it/s]\n",
      "propagate in video:   0%|          | 0/1 [00:00<?, ?it/s]\n"
     ]
    },
    {
     "name": "stdout",
     "output_type": "stream",
     "text": [
      "Frame processed in 1.19s\n",
      "\n",
      "--- Processing frame 287 ---\n"
     ]
    },
    {
     "name": "stderr",
     "output_type": "stream",
     "text": [
      "frame loading (JPEG): 100%|██████████| 1/1 [00:00<00:00, 19.63it/s]\n",
      "propagate in video:   0%|          | 0/1 [00:00<?, ?it/s]\n"
     ]
    },
    {
     "name": "stdout",
     "output_type": "stream",
     "text": [
      "Frame processed in 1.24s\n",
      "\n",
      "--- Processing frame 288 ---\n"
     ]
    },
    {
     "name": "stderr",
     "output_type": "stream",
     "text": [
      "frame loading (JPEG): 100%|██████████| 1/1 [00:00<00:00, 20.24it/s]\n",
      "propagate in video:   0%|          | 0/1 [00:00<?, ?it/s]\n"
     ]
    },
    {
     "name": "stdout",
     "output_type": "stream",
     "text": [
      "Frame processed in 1.23s\n",
      "\n",
      "--- Processing frame 289 ---\n"
     ]
    },
    {
     "name": "stderr",
     "output_type": "stream",
     "text": [
      "frame loading (JPEG): 100%|██████████| 1/1 [00:00<00:00, 23.39it/s]\n",
      "propagate in video:   0%|          | 0/1 [00:00<?, ?it/s]\n"
     ]
    },
    {
     "name": "stdout",
     "output_type": "stream",
     "text": [
      "Frame processed in 1.13s\n",
      "\n",
      "--- Processing frame 290 ---\n"
     ]
    },
    {
     "name": "stderr",
     "output_type": "stream",
     "text": [
      "frame loading (JPEG): 100%|██████████| 1/1 [00:00<00:00, 20.99it/s]\n",
      "propagate in video:   0%|          | 0/1 [00:00<?, ?it/s]\n"
     ]
    },
    {
     "name": "stdout",
     "output_type": "stream",
     "text": [
      "Frame processed in 1.21s\n",
      "\n",
      "--- Processing frame 291 ---\n"
     ]
    },
    {
     "name": "stderr",
     "output_type": "stream",
     "text": [
      "frame loading (JPEG): 100%|██████████| 1/1 [00:00<00:00, 15.36it/s]\n",
      "propagate in video:   0%|          | 0/1 [00:00<?, ?it/s]\n"
     ]
    },
    {
     "name": "stdout",
     "output_type": "stream",
     "text": [
      "Frame processed in 1.24s\n",
      "\n",
      "--- Processing frame 292 ---\n"
     ]
    },
    {
     "name": "stderr",
     "output_type": "stream",
     "text": [
      "frame loading (JPEG): 100%|██████████| 1/1 [00:00<00:00, 20.19it/s]\n",
      "propagate in video:   0%|          | 0/1 [00:00<?, ?it/s]\n"
     ]
    },
    {
     "name": "stdout",
     "output_type": "stream",
     "text": [
      "Frame processed in 1.25s\n",
      "\n",
      "--- Processing frame 293 ---\n"
     ]
    },
    {
     "name": "stderr",
     "output_type": "stream",
     "text": [
      "frame loading (JPEG): 100%|██████████| 1/1 [00:00<00:00, 21.61it/s]\n",
      "propagate in video:   0%|          | 0/1 [00:00<?, ?it/s]\n"
     ]
    },
    {
     "name": "stdout",
     "output_type": "stream",
     "text": [
      "Frame processed in 1.23s\n",
      "\n",
      "--- Processing frame 294 ---\n"
     ]
    },
    {
     "name": "stderr",
     "output_type": "stream",
     "text": [
      "frame loading (JPEG): 100%|██████████| 1/1 [00:00<00:00, 21.74it/s]\n",
      "propagate in video:   0%|          | 0/1 [00:00<?, ?it/s]\n"
     ]
    },
    {
     "name": "stdout",
     "output_type": "stream",
     "text": [
      "Frame processed in 1.15s\n",
      "\n",
      "--- Processing frame 295 ---\n"
     ]
    },
    {
     "name": "stderr",
     "output_type": "stream",
     "text": [
      "frame loading (JPEG): 100%|██████████| 1/1 [00:00<00:00, 23.33it/s]\n",
      "propagate in video:   0%|          | 0/1 [00:00<?, ?it/s]\n"
     ]
    },
    {
     "name": "stdout",
     "output_type": "stream",
     "text": [
      "Frame processed in 1.16s\n",
      "\n",
      "--- Processing frame 296 ---\n"
     ]
    },
    {
     "name": "stderr",
     "output_type": "stream",
     "text": [
      "frame loading (JPEG): 100%|██████████| 1/1 [00:00<00:00, 24.65it/s]\n",
      "propagate in video:   0%|          | 0/1 [00:00<?, ?it/s]\n"
     ]
    },
    {
     "name": "stdout",
     "output_type": "stream",
     "text": [
      "Frame processed in 1.16s\n",
      "\n",
      "--- Processing frame 297 ---\n"
     ]
    },
    {
     "name": "stderr",
     "output_type": "stream",
     "text": [
      "frame loading (JPEG): 100%|██████████| 1/1 [00:00<00:00, 20.90it/s]\n",
      "propagate in video:   0%|          | 0/1 [00:00<?, ?it/s]\n"
     ]
    },
    {
     "name": "stdout",
     "output_type": "stream",
     "text": [
      "Frame processed in 1.23s\n",
      "\n",
      "--- Processing frame 298 ---\n"
     ]
    },
    {
     "name": "stderr",
     "output_type": "stream",
     "text": [
      "frame loading (JPEG): 100%|██████████| 1/1 [00:00<00:00, 19.62it/s]\n",
      "propagate in video:   0%|          | 0/1 [00:00<?, ?it/s]\n"
     ]
    },
    {
     "name": "stdout",
     "output_type": "stream",
     "text": [
      "Frame processed in 1.22s\n",
      "\n",
      "--- Processing frame 299 ---\n"
     ]
    },
    {
     "name": "stderr",
     "output_type": "stream",
     "text": [
      "frame loading (JPEG): 100%|██████████| 1/1 [00:00<00:00, 20.63it/s]\n",
      "propagate in video:   0%|          | 0/1 [00:00<?, ?it/s]\n"
     ]
    },
    {
     "name": "stdout",
     "output_type": "stream",
     "text": [
      "Frame processed in 1.20s\n",
      "\n",
      "--- Processing frame 300 ---\n"
     ]
    },
    {
     "name": "stderr",
     "output_type": "stream",
     "text": [
      "frame loading (JPEG): 100%|██████████| 1/1 [00:00<00:00, 21.40it/s]\n",
      "propagate in video:   0%|          | 0/1 [00:00<?, ?it/s]\n",
      "FutureWarning: The `device` argument is deprecated and will be removed in v5 of Transformers.\n",
      "UserWarning: torch.utils.checkpoint: the use_reentrant parameter should be passed explicitly. In version 2.5 we will raise an exception if use_reentrant is not passed. use_reentrant=False is recommended, but if you need to preserve the current default behavior, you can pass use_reentrant=True. Refer to docs for more details on the differences between the two variants.\n",
      "UserWarning: None of the inputs have requires_grad=True. Gradients will be None\n"
     ]
    },
    {
     "name": "stdout",
     "output_type": "stream",
     "text": [
      "Analysis with Grounding Dino\n"
     ]
    },
    {
     "name": "stderr",
     "output_type": "stream",
     "text": [
      "FutureWarning: `torch.cuda.amp.autocast(args...)` is deprecated. Please use `torch.amp.autocast('cuda', args...)` instead.\n"
     ]
    },
    {
     "name": "stdout",
     "output_type": "stream",
     "text": [
      "['object', 'object'] tensor([0.6931, 0.4704])\n",
      "Frame processed in 1.77s\n",
      "\n",
      "--- Processing frame 301 ---\n"
     ]
    },
    {
     "name": "stderr",
     "output_type": "stream",
     "text": [
      "frame loading (JPEG): 100%|██████████| 1/1 [00:00<00:00, 15.26it/s]\n",
      "propagate in video:   0%|          | 0/1 [00:00<?, ?it/s]\n"
     ]
    },
    {
     "name": "stdout",
     "output_type": "stream",
     "text": [
      "Frame processed in 1.28s\n",
      "\n",
      "--- Processing frame 302 ---\n"
     ]
    },
    {
     "name": "stderr",
     "output_type": "stream",
     "text": [
      "frame loading (JPEG): 100%|██████████| 1/1 [00:00<00:00, 23.36it/s]\n",
      "propagate in video:   0%|          | 0/1 [00:00<?, ?it/s]\n"
     ]
    },
    {
     "name": "stdout",
     "output_type": "stream",
     "text": [
      "Frame processed in 1.21s\n",
      "\n",
      "--- Processing frame 303 ---\n"
     ]
    },
    {
     "name": "stderr",
     "output_type": "stream",
     "text": [
      "frame loading (JPEG): 100%|██████████| 1/1 [00:00<00:00, 22.59it/s]\n",
      "propagate in video:   0%|          | 0/1 [00:00<?, ?it/s]\n"
     ]
    },
    {
     "name": "stdout",
     "output_type": "stream",
     "text": [
      "Frame processed in 1.26s\n",
      "\n",
      "--- Processing frame 304 ---\n"
     ]
    },
    {
     "name": "stderr",
     "output_type": "stream",
     "text": [
      "frame loading (JPEG): 100%|██████████| 1/1 [00:00<00:00, 22.24it/s]\n",
      "propagate in video:   0%|          | 0/1 [00:00<?, ?it/s]\n"
     ]
    },
    {
     "name": "stdout",
     "output_type": "stream",
     "text": [
      "Frame processed in 1.21s\n",
      "\n",
      "--- Processing frame 305 ---\n"
     ]
    },
    {
     "name": "stderr",
     "output_type": "stream",
     "text": [
      "frame loading (JPEG): 100%|██████████| 1/1 [00:00<00:00, 20.48it/s]\n",
      "propagate in video:   0%|          | 0/1 [00:00<?, ?it/s]\n"
     ]
    },
    {
     "name": "stdout",
     "output_type": "stream",
     "text": [
      "Frame processed in 1.28s\n",
      "\n",
      "--- Processing frame 306 ---\n"
     ]
    },
    {
     "name": "stderr",
     "output_type": "stream",
     "text": [
      "frame loading (JPEG): 100%|██████████| 1/1 [00:00<00:00, 20.73it/s]\n",
      "propagate in video:   0%|          | 0/1 [00:00<?, ?it/s]\n"
     ]
    },
    {
     "name": "stdout",
     "output_type": "stream",
     "text": [
      "Frame processed in 1.17s\n",
      "\n",
      "--- Processing frame 307 ---\n"
     ]
    },
    {
     "name": "stderr",
     "output_type": "stream",
     "text": [
      "frame loading (JPEG): 100%|██████████| 1/1 [00:00<00:00, 25.20it/s]\n",
      "propagate in video:   0%|          | 0/1 [00:00<?, ?it/s]\n"
     ]
    },
    {
     "name": "stdout",
     "output_type": "stream",
     "text": [
      "Frame processed in 1.20s\n",
      "\n",
      "--- Processing frame 308 ---\n"
     ]
    },
    {
     "name": "stderr",
     "output_type": "stream",
     "text": [
      "frame loading (JPEG): 100%|██████████| 1/1 [00:00<00:00, 20.57it/s]\n",
      "propagate in video:   0%|          | 0/1 [00:00<?, ?it/s]\n"
     ]
    },
    {
     "name": "stdout",
     "output_type": "stream",
     "text": [
      "Frame processed in 1.25s\n",
      "\n",
      "--- Processing frame 309 ---\n"
     ]
    },
    {
     "name": "stderr",
     "output_type": "stream",
     "text": [
      "frame loading (JPEG): 100%|██████████| 1/1 [00:00<00:00, 23.42it/s]\n",
      "propagate in video:   0%|          | 0/1 [00:00<?, ?it/s]\n"
     ]
    },
    {
     "name": "stdout",
     "output_type": "stream",
     "text": [
      "Frame processed in 1.16s\n",
      "\n",
      "--- Processing frame 310 ---\n"
     ]
    },
    {
     "name": "stderr",
     "output_type": "stream",
     "text": [
      "frame loading (JPEG): 100%|██████████| 1/1 [00:00<00:00, 19.66it/s]\n",
      "propagate in video:   0%|          | 0/1 [00:00<?, ?it/s]\n"
     ]
    },
    {
     "name": "stdout",
     "output_type": "stream",
     "text": [
      "Frame processed in 1.20s\n",
      "\n",
      "--- Processing frame 311 ---\n"
     ]
    },
    {
     "name": "stderr",
     "output_type": "stream",
     "text": [
      "frame loading (JPEG): 100%|██████████| 1/1 [00:00<00:00, 21.69it/s]\n",
      "propagate in video:   0%|          | 0/1 [00:00<?, ?it/s]\n"
     ]
    },
    {
     "name": "stdout",
     "output_type": "stream",
     "text": [
      "Frame processed in 1.27s\n",
      "\n",
      "--- Processing frame 312 ---\n"
     ]
    },
    {
     "name": "stderr",
     "output_type": "stream",
     "text": [
      "frame loading (JPEG): 100%|██████████| 1/1 [00:00<00:00, 25.86it/s]\n",
      "propagate in video:   0%|          | 0/1 [00:00<?, ?it/s]\n"
     ]
    },
    {
     "name": "stdout",
     "output_type": "stream",
     "text": [
      "Frame processed in 1.13s\n",
      "\n",
      "--- Processing frame 313 ---\n"
     ]
    },
    {
     "name": "stderr",
     "output_type": "stream",
     "text": [
      "frame loading (JPEG): 100%|██████████| 1/1 [00:00<00:00, 21.23it/s]\n",
      "propagate in video:   0%|          | 0/1 [00:00<?, ?it/s]\n"
     ]
    },
    {
     "name": "stdout",
     "output_type": "stream",
     "text": [
      "Frame processed in 1.19s\n",
      "\n",
      "--- Processing frame 314 ---\n"
     ]
    },
    {
     "name": "stderr",
     "output_type": "stream",
     "text": [
      "frame loading (JPEG): 100%|██████████| 1/1 [00:00<00:00, 27.05it/s]\n",
      "propagate in video:   0%|          | 0/1 [00:00<?, ?it/s]\n"
     ]
    },
    {
     "name": "stdout",
     "output_type": "stream",
     "text": [
      "Frame processed in 1.23s\n",
      "\n",
      "--- Processing frame 315 ---\n"
     ]
    },
    {
     "name": "stderr",
     "output_type": "stream",
     "text": [
      "frame loading (JPEG): 100%|██████████| 1/1 [00:00<00:00, 19.27it/s]\n",
      "propagate in video:   0%|          | 0/1 [00:00<?, ?it/s]\n",
      "FutureWarning: The `device` argument is deprecated and will be removed in v5 of Transformers.\n",
      "UserWarning: torch.utils.checkpoint: the use_reentrant parameter should be passed explicitly. In version 2.5 we will raise an exception if use_reentrant is not passed. use_reentrant=False is recommended, but if you need to preserve the current default behavior, you can pass use_reentrant=True. Refer to docs for more details on the differences between the two variants.\n",
      "UserWarning: None of the inputs have requires_grad=True. Gradients will be None\n"
     ]
    },
    {
     "name": "stdout",
     "output_type": "stream",
     "text": [
      "Analysis with Grounding Dino\n"
     ]
    },
    {
     "name": "stderr",
     "output_type": "stream",
     "text": [
      "FutureWarning: `torch.cuda.amp.autocast(args...)` is deprecated. Please use `torch.amp.autocast('cuda', args...)` instead.\n"
     ]
    },
    {
     "name": "stdout",
     "output_type": "stream",
     "text": [
      "['object', 'object'] tensor([0.7001, 0.3267])\n",
      "Frame processed in 1.76s\n",
      "\n",
      "--- Processing frame 316 ---\n"
     ]
    },
    {
     "name": "stderr",
     "output_type": "stream",
     "text": [
      "frame loading (JPEG): 100%|██████████| 1/1 [00:00<00:00, 26.32it/s]\n",
      "propagate in video:   0%|          | 0/1 [00:00<?, ?it/s]\n"
     ]
    },
    {
     "name": "stdout",
     "output_type": "stream",
     "text": [
      "Frame processed in 1.17s\n",
      "\n",
      "--- Processing frame 317 ---\n"
     ]
    },
    {
     "name": "stderr",
     "output_type": "stream",
     "text": [
      "frame loading (JPEG): 100%|██████████| 1/1 [00:00<00:00, 23.27it/s]\n",
      "propagate in video:   0%|          | 0/1 [00:00<?, ?it/s]\n"
     ]
    },
    {
     "name": "stdout",
     "output_type": "stream",
     "text": [
      "Frame processed in 1.27s\n",
      "\n",
      "--- Processing frame 318 ---\n"
     ]
    },
    {
     "name": "stderr",
     "output_type": "stream",
     "text": [
      "frame loading (JPEG): 100%|██████████| 1/1 [00:00<00:00, 25.51it/s]\n",
      "propagate in video:   0%|          | 0/1 [00:00<?, ?it/s]\n"
     ]
    },
    {
     "name": "stdout",
     "output_type": "stream",
     "text": [
      "Frame processed in 1.25s\n",
      "\n",
      "--- Processing frame 319 ---\n"
     ]
    },
    {
     "name": "stderr",
     "output_type": "stream",
     "text": [
      "frame loading (JPEG): 100%|██████████| 1/1 [00:00<00:00, 20.87it/s]\n",
      "propagate in video:   0%|          | 0/1 [00:00<?, ?it/s]\n"
     ]
    },
    {
     "name": "stdout",
     "output_type": "stream",
     "text": [
      "Frame processed in 1.25s\n",
      "\n",
      "--- Processing frame 320 ---\n"
     ]
    },
    {
     "name": "stderr",
     "output_type": "stream",
     "text": [
      "frame loading (JPEG): 100%|██████████| 1/1 [00:00<00:00, 19.53it/s]\n",
      "propagate in video:   0%|          | 0/1 [00:00<?, ?it/s]\n"
     ]
    },
    {
     "name": "stdout",
     "output_type": "stream",
     "text": [
      "Frame processed in 1.19s\n",
      "\n",
      "--- Processing frame 321 ---\n"
     ]
    },
    {
     "name": "stderr",
     "output_type": "stream",
     "text": [
      "frame loading (JPEG): 100%|██████████| 1/1 [00:00<00:00, 24.44it/s]\n",
      "propagate in video:   0%|          | 0/1 [00:00<?, ?it/s]\n"
     ]
    },
    {
     "name": "stdout",
     "output_type": "stream",
     "text": [
      "Frame processed in 1.20s\n",
      "\n",
      "--- Processing frame 322 ---\n"
     ]
    },
    {
     "name": "stderr",
     "output_type": "stream",
     "text": [
      "frame loading (JPEG): 100%|██████████| 1/1 [00:00<00:00, 21.18it/s]\n",
      "propagate in video:   0%|          | 0/1 [00:00<?, ?it/s]\n"
     ]
    },
    {
     "name": "stdout",
     "output_type": "stream",
     "text": [
      "Frame processed in 1.18s\n",
      "\n",
      "--- Processing frame 323 ---\n"
     ]
    },
    {
     "name": "stderr",
     "output_type": "stream",
     "text": [
      "frame loading (JPEG): 100%|██████████| 1/1 [00:00<00:00, 17.75it/s]\n",
      "propagate in video:   0%|          | 0/1 [00:00<?, ?it/s]\n"
     ]
    },
    {
     "name": "stdout",
     "output_type": "stream",
     "text": [
      "Frame processed in 1.28s\n",
      "\n",
      "--- Processing frame 324 ---\n"
     ]
    },
    {
     "name": "stderr",
     "output_type": "stream",
     "text": [
      "frame loading (JPEG): 100%|██████████| 1/1 [00:00<00:00, 23.09it/s]\n",
      "propagate in video:   0%|          | 0/1 [00:00<?, ?it/s]\n"
     ]
    },
    {
     "name": "stdout",
     "output_type": "stream",
     "text": [
      "Frame processed in 1.20s\n",
      "\n",
      "--- Processing frame 325 ---\n"
     ]
    },
    {
     "name": "stderr",
     "output_type": "stream",
     "text": [
      "frame loading (JPEG): 100%|██████████| 1/1 [00:00<00:00, 25.88it/s]\n",
      "propagate in video:   0%|          | 0/1 [00:00<?, ?it/s]\n"
     ]
    },
    {
     "name": "stdout",
     "output_type": "stream",
     "text": [
      "Frame processed in 1.17s\n",
      "\n",
      "--- Processing frame 326 ---\n"
     ]
    },
    {
     "name": "stderr",
     "output_type": "stream",
     "text": [
      "frame loading (JPEG): 100%|██████████| 1/1 [00:00<00:00, 20.03it/s]\n",
      "propagate in video:   0%|          | 0/1 [00:00<?, ?it/s]\n"
     ]
    },
    {
     "name": "stdout",
     "output_type": "stream",
     "text": [
      "Frame processed in 1.23s\n",
      "\n",
      "--- Processing frame 327 ---\n"
     ]
    },
    {
     "name": "stderr",
     "output_type": "stream",
     "text": [
      "frame loading (JPEG): 100%|██████████| 1/1 [00:00<00:00, 23.35it/s]\n",
      "propagate in video:   0%|          | 0/1 [00:00<?, ?it/s]\n"
     ]
    },
    {
     "name": "stdout",
     "output_type": "stream",
     "text": [
      "Frame processed in 1.21s\n",
      "\n",
      "--- Processing frame 328 ---\n"
     ]
    },
    {
     "name": "stderr",
     "output_type": "stream",
     "text": [
      "frame loading (JPEG): 100%|██████████| 1/1 [00:00<00:00, 22.17it/s]\n",
      "propagate in video:   0%|          | 0/1 [00:00<?, ?it/s]\n"
     ]
    },
    {
     "name": "stdout",
     "output_type": "stream",
     "text": [
      "Frame processed in 1.27s\n",
      "\n",
      "--- Processing frame 329 ---\n"
     ]
    },
    {
     "name": "stderr",
     "output_type": "stream",
     "text": [
      "frame loading (JPEG): 100%|██████████| 1/1 [00:00<00:00, 17.72it/s]\n",
      "propagate in video:   0%|          | 0/1 [00:00<?, ?it/s]\n"
     ]
    },
    {
     "name": "stdout",
     "output_type": "stream",
     "text": [
      "Frame processed in 1.28s\n",
      "\n",
      "--- Processing frame 330 ---\n"
     ]
    },
    {
     "name": "stderr",
     "output_type": "stream",
     "text": [
      "frame loading (JPEG): 100%|██████████| 1/1 [00:00<00:00, 21.80it/s]\n",
      "propagate in video:   0%|          | 0/1 [00:00<?, ?it/s]\n",
      "FutureWarning: The `device` argument is deprecated and will be removed in v5 of Transformers.\n",
      "UserWarning: torch.utils.checkpoint: the use_reentrant parameter should be passed explicitly. In version 2.5 we will raise an exception if use_reentrant is not passed. use_reentrant=False is recommended, but if you need to preserve the current default behavior, you can pass use_reentrant=True. Refer to docs for more details on the differences between the two variants.\n",
      "UserWarning: None of the inputs have requires_grad=True. Gradients will be None\n"
     ]
    },
    {
     "name": "stdout",
     "output_type": "stream",
     "text": [
      "Analysis with Grounding Dino\n"
     ]
    },
    {
     "name": "stderr",
     "output_type": "stream",
     "text": [
      "FutureWarning: `torch.cuda.amp.autocast(args...)` is deprecated. Please use `torch.amp.autocast('cuda', args...)` instead.\n"
     ]
    },
    {
     "name": "stdout",
     "output_type": "stream",
     "text": [
      "['object', 'object'] tensor([0.6766, 0.3979])\n",
      "Frame processed in 1.70s\n",
      "\n",
      "--- Processing frame 331 ---\n"
     ]
    },
    {
     "name": "stderr",
     "output_type": "stream",
     "text": [
      "frame loading (JPEG): 100%|██████████| 1/1 [00:00<00:00, 22.53it/s]\n",
      "propagate in video:   0%|          | 0/1 [00:00<?, ?it/s]\n"
     ]
    },
    {
     "name": "stdout",
     "output_type": "stream",
     "text": [
      "Frame processed in 1.17s\n",
      "\n",
      "--- Processing frame 332 ---\n"
     ]
    },
    {
     "name": "stderr",
     "output_type": "stream",
     "text": [
      "frame loading (JPEG): 100%|██████████| 1/1 [00:00<00:00, 25.28it/s]\n",
      "propagate in video:   0%|          | 0/1 [00:00<?, ?it/s]\n"
     ]
    },
    {
     "name": "stdout",
     "output_type": "stream",
     "text": [
      "Frame processed in 1.19s\n",
      "\n",
      "--- Processing frame 333 ---\n"
     ]
    },
    {
     "name": "stderr",
     "output_type": "stream",
     "text": [
      "frame loading (JPEG): 100%|██████████| 1/1 [00:00<00:00, 22.64it/s]\n",
      "propagate in video:   0%|          | 0/1 [00:00<?, ?it/s]\n"
     ]
    },
    {
     "name": "stdout",
     "output_type": "stream",
     "text": [
      "Frame processed in 1.26s\n",
      "\n",
      "--- Processing frame 334 ---\n"
     ]
    },
    {
     "name": "stderr",
     "output_type": "stream",
     "text": [
      "frame loading (JPEG): 100%|██████████| 1/1 [00:00<00:00, 23.00it/s]\n",
      "propagate in video:   0%|          | 0/1 [00:00<?, ?it/s]\n"
     ]
    },
    {
     "name": "stdout",
     "output_type": "stream",
     "text": [
      "Frame processed in 1.18s\n",
      "\n",
      "--- Processing frame 335 ---\n"
     ]
    },
    {
     "name": "stderr",
     "output_type": "stream",
     "text": [
      "frame loading (JPEG): 100%|██████████| 1/1 [00:00<00:00, 23.71it/s]\n",
      "propagate in video:   0%|          | 0/1 [00:00<?, ?it/s]\n"
     ]
    },
    {
     "name": "stdout",
     "output_type": "stream",
     "text": [
      "Frame processed in 1.18s\n",
      "\n",
      "--- Processing frame 336 ---\n"
     ]
    },
    {
     "name": "stderr",
     "output_type": "stream",
     "text": [
      "frame loading (JPEG): 100%|██████████| 1/1 [00:00<00:00, 24.02it/s]\n",
      "propagate in video:   0%|          | 0/1 [00:00<?, ?it/s]\n"
     ]
    },
    {
     "name": "stdout",
     "output_type": "stream",
     "text": [
      "Frame processed in 1.19s\n",
      "\n",
      "--- Processing frame 337 ---\n"
     ]
    },
    {
     "name": "stderr",
     "output_type": "stream",
     "text": [
      "frame loading (JPEG): 100%|██████████| 1/1 [00:00<00:00, 20.21it/s]\n",
      "propagate in video:   0%|          | 0/1 [00:00<?, ?it/s]\n"
     ]
    },
    {
     "name": "stdout",
     "output_type": "stream",
     "text": [
      "Frame processed in 1.25s\n",
      "\n",
      "--- Processing frame 338 ---\n"
     ]
    },
    {
     "name": "stderr",
     "output_type": "stream",
     "text": [
      "frame loading (JPEG): 100%|██████████| 1/1 [00:00<00:00, 20.82it/s]\n",
      "propagate in video:   0%|          | 0/1 [00:00<?, ?it/s]\n"
     ]
    },
    {
     "name": "stdout",
     "output_type": "stream",
     "text": [
      "Frame processed in 1.20s\n",
      "\n",
      "--- Processing frame 339 ---\n"
     ]
    },
    {
     "name": "stderr",
     "output_type": "stream",
     "text": [
      "frame loading (JPEG): 100%|██████████| 1/1 [00:00<00:00, 14.48it/s]\n",
      "propagate in video:   0%|          | 0/1 [00:00<?, ?it/s]\n"
     ]
    },
    {
     "name": "stdout",
     "output_type": "stream",
     "text": [
      "Frame processed in 1.20s\n",
      "\n",
      "--- Processing frame 340 ---\n"
     ]
    },
    {
     "name": "stderr",
     "output_type": "stream",
     "text": [
      "frame loading (JPEG): 100%|██████████| 1/1 [00:00<00:00, 21.20it/s]\n",
      "propagate in video:   0%|          | 0/1 [00:00<?, ?it/s]\n"
     ]
    },
    {
     "name": "stdout",
     "output_type": "stream",
     "text": [
      "Frame processed in 1.26s\n",
      "\n",
      "--- Processing frame 341 ---\n"
     ]
    },
    {
     "name": "stderr",
     "output_type": "stream",
     "text": [
      "frame loading (JPEG): 100%|██████████| 1/1 [00:00<00:00, 20.53it/s]\n",
      "propagate in video:   0%|          | 0/1 [00:00<?, ?it/s]\n"
     ]
    },
    {
     "name": "stdout",
     "output_type": "stream",
     "text": [
      "Frame processed in 1.17s\n",
      "\n",
      "--- Processing frame 342 ---\n"
     ]
    },
    {
     "name": "stderr",
     "output_type": "stream",
     "text": [
      "frame loading (JPEG): 100%|██████████| 1/1 [00:00<00:00, 12.31it/s]\n",
      "propagate in video:   0%|          | 0/1 [00:00<?, ?it/s]\n"
     ]
    },
    {
     "name": "stdout",
     "output_type": "stream",
     "text": [
      "Frame processed in 1.40s\n",
      "\n",
      "--- Processing frame 343 ---\n"
     ]
    },
    {
     "name": "stderr",
     "output_type": "stream",
     "text": [
      "frame loading (JPEG): 100%|██████████| 1/1 [00:00<00:00, 21.18it/s]\n",
      "propagate in video:   0%|          | 0/1 [00:00<?, ?it/s]\n"
     ]
    },
    {
     "name": "stdout",
     "output_type": "stream",
     "text": [
      "Frame processed in 1.29s\n",
      "\n",
      "--- Processing frame 344 ---\n"
     ]
    },
    {
     "name": "stderr",
     "output_type": "stream",
     "text": [
      "frame loading (JPEG): 100%|██████████| 1/1 [00:00<00:00, 24.84it/s]\n",
      "propagate in video:   0%|          | 0/1 [00:00<?, ?it/s]\n"
     ]
    },
    {
     "name": "stdout",
     "output_type": "stream",
     "text": [
      "Frame processed in 1.22s\n",
      "\n",
      "--- Processing frame 345 ---\n"
     ]
    },
    {
     "name": "stderr",
     "output_type": "stream",
     "text": [
      "frame loading (JPEG): 100%|██████████| 1/1 [00:00<00:00, 20.03it/s]\n",
      "propagate in video:   0%|          | 0/1 [00:00<?, ?it/s]\n",
      "FutureWarning: The `device` argument is deprecated and will be removed in v5 of Transformers.\n",
      "UserWarning: torch.utils.checkpoint: the use_reentrant parameter should be passed explicitly. In version 2.5 we will raise an exception if use_reentrant is not passed. use_reentrant=False is recommended, but if you need to preserve the current default behavior, you can pass use_reentrant=True. Refer to docs for more details on the differences between the two variants.\n",
      "UserWarning: None of the inputs have requires_grad=True. Gradients will be None\n"
     ]
    },
    {
     "name": "stdout",
     "output_type": "stream",
     "text": [
      "Analysis with Grounding Dino\n"
     ]
    },
    {
     "name": "stderr",
     "output_type": "stream",
     "text": [
      "FutureWarning: `torch.cuda.amp.autocast(args...)` is deprecated. Please use `torch.amp.autocast('cuda', args...)` instead.\n"
     ]
    },
    {
     "name": "stdout",
     "output_type": "stream",
     "text": [
      "['object', 'object'] tensor([0.6410, 0.2946])\n",
      "Frame processed in 1.81s\n",
      "\n",
      "--- Processing frame 346 ---\n"
     ]
    },
    {
     "name": "stderr",
     "output_type": "stream",
     "text": [
      "frame loading (JPEG): 100%|██████████| 1/1 [00:00<00:00, 18.69it/s]\n",
      "propagate in video:   0%|          | 0/1 [00:00<?, ?it/s]\n"
     ]
    },
    {
     "name": "stdout",
     "output_type": "stream",
     "text": [
      "Frame processed in 1.24s\n",
      "\n",
      "--- Processing frame 347 ---\n"
     ]
    },
    {
     "name": "stderr",
     "output_type": "stream",
     "text": [
      "frame loading (JPEG): 100%|██████████| 1/1 [00:00<00:00, 23.70it/s]\n",
      "propagate in video:   0%|          | 0/1 [00:00<?, ?it/s]\n"
     ]
    },
    {
     "name": "stdout",
     "output_type": "stream",
     "text": [
      "Frame processed in 1.26s\n",
      "\n",
      "--- Processing frame 348 ---\n"
     ]
    },
    {
     "name": "stderr",
     "output_type": "stream",
     "text": [
      "frame loading (JPEG): 100%|██████████| 1/1 [00:00<00:00, 23.96it/s]\n",
      "propagate in video:   0%|          | 0/1 [00:00<?, ?it/s]\n"
     ]
    },
    {
     "name": "stdout",
     "output_type": "stream",
     "text": [
      "Frame processed in 1.22s\n",
      "\n",
      "--- Processing frame 349 ---\n"
     ]
    },
    {
     "name": "stderr",
     "output_type": "stream",
     "text": [
      "frame loading (JPEG): 100%|██████████| 1/1 [00:00<00:00, 25.55it/s]\n",
      "propagate in video:   0%|          | 0/1 [00:00<?, ?it/s]\n"
     ]
    },
    {
     "name": "stdout",
     "output_type": "stream",
     "text": [
      "Frame processed in 1.21s\n",
      "\n",
      "--- Processing frame 350 ---\n"
     ]
    },
    {
     "name": "stderr",
     "output_type": "stream",
     "text": [
      "frame loading (JPEG): 100%|██████████| 1/1 [00:00<00:00, 24.79it/s]\n",
      "propagate in video:   0%|          | 0/1 [00:00<?, ?it/s]\n"
     ]
    },
    {
     "name": "stdout",
     "output_type": "stream",
     "text": [
      "Frame processed in 1.19s\n",
      "\n",
      "--- Processing frame 351 ---\n"
     ]
    },
    {
     "name": "stderr",
     "output_type": "stream",
     "text": [
      "frame loading (JPEG): 100%|██████████| 1/1 [00:00<00:00, 21.14it/s]\n",
      "propagate in video:   0%|          | 0/1 [00:00<?, ?it/s]\n"
     ]
    },
    {
     "name": "stdout",
     "output_type": "stream",
     "text": [
      "Frame processed in 1.29s\n",
      "\n",
      "--- Processing frame 352 ---\n"
     ]
    },
    {
     "name": "stderr",
     "output_type": "stream",
     "text": [
      "frame loading (JPEG): 100%|██████████| 1/1 [00:00<00:00, 25.55it/s]\n",
      "propagate in video:   0%|          | 0/1 [00:00<?, ?it/s]\n"
     ]
    },
    {
     "name": "stdout",
     "output_type": "stream",
     "text": [
      "Frame processed in 1.18s\n",
      "\n",
      "--- Processing frame 353 ---\n"
     ]
    },
    {
     "name": "stderr",
     "output_type": "stream",
     "text": [
      "frame loading (JPEG): 100%|██████████| 1/1 [00:00<00:00, 19.78it/s]\n",
      "propagate in video:   0%|          | 0/1 [00:00<?, ?it/s]\n"
     ]
    },
    {
     "name": "stdout",
     "output_type": "stream",
     "text": [
      "Frame processed in 1.25s\n",
      "\n",
      "--- Processing frame 354 ---\n"
     ]
    },
    {
     "name": "stderr",
     "output_type": "stream",
     "text": [
      "frame loading (JPEG): 100%|██████████| 1/1 [00:00<00:00, 23.16it/s]\n",
      "propagate in video:   0%|          | 0/1 [00:00<?, ?it/s]\n"
     ]
    },
    {
     "name": "stdout",
     "output_type": "stream",
     "text": [
      "Frame processed in 1.27s\n",
      "\n",
      "--- Processing frame 355 ---\n"
     ]
    },
    {
     "name": "stderr",
     "output_type": "stream",
     "text": [
      "frame loading (JPEG): 100%|██████████| 1/1 [00:00<00:00, 21.82it/s]\n",
      "propagate in video:   0%|          | 0/1 [00:00<?, ?it/s]\n"
     ]
    },
    {
     "name": "stdout",
     "output_type": "stream",
     "text": [
      "Frame processed in 1.27s\n",
      "\n",
      "--- Processing frame 356 ---\n"
     ]
    },
    {
     "name": "stderr",
     "output_type": "stream",
     "text": [
      "frame loading (JPEG): 100%|██████████| 1/1 [00:00<00:00, 24.33it/s]\n",
      "propagate in video:   0%|          | 0/1 [00:00<?, ?it/s]\n"
     ]
    },
    {
     "name": "stdout",
     "output_type": "stream",
     "text": [
      "Frame processed in 1.32s\n",
      "\n",
      "--- Processing frame 357 ---\n"
     ]
    },
    {
     "name": "stderr",
     "output_type": "stream",
     "text": [
      "frame loading (JPEG): 100%|██████████| 1/1 [00:00<00:00, 22.97it/s]\n",
      "propagate in video:   0%|          | 0/1 [00:00<?, ?it/s]\n"
     ]
    },
    {
     "name": "stdout",
     "output_type": "stream",
     "text": [
      "Frame processed in 1.31s\n",
      "\n",
      "--- Processing frame 358 ---\n"
     ]
    },
    {
     "name": "stderr",
     "output_type": "stream",
     "text": [
      "frame loading (JPEG): 100%|██████████| 1/1 [00:00<00:00, 25.25it/s]\n",
      "propagate in video:   0%|          | 0/1 [00:00<?, ?it/s]\n"
     ]
    },
    {
     "name": "stdout",
     "output_type": "stream",
     "text": [
      "Frame processed in 1.17s\n",
      "\n",
      "--- Processing frame 359 ---\n"
     ]
    },
    {
     "name": "stderr",
     "output_type": "stream",
     "text": [
      "frame loading (JPEG): 100%|██████████| 1/1 [00:00<00:00, 20.48it/s]\n",
      "propagate in video:   0%|          | 0/1 [00:00<?, ?it/s]\n"
     ]
    },
    {
     "name": "stdout",
     "output_type": "stream",
     "text": [
      "Frame processed in 1.20s\n",
      "\n",
      "--- Processing frame 360 ---\n"
     ]
    },
    {
     "name": "stderr",
     "output_type": "stream",
     "text": [
      "frame loading (JPEG): 100%|██████████| 1/1 [00:00<00:00, 23.95it/s]\n",
      "propagate in video:   0%|          | 0/1 [00:00<?, ?it/s]\n",
      "FutureWarning: The `device` argument is deprecated and will be removed in v5 of Transformers.\n",
      "UserWarning: torch.utils.checkpoint: the use_reentrant parameter should be passed explicitly. In version 2.5 we will raise an exception if use_reentrant is not passed. use_reentrant=False is recommended, but if you need to preserve the current default behavior, you can pass use_reentrant=True. Refer to docs for more details on the differences between the two variants.\n",
      "UserWarning: None of the inputs have requires_grad=True. Gradients will be None\n"
     ]
    },
    {
     "name": "stdout",
     "output_type": "stream",
     "text": [
      "Analysis with Grounding Dino\n"
     ]
    },
    {
     "name": "stderr",
     "output_type": "stream",
     "text": [
      "FutureWarning: `torch.cuda.amp.autocast(args...)` is deprecated. Please use `torch.amp.autocast('cuda', args...)` instead.\n"
     ]
    },
    {
     "name": "stdout",
     "output_type": "stream",
     "text": [
      "['object', 'object', 'object'] tensor([0.6145, 0.2296, 0.2991])\n",
      "Frame processed in 1.75s\n",
      "\n",
      "--- Processing frame 361 ---\n"
     ]
    },
    {
     "name": "stderr",
     "output_type": "stream",
     "text": [
      "frame loading (JPEG): 100%|██████████| 1/1 [00:00<00:00, 20.24it/s]\n",
      "propagate in video:   0%|          | 0/1 [00:00<?, ?it/s]\n"
     ]
    },
    {
     "name": "stdout",
     "output_type": "stream",
     "text": [
      "Frame processed in 1.25s\n",
      "\n",
      "--- Processing frame 362 ---\n"
     ]
    },
    {
     "name": "stderr",
     "output_type": "stream",
     "text": [
      "frame loading (JPEG): 100%|██████████| 1/1 [00:00<00:00, 19.80it/s]\n",
      "propagate in video:   0%|          | 0/1 [00:00<?, ?it/s]\n"
     ]
    },
    {
     "name": "stdout",
     "output_type": "stream",
     "text": [
      "Frame processed in 1.26s\n",
      "\n",
      "--- Processing frame 363 ---\n"
     ]
    },
    {
     "name": "stderr",
     "output_type": "stream",
     "text": [
      "frame loading (JPEG): 100%|██████████| 1/1 [00:00<00:00, 23.94it/s]\n",
      "propagate in video:   0%|          | 0/1 [00:00<?, ?it/s]\n"
     ]
    },
    {
     "name": "stdout",
     "output_type": "stream",
     "text": [
      "Frame processed in 1.27s\n",
      "\n",
      "--- Processing frame 364 ---\n"
     ]
    },
    {
     "name": "stderr",
     "output_type": "stream",
     "text": [
      "frame loading (JPEG): 100%|██████████| 1/1 [00:00<00:00, 19.97it/s]\n",
      "propagate in video:   0%|          | 0/1 [00:00<?, ?it/s]\n"
     ]
    },
    {
     "name": "stdout",
     "output_type": "stream",
     "text": [
      "Frame processed in 1.29s\n",
      "\n",
      "--- Processing frame 365 ---\n"
     ]
    },
    {
     "name": "stderr",
     "output_type": "stream",
     "text": [
      "frame loading (JPEG): 100%|██████████| 1/1 [00:00<00:00, 20.27it/s]\n",
      "propagate in video:   0%|          | 0/1 [00:00<?, ?it/s]\n"
     ]
    },
    {
     "name": "stdout",
     "output_type": "stream",
     "text": [
      "Frame processed in 1.27s\n",
      "\n",
      "--- Processing frame 366 ---\n"
     ]
    },
    {
     "name": "stderr",
     "output_type": "stream",
     "text": [
      "frame loading (JPEG): 100%|██████████| 1/1 [00:00<00:00, 20.87it/s]\n",
      "propagate in video:   0%|          | 0/1 [00:00<?, ?it/s]\n"
     ]
    },
    {
     "name": "stdout",
     "output_type": "stream",
     "text": [
      "Frame processed in 1.30s\n",
      "\n",
      "--- Processing frame 367 ---\n"
     ]
    },
    {
     "name": "stderr",
     "output_type": "stream",
     "text": [
      "frame loading (JPEG): 100%|██████████| 1/1 [00:00<00:00, 25.69it/s]\n",
      "propagate in video:   0%|          | 0/1 [00:00<?, ?it/s]\n"
     ]
    },
    {
     "name": "stdout",
     "output_type": "stream",
     "text": [
      "Frame processed in 1.16s\n",
      "\n",
      "--- Processing frame 368 ---\n"
     ]
    },
    {
     "name": "stderr",
     "output_type": "stream",
     "text": [
      "frame loading (JPEG): 100%|██████████| 1/1 [00:00<00:00, 20.58it/s]\n",
      "propagate in video:   0%|          | 0/1 [00:00<?, ?it/s]\n"
     ]
    },
    {
     "name": "stdout",
     "output_type": "stream",
     "text": [
      "Frame processed in 1.16s\n",
      "\n",
      "--- Processing frame 369 ---\n"
     ]
    },
    {
     "name": "stderr",
     "output_type": "stream",
     "text": [
      "frame loading (JPEG): 100%|██████████| 1/1 [00:00<00:00, 20.27it/s]\n",
      "propagate in video:   0%|          | 0/1 [00:00<?, ?it/s]\n"
     ]
    },
    {
     "name": "stdout",
     "output_type": "stream",
     "text": [
      "Frame processed in 1.17s\n",
      "\n",
      "--- Processing frame 370 ---\n"
     ]
    },
    {
     "name": "stderr",
     "output_type": "stream",
     "text": [
      "frame loading (JPEG): 100%|██████████| 1/1 [00:00<00:00, 19.59it/s]\n",
      "propagate in video:   0%|          | 0/1 [00:00<?, ?it/s]\n"
     ]
    },
    {
     "name": "stdout",
     "output_type": "stream",
     "text": [
      "Frame processed in 1.24s\n",
      "\n",
      "--- Processing frame 371 ---\n"
     ]
    },
    {
     "name": "stderr",
     "output_type": "stream",
     "text": [
      "frame loading (JPEG): 100%|██████████| 1/1 [00:00<00:00, 24.71it/s]\n",
      "propagate in video:   0%|          | 0/1 [00:00<?, ?it/s]\n"
     ]
    },
    {
     "name": "stdout",
     "output_type": "stream",
     "text": [
      "Frame processed in 1.21s\n",
      "\n",
      "--- Processing frame 372 ---\n"
     ]
    },
    {
     "name": "stderr",
     "output_type": "stream",
     "text": [
      "frame loading (JPEG): 100%|██████████| 1/1 [00:00<00:00, 20.16it/s]\n",
      "propagate in video:   0%|          | 0/1 [00:00<?, ?it/s]\n"
     ]
    },
    {
     "name": "stdout",
     "output_type": "stream",
     "text": [
      "Frame processed in 1.29s\n",
      "\n",
      "--- Processing frame 373 ---\n"
     ]
    },
    {
     "name": "stderr",
     "output_type": "stream",
     "text": [
      "frame loading (JPEG): 100%|██████████| 1/1 [00:00<00:00, 25.14it/s]\n",
      "propagate in video:   0%|          | 0/1 [00:00<?, ?it/s]\n"
     ]
    },
    {
     "name": "stdout",
     "output_type": "stream",
     "text": [
      "Frame processed in 1.22s\n",
      "\n",
      "--- Processing frame 374 ---\n"
     ]
    },
    {
     "name": "stderr",
     "output_type": "stream",
     "text": [
      "frame loading (JPEG): 100%|██████████| 1/1 [00:00<00:00, 25.04it/s]\n",
      "propagate in video:   0%|          | 0/1 [00:00<?, ?it/s]\n"
     ]
    },
    {
     "name": "stdout",
     "output_type": "stream",
     "text": [
      "Frame processed in 1.25s\n",
      "\n",
      "--- Processing frame 375 ---\n"
     ]
    },
    {
     "name": "stderr",
     "output_type": "stream",
     "text": [
      "frame loading (JPEG): 100%|██████████| 1/1 [00:00<00:00, 22.92it/s]\n",
      "propagate in video:   0%|          | 0/1 [00:00<?, ?it/s]\n",
      "FutureWarning: The `device` argument is deprecated and will be removed in v5 of Transformers.\n",
      "UserWarning: torch.utils.checkpoint: the use_reentrant parameter should be passed explicitly. In version 2.5 we will raise an exception if use_reentrant is not passed. use_reentrant=False is recommended, but if you need to preserve the current default behavior, you can pass use_reentrant=True. Refer to docs for more details on the differences between the two variants.\n",
      "UserWarning: None of the inputs have requires_grad=True. Gradients will be None\n"
     ]
    },
    {
     "name": "stdout",
     "output_type": "stream",
     "text": [
      "Analysis with Grounding Dino\n"
     ]
    },
    {
     "name": "stderr",
     "output_type": "stream",
     "text": [
      "FutureWarning: `torch.cuda.amp.autocast(args...)` is deprecated. Please use `torch.amp.autocast('cuda', args...)` instead.\n"
     ]
    },
    {
     "name": "stdout",
     "output_type": "stream",
     "text": [
      "['object', 'object'] tensor([0.6855, 0.3884])\n",
      "Frame processed in 1.82s\n",
      "\n",
      "--- Processing frame 376 ---\n"
     ]
    },
    {
     "name": "stderr",
     "output_type": "stream",
     "text": [
      "frame loading (JPEG): 100%|██████████| 1/1 [00:00<00:00, 24.10it/s]\n",
      "propagate in video:   0%|          | 0/1 [00:00<?, ?it/s]\n"
     ]
    },
    {
     "name": "stdout",
     "output_type": "stream",
     "text": [
      "Frame processed in 1.28s\n",
      "\n",
      "--- Processing frame 377 ---\n"
     ]
    },
    {
     "name": "stderr",
     "output_type": "stream",
     "text": [
      "frame loading (JPEG): 100%|██████████| 1/1 [00:00<00:00, 20.63it/s]\n",
      "propagate in video:   0%|          | 0/1 [00:00<?, ?it/s]\n"
     ]
    },
    {
     "name": "stdout",
     "output_type": "stream",
     "text": [
      "Frame processed in 1.26s\n",
      "\n",
      "--- Processing frame 378 ---\n"
     ]
    },
    {
     "name": "stderr",
     "output_type": "stream",
     "text": [
      "frame loading (JPEG): 100%|██████████| 1/1 [00:00<00:00, 22.94it/s]\n",
      "propagate in video:   0%|          | 0/1 [00:00<?, ?it/s]\n"
     ]
    },
    {
     "name": "stdout",
     "output_type": "stream",
     "text": [
      "Frame processed in 1.19s\n",
      "\n",
      "--- Processing frame 379 ---\n"
     ]
    },
    {
     "name": "stderr",
     "output_type": "stream",
     "text": [
      "frame loading (JPEG): 100%|██████████| 1/1 [00:00<00:00, 19.87it/s]\n",
      "propagate in video:   0%|          | 0/1 [00:00<?, ?it/s]\n"
     ]
    },
    {
     "name": "stdout",
     "output_type": "stream",
     "text": [
      "Frame processed in 1.25s\n",
      "\n",
      "--- Processing frame 380 ---\n"
     ]
    },
    {
     "name": "stderr",
     "output_type": "stream",
     "text": [
      "frame loading (JPEG): 100%|██████████| 1/1 [00:00<00:00, 19.81it/s]\n",
      "propagate in video:   0%|          | 0/1 [00:00<?, ?it/s]\n"
     ]
    },
    {
     "name": "stdout",
     "output_type": "stream",
     "text": [
      "Frame processed in 1.33s\n",
      "\n",
      "--- Processing frame 381 ---\n"
     ]
    },
    {
     "name": "stderr",
     "output_type": "stream",
     "text": [
      "frame loading (JPEG): 100%|██████████| 1/1 [00:00<00:00, 23.65it/s]\n",
      "propagate in video:   0%|          | 0/1 [00:00<?, ?it/s]\n"
     ]
    },
    {
     "name": "stdout",
     "output_type": "stream",
     "text": [
      "Frame processed in 1.25s\n",
      "\n",
      "--- Processing frame 382 ---\n"
     ]
    },
    {
     "name": "stderr",
     "output_type": "stream",
     "text": [
      "frame loading (JPEG): 100%|██████████| 1/1 [00:00<00:00, 19.90it/s]\n",
      "propagate in video:   0%|          | 0/1 [00:00<?, ?it/s]\n"
     ]
    },
    {
     "name": "stdout",
     "output_type": "stream",
     "text": [
      "Frame processed in 1.24s\n",
      "\n",
      "--- Processing frame 383 ---\n"
     ]
    },
    {
     "name": "stderr",
     "output_type": "stream",
     "text": [
      "frame loading (JPEG): 100%|██████████| 1/1 [00:00<00:00, 20.38it/s]\n",
      "propagate in video:   0%|          | 0/1 [00:00<?, ?it/s]\n"
     ]
    },
    {
     "name": "stdout",
     "output_type": "stream",
     "text": [
      "Frame processed in 1.28s\n",
      "\n",
      "--- Processing frame 384 ---\n"
     ]
    },
    {
     "name": "stderr",
     "output_type": "stream",
     "text": [
      "frame loading (JPEG): 100%|██████████| 1/1 [00:00<00:00, 19.50it/s]\n",
      "propagate in video:   0%|          | 0/1 [00:00<?, ?it/s]\n"
     ]
    },
    {
     "name": "stdout",
     "output_type": "stream",
     "text": [
      "Frame processed in 1.29s\n",
      "\n",
      "--- Processing frame 385 ---\n"
     ]
    },
    {
     "name": "stderr",
     "output_type": "stream",
     "text": [
      "frame loading (JPEG): 100%|██████████| 1/1 [00:00<00:00, 26.14it/s]\n",
      "propagate in video:   0%|          | 0/1 [00:00<?, ?it/s]\n"
     ]
    },
    {
     "name": "stdout",
     "output_type": "stream",
     "text": [
      "Frame processed in 1.26s\n",
      "\n",
      "--- Processing frame 386 ---\n"
     ]
    },
    {
     "name": "stderr",
     "output_type": "stream",
     "text": [
      "frame loading (JPEG): 100%|██████████| 1/1 [00:00<00:00, 22.41it/s]\n",
      "propagate in video:   0%|          | 0/1 [00:00<?, ?it/s]\n"
     ]
    },
    {
     "name": "stdout",
     "output_type": "stream",
     "text": [
      "Frame processed in 1.34s\n",
      "\n",
      "--- Processing frame 387 ---\n"
     ]
    },
    {
     "name": "stderr",
     "output_type": "stream",
     "text": [
      "frame loading (JPEG): 100%|██████████| 1/1 [00:00<00:00, 22.69it/s]\n",
      "propagate in video:   0%|          | 0/1 [00:00<?, ?it/s]\n"
     ]
    },
    {
     "name": "stdout",
     "output_type": "stream",
     "text": [
      "Frame processed in 1.19s\n",
      "\n",
      "--- Processing frame 388 ---\n"
     ]
    },
    {
     "name": "stderr",
     "output_type": "stream",
     "text": [
      "frame loading (JPEG): 100%|██████████| 1/1 [00:00<00:00, 25.23it/s]\n",
      "propagate in video:   0%|          | 0/1 [00:00<?, ?it/s]\n"
     ]
    },
    {
     "name": "stdout",
     "output_type": "stream",
     "text": [
      "Frame processed in 1.26s\n",
      "\n",
      "--- Processing frame 389 ---\n"
     ]
    },
    {
     "name": "stderr",
     "output_type": "stream",
     "text": [
      "frame loading (JPEG): 100%|██████████| 1/1 [00:00<00:00, 23.79it/s]\n",
      "propagate in video:   0%|          | 0/1 [00:00<?, ?it/s]\n"
     ]
    },
    {
     "name": "stdout",
     "output_type": "stream",
     "text": [
      "Frame processed in 1.24s\n",
      "\n",
      "--- Processing frame 390 ---\n"
     ]
    },
    {
     "name": "stderr",
     "output_type": "stream",
     "text": [
      "frame loading (JPEG): 100%|██████████| 1/1 [00:00<00:00, 24.89it/s]\n",
      "propagate in video:   0%|          | 0/1 [00:00<?, ?it/s]\n",
      "FutureWarning: The `device` argument is deprecated and will be removed in v5 of Transformers.\n",
      "UserWarning: torch.utils.checkpoint: the use_reentrant parameter should be passed explicitly. In version 2.5 we will raise an exception if use_reentrant is not passed. use_reentrant=False is recommended, but if you need to preserve the current default behavior, you can pass use_reentrant=True. Refer to docs for more details on the differences between the two variants.\n",
      "UserWarning: None of the inputs have requires_grad=True. Gradients will be None\n"
     ]
    },
    {
     "name": "stdout",
     "output_type": "stream",
     "text": [
      "Analysis with Grounding Dino\n"
     ]
    },
    {
     "name": "stderr",
     "output_type": "stream",
     "text": [
      "FutureWarning: `torch.cuda.amp.autocast(args...)` is deprecated. Please use `torch.amp.autocast('cuda', args...)` instead.\n"
     ]
    },
    {
     "name": "stdout",
     "output_type": "stream",
     "text": [
      "['object', 'object'] tensor([0.6931, 0.3817])\n",
      "Frame processed in 1.79s\n",
      "\n",
      "--- Processing frame 391 ---\n"
     ]
    },
    {
     "name": "stderr",
     "output_type": "stream",
     "text": [
      "frame loading (JPEG): 100%|██████████| 1/1 [00:00<00:00, 24.98it/s]\n",
      "propagate in video:   0%|          | 0/1 [00:00<?, ?it/s]\n"
     ]
    },
    {
     "name": "stdout",
     "output_type": "stream",
     "text": [
      "Frame processed in 1.20s\n",
      "\n",
      "--- Processing frame 392 ---\n"
     ]
    },
    {
     "name": "stderr",
     "output_type": "stream",
     "text": [
      "frame loading (JPEG): 100%|██████████| 1/1 [00:00<00:00, 20.33it/s]\n",
      "propagate in video:   0%|          | 0/1 [00:00<?, ?it/s]\n"
     ]
    },
    {
     "name": "stdout",
     "output_type": "stream",
     "text": [
      "Frame processed in 1.30s\n",
      "\n",
      "--- Processing frame 393 ---\n"
     ]
    },
    {
     "name": "stderr",
     "output_type": "stream",
     "text": [
      "frame loading (JPEG): 100%|██████████| 1/1 [00:00<00:00, 20.63it/s]\n",
      "propagate in video:   0%|          | 0/1 [00:00<?, ?it/s]\n"
     ]
    },
    {
     "name": "stdout",
     "output_type": "stream",
     "text": [
      "Frame processed in 1.32s\n",
      "\n",
      "--- Processing frame 394 ---\n"
     ]
    },
    {
     "name": "stderr",
     "output_type": "stream",
     "text": [
      "frame loading (JPEG): 100%|██████████| 1/1 [00:00<00:00, 19.29it/s]\n",
      "propagate in video:   0%|          | 0/1 [00:00<?, ?it/s]\n"
     ]
    },
    {
     "name": "stdout",
     "output_type": "stream",
     "text": [
      "Frame processed in 1.24s\n",
      "\n",
      "--- Processing frame 395 ---\n"
     ]
    },
    {
     "name": "stderr",
     "output_type": "stream",
     "text": [
      "frame loading (JPEG): 100%|██████████| 1/1 [00:00<00:00, 17.01it/s]\n",
      "propagate in video:   0%|          | 0/1 [00:00<?, ?it/s]\n"
     ]
    },
    {
     "name": "stdout",
     "output_type": "stream",
     "text": [
      "Frame processed in 1.22s\n",
      "\n",
      "--- Processing frame 396 ---\n"
     ]
    },
    {
     "name": "stderr",
     "output_type": "stream",
     "text": [
      "frame loading (JPEG): 100%|██████████| 1/1 [00:00<00:00, 22.63it/s]\n",
      "propagate in video:   0%|          | 0/1 [00:00<?, ?it/s]\n"
     ]
    },
    {
     "name": "stdout",
     "output_type": "stream",
     "text": [
      "Frame processed in 1.27s\n",
      "\n",
      "--- Processing frame 397 ---\n"
     ]
    },
    {
     "name": "stderr",
     "output_type": "stream",
     "text": [
      "frame loading (JPEG): 100%|██████████| 1/1 [00:00<00:00, 19.89it/s]\n",
      "propagate in video:   0%|          | 0/1 [00:00<?, ?it/s]\n"
     ]
    },
    {
     "name": "stdout",
     "output_type": "stream",
     "text": [
      "Frame processed in 1.36s\n",
      "\n",
      "--- Processing frame 398 ---\n"
     ]
    },
    {
     "name": "stderr",
     "output_type": "stream",
     "text": [
      "frame loading (JPEG): 100%|██████████| 1/1 [00:00<00:00, 19.13it/s]\n",
      "propagate in video:   0%|          | 0/1 [00:00<?, ?it/s]\n"
     ]
    },
    {
     "name": "stdout",
     "output_type": "stream",
     "text": [
      "Frame processed in 1.25s\n",
      "\n",
      "--- Processing frame 399 ---\n"
     ]
    },
    {
     "name": "stderr",
     "output_type": "stream",
     "text": [
      "frame loading (JPEG): 100%|██████████| 1/1 [00:00<00:00, 15.32it/s]\n",
      "propagate in video:   0%|          | 0/1 [00:00<?, ?it/s]\n"
     ]
    },
    {
     "name": "stdout",
     "output_type": "stream",
     "text": [
      "Frame processed in 1.27s\n",
      "\n",
      "--- Processing frame 400 ---\n"
     ]
    },
    {
     "name": "stderr",
     "output_type": "stream",
     "text": [
      "frame loading (JPEG): 100%|██████████| 1/1 [00:00<00:00, 24.24it/s]\n",
      "propagate in video:   0%|          | 0/1 [00:00<?, ?it/s]\n"
     ]
    },
    {
     "name": "stdout",
     "output_type": "stream",
     "text": [
      "Frame processed in 1.21s\n",
      "\n",
      "--- Processing frame 401 ---\n"
     ]
    },
    {
     "name": "stderr",
     "output_type": "stream",
     "text": [
      "frame loading (JPEG): 100%|██████████| 1/1 [00:00<00:00, 20.52it/s]\n",
      "propagate in video:   0%|          | 0/1 [00:00<?, ?it/s]\n"
     ]
    },
    {
     "name": "stdout",
     "output_type": "stream",
     "text": [
      "Frame processed in 1.27s\n",
      "\n",
      "--- Processing frame 402 ---\n"
     ]
    },
    {
     "name": "stderr",
     "output_type": "stream",
     "text": [
      "frame loading (JPEG): 100%|██████████| 1/1 [00:00<00:00, 23.57it/s]\n",
      "propagate in video:   0%|          | 0/1 [00:00<?, ?it/s]\n"
     ]
    },
    {
     "name": "stdout",
     "output_type": "stream",
     "text": [
      "Frame processed in 1.24s\n",
      "\n",
      "--- Processing frame 403 ---\n"
     ]
    },
    {
     "name": "stderr",
     "output_type": "stream",
     "text": [
      "frame loading (JPEG): 100%|██████████| 1/1 [00:00<00:00, 22.33it/s]\n",
      "propagate in video:   0%|          | 0/1 [00:00<?, ?it/s]\n"
     ]
    },
    {
     "name": "stdout",
     "output_type": "stream",
     "text": [
      "Frame processed in 1.23s\n",
      "\n",
      "--- Processing frame 404 ---\n"
     ]
    },
    {
     "name": "stderr",
     "output_type": "stream",
     "text": [
      "frame loading (JPEG): 100%|██████████| 1/1 [00:00<00:00, 22.50it/s]\n",
      "propagate in video:   0%|          | 0/1 [00:00<?, ?it/s]\n"
     ]
    },
    {
     "name": "stdout",
     "output_type": "stream",
     "text": [
      "Frame processed in 1.27s\n",
      "\n",
      "--- Processing frame 405 ---\n"
     ]
    },
    {
     "name": "stderr",
     "output_type": "stream",
     "text": [
      "frame loading (JPEG): 100%|██████████| 1/1 [00:00<00:00, 20.09it/s]\n",
      "propagate in video:   0%|          | 0/1 [00:00<?, ?it/s]\n",
      "FutureWarning: The `device` argument is deprecated and will be removed in v5 of Transformers.\n",
      "UserWarning: torch.utils.checkpoint: the use_reentrant parameter should be passed explicitly. In version 2.5 we will raise an exception if use_reentrant is not passed. use_reentrant=False is recommended, but if you need to preserve the current default behavior, you can pass use_reentrant=True. Refer to docs for more details on the differences between the two variants.\n",
      "UserWarning: None of the inputs have requires_grad=True. Gradients will be None\n"
     ]
    },
    {
     "name": "stdout",
     "output_type": "stream",
     "text": [
      "Analysis with Grounding Dino\n"
     ]
    },
    {
     "name": "stderr",
     "output_type": "stream",
     "text": [
      "FutureWarning: `torch.cuda.amp.autocast(args...)` is deprecated. Please use `torch.amp.autocast('cuda', args...)` instead.\n"
     ]
    },
    {
     "name": "stdout",
     "output_type": "stream",
     "text": [
      "['object', 'object', 'object'] tensor([0.6282, 0.3817, 0.2524])\n",
      "Frame processed in 1.82s\n",
      "\n",
      "--- Processing frame 406 ---\n"
     ]
    },
    {
     "name": "stderr",
     "output_type": "stream",
     "text": [
      "frame loading (JPEG): 100%|██████████| 1/1 [00:00<00:00, 24.24it/s]\n",
      "propagate in video:   0%|          | 0/1 [00:00<?, ?it/s]\n"
     ]
    },
    {
     "name": "stdout",
     "output_type": "stream",
     "text": [
      "Frame processed in 1.21s\n",
      "\n",
      "--- Processing frame 407 ---\n"
     ]
    },
    {
     "name": "stderr",
     "output_type": "stream",
     "text": [
      "frame loading (JPEG): 100%|██████████| 1/1 [00:00<00:00, 20.88it/s]\n",
      "propagate in video:   0%|          | 0/1 [00:00<?, ?it/s]\n"
     ]
    },
    {
     "name": "stdout",
     "output_type": "stream",
     "text": [
      "Frame processed in 1.30s\n",
      "\n",
      "--- Processing frame 408 ---\n"
     ]
    },
    {
     "name": "stderr",
     "output_type": "stream",
     "text": [
      "frame loading (JPEG): 100%|██████████| 1/1 [00:00<00:00, 20.32it/s]\n",
      "propagate in video:   0%|          | 0/1 [00:00<?, ?it/s]\n"
     ]
    },
    {
     "name": "stdout",
     "output_type": "stream",
     "text": [
      "Frame processed in 1.27s\n",
      "\n",
      "--- Processing frame 409 ---\n"
     ]
    },
    {
     "name": "stderr",
     "output_type": "stream",
     "text": [
      "frame loading (JPEG): 100%|██████████| 1/1 [00:00<00:00, 19.54it/s]\n",
      "propagate in video:   0%|          | 0/1 [00:00<?, ?it/s]\n"
     ]
    },
    {
     "name": "stdout",
     "output_type": "stream",
     "text": [
      "Frame processed in 1.23s\n",
      "\n",
      "--- Processing frame 410 ---\n"
     ]
    },
    {
     "name": "stderr",
     "output_type": "stream",
     "text": [
      "frame loading (JPEG): 100%|██████████| 1/1 [00:00<00:00, 20.08it/s]\n",
      "propagate in video:   0%|          | 0/1 [00:00<?, ?it/s]\n"
     ]
    },
    {
     "name": "stdout",
     "output_type": "stream",
     "text": [
      "Frame processed in 1.32s\n",
      "\n",
      "--- Processing frame 411 ---\n"
     ]
    },
    {
     "name": "stderr",
     "output_type": "stream",
     "text": [
      "frame loading (JPEG): 100%|██████████| 1/1 [00:00<00:00, 24.83it/s]\n",
      "propagate in video:   0%|          | 0/1 [00:00<?, ?it/s]\n"
     ]
    },
    {
     "name": "stdout",
     "output_type": "stream",
     "text": [
      "Frame processed in 1.23s\n",
      "\n",
      "--- Processing frame 412 ---\n"
     ]
    },
    {
     "name": "stderr",
     "output_type": "stream",
     "text": [
      "frame loading (JPEG): 100%|██████████| 1/1 [00:00<00:00, 20.33it/s]\n",
      "propagate in video:   0%|          | 0/1 [00:00<?, ?it/s]\n"
     ]
    },
    {
     "name": "stdout",
     "output_type": "stream",
     "text": [
      "Frame processed in 1.25s\n",
      "\n",
      "--- Processing frame 413 ---\n"
     ]
    },
    {
     "name": "stderr",
     "output_type": "stream",
     "text": [
      "frame loading (JPEG): 100%|██████████| 1/1 [00:00<00:00, 20.03it/s]\n",
      "propagate in video:   0%|          | 0/1 [00:00<?, ?it/s]\n"
     ]
    },
    {
     "name": "stdout",
     "output_type": "stream",
     "text": [
      "Frame processed in 1.28s\n",
      "\n",
      "--- Processing frame 414 ---\n"
     ]
    },
    {
     "name": "stderr",
     "output_type": "stream",
     "text": [
      "frame loading (JPEG): 100%|██████████| 1/1 [00:00<00:00, 20.01it/s]\n",
      "propagate in video:   0%|          | 0/1 [00:00<?, ?it/s]\n"
     ]
    },
    {
     "name": "stdout",
     "output_type": "stream",
     "text": [
      "Frame processed in 1.25s\n",
      "\n",
      "--- Processing frame 415 ---\n"
     ]
    },
    {
     "name": "stderr",
     "output_type": "stream",
     "text": [
      "frame loading (JPEG): 100%|██████████| 1/1 [00:00<00:00, 20.06it/s]\n",
      "propagate in video:   0%|          | 0/1 [00:00<?, ?it/s]\n"
     ]
    },
    {
     "name": "stdout",
     "output_type": "stream",
     "text": [
      "Frame processed in 1.26s\n",
      "\n",
      "--- Processing frame 416 ---\n"
     ]
    },
    {
     "name": "stderr",
     "output_type": "stream",
     "text": [
      "frame loading (JPEG): 100%|██████████| 1/1 [00:00<00:00, 20.12it/s]\n",
      "propagate in video:   0%|          | 0/1 [00:00<?, ?it/s]\n"
     ]
    },
    {
     "name": "stdout",
     "output_type": "stream",
     "text": [
      "Frame processed in 1.26s\n",
      "\n",
      "--- Processing frame 417 ---\n"
     ]
    },
    {
     "name": "stderr",
     "output_type": "stream",
     "text": [
      "frame loading (JPEG): 100%|██████████| 1/1 [00:00<00:00, 23.18it/s]\n",
      "propagate in video:   0%|          | 0/1 [00:00<?, ?it/s]\n"
     ]
    },
    {
     "name": "stdout",
     "output_type": "stream",
     "text": [
      "Frame processed in 1.27s\n",
      "\n",
      "--- Processing frame 418 ---\n"
     ]
    },
    {
     "name": "stderr",
     "output_type": "stream",
     "text": [
      "frame loading (JPEG): 100%|██████████| 1/1 [00:00<00:00, 15.45it/s]\n",
      "propagate in video:   0%|          | 0/1 [00:00<?, ?it/s]\n"
     ]
    },
    {
     "name": "stdout",
     "output_type": "stream",
     "text": [
      "Frame processed in 1.32s\n",
      "\n",
      "--- Processing frame 419 ---\n"
     ]
    },
    {
     "name": "stderr",
     "output_type": "stream",
     "text": [
      "frame loading (JPEG): 100%|██████████| 1/1 [00:00<00:00, 19.86it/s]\n",
      "propagate in video:   0%|          | 0/1 [00:00<?, ?it/s]\n"
     ]
    },
    {
     "name": "stdout",
     "output_type": "stream",
     "text": [
      "Frame processed in 1.46s\n",
      "\n",
      "--- Processing frame 420 ---\n"
     ]
    },
    {
     "name": "stderr",
     "output_type": "stream",
     "text": [
      "frame loading (JPEG): 100%|██████████| 1/1 [00:00<00:00, 16.83it/s]\n",
      "propagate in video:   0%|          | 0/1 [00:00<?, ?it/s]\n",
      "FutureWarning: The `device` argument is deprecated and will be removed in v5 of Transformers.\n",
      "UserWarning: torch.utils.checkpoint: the use_reentrant parameter should be passed explicitly. In version 2.5 we will raise an exception if use_reentrant is not passed. use_reentrant=False is recommended, but if you need to preserve the current default behavior, you can pass use_reentrant=True. Refer to docs for more details on the differences between the two variants.\n",
      "UserWarning: None of the inputs have requires_grad=True. Gradients will be None\n"
     ]
    },
    {
     "name": "stdout",
     "output_type": "stream",
     "text": [
      "Analysis with Grounding Dino\n"
     ]
    },
    {
     "name": "stderr",
     "output_type": "stream",
     "text": [
      "FutureWarning: `torch.cuda.amp.autocast(args...)` is deprecated. Please use `torch.amp.autocast('cuda', args...)` instead.\n"
     ]
    },
    {
     "name": "stdout",
     "output_type": "stream",
     "text": [
      "['object', 'object'] tensor([0.6495, 0.3595])\n",
      "Frame processed in 1.82s\n",
      "\n",
      "--- Processing frame 421 ---\n"
     ]
    },
    {
     "name": "stderr",
     "output_type": "stream",
     "text": [
      "frame loading (JPEG): 100%|██████████| 1/1 [00:00<00:00, 19.86it/s]\n",
      "propagate in video:   0%|          | 0/1 [00:00<?, ?it/s]\n"
     ]
    },
    {
     "name": "stdout",
     "output_type": "stream",
     "text": [
      "Frame processed in 1.36s\n",
      "\n",
      "--- Processing frame 422 ---\n"
     ]
    },
    {
     "name": "stderr",
     "output_type": "stream",
     "text": [
      "frame loading (JPEG): 100%|██████████| 1/1 [00:00<00:00, 20.48it/s]\n",
      "propagate in video:   0%|          | 0/1 [00:00<?, ?it/s]\n"
     ]
    },
    {
     "name": "stdout",
     "output_type": "stream",
     "text": [
      "Frame processed in 1.33s\n",
      "\n",
      "--- Processing frame 423 ---\n"
     ]
    },
    {
     "name": "stderr",
     "output_type": "stream",
     "text": [
      "frame loading (JPEG): 100%|██████████| 1/1 [00:00<00:00, 24.27it/s]\n",
      "propagate in video:   0%|          | 0/1 [00:00<?, ?it/s]\n"
     ]
    },
    {
     "name": "stdout",
     "output_type": "stream",
     "text": [
      "Frame processed in 1.31s\n",
      "\n",
      "--- Processing frame 424 ---\n"
     ]
    },
    {
     "name": "stderr",
     "output_type": "stream",
     "text": [
      "frame loading (JPEG): 100%|██████████| 1/1 [00:00<00:00, 20.20it/s]\n",
      "propagate in video:   0%|          | 0/1 [00:00<?, ?it/s]\n"
     ]
    },
    {
     "name": "stdout",
     "output_type": "stream",
     "text": [
      "Frame processed in 1.29s\n",
      "\n",
      "--- Processing frame 425 ---\n"
     ]
    },
    {
     "name": "stderr",
     "output_type": "stream",
     "text": [
      "frame loading (JPEG): 100%|██████████| 1/1 [00:00<00:00, 19.92it/s]\n",
      "propagate in video:   0%|          | 0/1 [00:00<?, ?it/s]\n"
     ]
    },
    {
     "name": "stdout",
     "output_type": "stream",
     "text": [
      "Frame processed in 1.30s\n",
      "\n",
      "--- Processing frame 426 ---\n"
     ]
    },
    {
     "name": "stderr",
     "output_type": "stream",
     "text": [
      "frame loading (JPEG): 100%|██████████| 1/1 [00:00<00:00, 20.00it/s]\n",
      "propagate in video:   0%|          | 0/1 [00:00<?, ?it/s]\n"
     ]
    },
    {
     "name": "stdout",
     "output_type": "stream",
     "text": [
      "Frame processed in 1.33s\n",
      "\n",
      "--- Processing frame 427 ---\n"
     ]
    },
    {
     "name": "stderr",
     "output_type": "stream",
     "text": [
      "frame loading (JPEG): 100%|██████████| 1/1 [00:00<00:00, 19.89it/s]\n",
      "propagate in video:   0%|          | 0/1 [00:00<?, ?it/s]\n"
     ]
    },
    {
     "name": "stdout",
     "output_type": "stream",
     "text": [
      "Frame processed in 1.27s\n",
      "\n",
      "--- Processing frame 428 ---\n"
     ]
    },
    {
     "name": "stderr",
     "output_type": "stream",
     "text": [
      "frame loading (JPEG): 100%|██████████| 1/1 [00:00<00:00, 19.66it/s]\n",
      "propagate in video:   0%|          | 0/1 [00:00<?, ?it/s]\n"
     ]
    },
    {
     "name": "stdout",
     "output_type": "stream",
     "text": [
      "Frame processed in 1.31s\n",
      "\n",
      "--- Processing frame 429 ---\n"
     ]
    },
    {
     "name": "stderr",
     "output_type": "stream",
     "text": [
      "frame loading (JPEG): 100%|██████████| 1/1 [00:00<00:00, 19.83it/s]\n",
      "propagate in video:   0%|          | 0/1 [00:00<?, ?it/s]\n"
     ]
    },
    {
     "name": "stdout",
     "output_type": "stream",
     "text": [
      "Frame processed in 1.24s\n",
      "\n",
      "--- Processing frame 430 ---\n"
     ]
    },
    {
     "name": "stderr",
     "output_type": "stream",
     "text": [
      "frame loading (JPEG): 100%|██████████| 1/1 [00:00<00:00, 24.52it/s]\n",
      "propagate in video:   0%|          | 0/1 [00:00<?, ?it/s]\n"
     ]
    },
    {
     "name": "stdout",
     "output_type": "stream",
     "text": [
      "Frame processed in 1.29s\n",
      "\n",
      "--- Processing frame 431 ---\n"
     ]
    },
    {
     "name": "stderr",
     "output_type": "stream",
     "text": [
      "frame loading (JPEG): 100%|██████████| 1/1 [00:00<00:00, 24.61it/s]\n",
      "propagate in video:   0%|          | 0/1 [00:00<?, ?it/s]\n"
     ]
    },
    {
     "name": "stdout",
     "output_type": "stream",
     "text": [
      "Frame processed in 1.28s\n",
      "\n",
      "--- Processing frame 432 ---\n"
     ]
    },
    {
     "name": "stderr",
     "output_type": "stream",
     "text": [
      "frame loading (JPEG): 100%|██████████| 1/1 [00:00<00:00, 18.66it/s]\n",
      "propagate in video:   0%|          | 0/1 [00:00<?, ?it/s]\n"
     ]
    },
    {
     "name": "stdout",
     "output_type": "stream",
     "text": [
      "Frame processed in 1.33s\n",
      "\n",
      "--- Processing frame 433 ---\n"
     ]
    },
    {
     "name": "stderr",
     "output_type": "stream",
     "text": [
      "frame loading (JPEG): 100%|██████████| 1/1 [00:00<00:00, 18.43it/s]\n",
      "propagate in video:   0%|          | 0/1 [00:00<?, ?it/s]\n"
     ]
    },
    {
     "name": "stdout",
     "output_type": "stream",
     "text": [
      "Frame processed in 1.30s\n",
      "\n",
      "--- Processing frame 434 ---\n"
     ]
    },
    {
     "name": "stderr",
     "output_type": "stream",
     "text": [
      "frame loading (JPEG): 100%|██████████| 1/1 [00:00<00:00, 22.74it/s]\n",
      "propagate in video:   0%|          | 0/1 [00:00<?, ?it/s]\n"
     ]
    },
    {
     "name": "stdout",
     "output_type": "stream",
     "text": [
      "Frame processed in 1.34s\n",
      "\n",
      "--- Processing frame 435 ---\n"
     ]
    },
    {
     "name": "stderr",
     "output_type": "stream",
     "text": [
      "frame loading (JPEG): 100%|██████████| 1/1 [00:00<00:00, 19.17it/s]\n",
      "propagate in video:   0%|          | 0/1 [00:00<?, ?it/s]\n",
      "FutureWarning: The `device` argument is deprecated and will be removed in v5 of Transformers.\n",
      "UserWarning: torch.utils.checkpoint: the use_reentrant parameter should be passed explicitly. In version 2.5 we will raise an exception if use_reentrant is not passed. use_reentrant=False is recommended, but if you need to preserve the current default behavior, you can pass use_reentrant=True. Refer to docs for more details on the differences between the two variants.\n",
      "UserWarning: None of the inputs have requires_grad=True. Gradients will be None\n"
     ]
    },
    {
     "name": "stdout",
     "output_type": "stream",
     "text": [
      "Analysis with Grounding Dino\n"
     ]
    },
    {
     "name": "stderr",
     "output_type": "stream",
     "text": [
      "FutureWarning: `torch.cuda.amp.autocast(args...)` is deprecated. Please use `torch.amp.autocast('cuda', args...)` instead.\n"
     ]
    },
    {
     "name": "stdout",
     "output_type": "stream",
     "text": [
      "['object', 'object'] tensor([0.6819, 0.3825])\n",
      "Frame processed in 1.79s\n",
      "\n",
      "--- Processing frame 436 ---\n"
     ]
    },
    {
     "name": "stderr",
     "output_type": "stream",
     "text": [
      "frame loading (JPEG): 100%|██████████| 1/1 [00:00<00:00, 21.55it/s]\n",
      "propagate in video:   0%|          | 0/1 [00:00<?, ?it/s]\n"
     ]
    },
    {
     "name": "stdout",
     "output_type": "stream",
     "text": [
      "Frame processed in 1.36s\n",
      "\n",
      "--- Processing frame 437 ---\n"
     ]
    },
    {
     "name": "stderr",
     "output_type": "stream",
     "text": [
      "frame loading (JPEG): 100%|██████████| 1/1 [00:00<00:00, 19.75it/s]\n",
      "propagate in video:   0%|          | 0/1 [00:00<?, ?it/s]\n"
     ]
    },
    {
     "name": "stdout",
     "output_type": "stream",
     "text": [
      "Frame processed in 1.38s\n",
      "\n",
      "--- Processing frame 438 ---\n"
     ]
    },
    {
     "name": "stderr",
     "output_type": "stream",
     "text": [
      "frame loading (JPEG): 100%|██████████| 1/1 [00:00<00:00, 20.75it/s]\n",
      "propagate in video:   0%|          | 0/1 [00:00<?, ?it/s]\n"
     ]
    },
    {
     "name": "stdout",
     "output_type": "stream",
     "text": [
      "Frame processed in 1.28s\n",
      "\n",
      "--- Processing frame 439 ---\n"
     ]
    },
    {
     "name": "stderr",
     "output_type": "stream",
     "text": [
      "frame loading (JPEG): 100%|██████████| 1/1 [00:00<00:00, 23.82it/s]\n",
      "propagate in video:   0%|          | 0/1 [00:00<?, ?it/s]\n"
     ]
    },
    {
     "name": "stdout",
     "output_type": "stream",
     "text": [
      "Frame processed in 1.30s\n",
      "\n",
      "--- Processing frame 440 ---\n"
     ]
    },
    {
     "name": "stderr",
     "output_type": "stream",
     "text": [
      "frame loading (JPEG): 100%|██████████| 1/1 [00:00<00:00, 24.32it/s]\n",
      "propagate in video:   0%|          | 0/1 [00:00<?, ?it/s]\n"
     ]
    },
    {
     "name": "stdout",
     "output_type": "stream",
     "text": [
      "Frame processed in 1.28s\n",
      "\n",
      "--- Processing frame 441 ---\n"
     ]
    },
    {
     "name": "stderr",
     "output_type": "stream",
     "text": [
      "frame loading (JPEG): 100%|██████████| 1/1 [00:00<00:00, 23.44it/s]\n",
      "propagate in video:   0%|          | 0/1 [00:00<?, ?it/s]\n"
     ]
    },
    {
     "name": "stdout",
     "output_type": "stream",
     "text": [
      "Frame processed in 1.33s\n",
      "\n",
      "--- Processing frame 442 ---\n"
     ]
    },
    {
     "name": "stderr",
     "output_type": "stream",
     "text": [
      "frame loading (JPEG): 100%|██████████| 1/1 [00:00<00:00, 21.10it/s]\n",
      "propagate in video:   0%|          | 0/1 [00:00<?, ?it/s]\n"
     ]
    },
    {
     "name": "stdout",
     "output_type": "stream",
     "text": [
      "Frame processed in 1.37s\n",
      "\n",
      "--- Processing frame 443 ---\n"
     ]
    },
    {
     "name": "stderr",
     "output_type": "stream",
     "text": [
      "frame loading (JPEG): 100%|██████████| 1/1 [00:00<00:00, 20.89it/s]\n",
      "propagate in video:   0%|          | 0/1 [00:00<?, ?it/s]\n"
     ]
    },
    {
     "name": "stdout",
     "output_type": "stream",
     "text": [
      "Frame processed in 1.33s\n",
      "\n",
      "--- Processing frame 444 ---\n"
     ]
    },
    {
     "name": "stderr",
     "output_type": "stream",
     "text": [
      "frame loading (JPEG): 100%|██████████| 1/1 [00:00<00:00, 23.34it/s]\n",
      "propagate in video:   0%|          | 0/1 [00:00<?, ?it/s]\n"
     ]
    },
    {
     "name": "stdout",
     "output_type": "stream",
     "text": [
      "Frame processed in 1.34s\n",
      "\n",
      "--- Processing frame 445 ---\n"
     ]
    },
    {
     "name": "stderr",
     "output_type": "stream",
     "text": [
      "frame loading (JPEG): 100%|██████████| 1/1 [00:00<00:00, 20.86it/s]\n",
      "propagate in video:   0%|          | 0/1 [00:00<?, ?it/s]\n"
     ]
    },
    {
     "name": "stdout",
     "output_type": "stream",
     "text": [
      "Frame processed in 1.30s\n",
      "\n",
      "--- Processing frame 446 ---\n"
     ]
    },
    {
     "name": "stderr",
     "output_type": "stream",
     "text": [
      "frame loading (JPEG): 100%|██████████| 1/1 [00:00<00:00, 22.91it/s]\n",
      "propagate in video:   0%|          | 0/1 [00:00<?, ?it/s]\n"
     ]
    },
    {
     "name": "stdout",
     "output_type": "stream",
     "text": [
      "Frame processed in 1.97s\n",
      "\n",
      "--- Processing frame 447 ---\n"
     ]
    },
    {
     "name": "stderr",
     "output_type": "stream",
     "text": [
      "frame loading (JPEG): 100%|██████████| 1/1 [00:00<00:00, 26.40it/s]\n",
      "propagate in video:   0%|          | 0/1 [00:00<?, ?it/s]\n"
     ]
    },
    {
     "name": "stdout",
     "output_type": "stream",
     "text": [
      "Frame processed in 1.29s\n",
      "\n",
      "--- Processing frame 448 ---\n"
     ]
    },
    {
     "name": "stderr",
     "output_type": "stream",
     "text": [
      "frame loading (JPEG): 100%|██████████| 1/1 [00:00<00:00, 25.28it/s]\n",
      "propagate in video:   0%|          | 0/1 [00:00<?, ?it/s]\n"
     ]
    },
    {
     "name": "stdout",
     "output_type": "stream",
     "text": [
      "Frame processed in 1.33s\n",
      "\n",
      "--- Processing frame 449 ---\n"
     ]
    },
    {
     "name": "stderr",
     "output_type": "stream",
     "text": [
      "frame loading (JPEG): 100%|██████████| 1/1 [00:00<00:00, 20.76it/s]\n",
      "propagate in video:   0%|          | 0/1 [00:00<?, ?it/s]\n"
     ]
    },
    {
     "name": "stdout",
     "output_type": "stream",
     "text": [
      "Frame processed in 1.26s\n",
      "\n",
      "--- Processing frame 450 ---\n"
     ]
    },
    {
     "name": "stderr",
     "output_type": "stream",
     "text": [
      "frame loading (JPEG): 100%|██████████| 1/1 [00:00<00:00, 20.29it/s]\n",
      "propagate in video:   0%|          | 0/1 [00:00<?, ?it/s]\n",
      "FutureWarning: The `device` argument is deprecated and will be removed in v5 of Transformers.\n",
      "UserWarning: torch.utils.checkpoint: the use_reentrant parameter should be passed explicitly. In version 2.5 we will raise an exception if use_reentrant is not passed. use_reentrant=False is recommended, but if you need to preserve the current default behavior, you can pass use_reentrant=True. Refer to docs for more details on the differences between the two variants.\n",
      "UserWarning: None of the inputs have requires_grad=True. Gradients will be None\n"
     ]
    },
    {
     "name": "stdout",
     "output_type": "stream",
     "text": [
      "Analysis with Grounding Dino\n"
     ]
    },
    {
     "name": "stderr",
     "output_type": "stream",
     "text": [
      "FutureWarning: `torch.cuda.amp.autocast(args...)` is deprecated. Please use `torch.amp.autocast('cuda', args...)` instead.\n"
     ]
    },
    {
     "name": "stdout",
     "output_type": "stream",
     "text": [
      "['object', 'object'] tensor([0.6433, 0.4308])\n",
      "Frame processed in 1.80s\n",
      "\n",
      "--- Processing frame 451 ---\n"
     ]
    },
    {
     "name": "stderr",
     "output_type": "stream",
     "text": [
      "frame loading (JPEG): 100%|██████████| 1/1 [00:00<00:00, 25.30it/s]\n",
      "propagate in video:   0%|          | 0/1 [00:00<?, ?it/s]\n"
     ]
    },
    {
     "name": "stdout",
     "output_type": "stream",
     "text": [
      "Frame processed in 1.23s\n",
      "\n",
      "--- Processing frame 452 ---\n"
     ]
    },
    {
     "name": "stderr",
     "output_type": "stream",
     "text": [
      "frame loading (JPEG): 100%|██████████| 1/1 [00:00<00:00, 15.32it/s]\n",
      "propagate in video:   0%|          | 0/1 [00:00<?, ?it/s]\n"
     ]
    },
    {
     "name": "stdout",
     "output_type": "stream",
     "text": [
      "Frame processed in 1.37s\n",
      "\n",
      "--- Processing frame 453 ---\n"
     ]
    },
    {
     "name": "stderr",
     "output_type": "stream",
     "text": [
      "frame loading (JPEG): 100%|██████████| 1/1 [00:00<00:00, 19.56it/s]\n",
      "propagate in video:   0%|          | 0/1 [00:00<?, ?it/s]\n"
     ]
    },
    {
     "name": "stdout",
     "output_type": "stream",
     "text": [
      "Frame processed in 1.27s\n",
      "\n",
      "--- Processing frame 454 ---\n"
     ]
    },
    {
     "name": "stderr",
     "output_type": "stream",
     "text": [
      "frame loading (JPEG): 100%|██████████| 1/1 [00:00<00:00, 20.56it/s]\n",
      "propagate in video:   0%|          | 0/1 [00:00<?, ?it/s]\n"
     ]
    },
    {
     "name": "stdout",
     "output_type": "stream",
     "text": [
      "Frame processed in 1.29s\n",
      "\n",
      "--- Processing frame 455 ---\n"
     ]
    },
    {
     "name": "stderr",
     "output_type": "stream",
     "text": [
      "frame loading (JPEG): 100%|██████████| 1/1 [00:00<00:00, 23.29it/s]\n",
      "propagate in video:   0%|          | 0/1 [00:00<?, ?it/s]\n"
     ]
    },
    {
     "name": "stdout",
     "output_type": "stream",
     "text": [
      "Frame processed in 1.29s\n",
      "\n",
      "--- Processing frame 456 ---\n"
     ]
    },
    {
     "name": "stderr",
     "output_type": "stream",
     "text": [
      "frame loading (JPEG): 100%|██████████| 1/1 [00:00<00:00, 20.51it/s]\n",
      "propagate in video:   0%|          | 0/1 [00:00<?, ?it/s]\n"
     ]
    },
    {
     "name": "stdout",
     "output_type": "stream",
     "text": [
      "Frame processed in 1.31s\n",
      "\n",
      "--- Processing frame 457 ---\n"
     ]
    },
    {
     "name": "stderr",
     "output_type": "stream",
     "text": [
      "frame loading (JPEG): 100%|██████████| 1/1 [00:00<00:00, 20.24it/s]\n",
      "propagate in video:   0%|          | 0/1 [00:00<?, ?it/s]\n"
     ]
    },
    {
     "name": "stdout",
     "output_type": "stream",
     "text": [
      "Frame processed in 1.36s\n",
      "\n",
      "--- Processing frame 458 ---\n"
     ]
    },
    {
     "name": "stderr",
     "output_type": "stream",
     "text": [
      "frame loading (JPEG): 100%|██████████| 1/1 [00:00<00:00, 23.46it/s]\n",
      "propagate in video:   0%|          | 0/1 [00:00<?, ?it/s]\n"
     ]
    },
    {
     "name": "stdout",
     "output_type": "stream",
     "text": [
      "Frame processed in 1.35s\n",
      "\n",
      "--- Processing frame 459 ---\n"
     ]
    },
    {
     "name": "stderr",
     "output_type": "stream",
     "text": [
      "frame loading (JPEG): 100%|██████████| 1/1 [00:00<00:00, 20.46it/s]\n",
      "propagate in video:   0%|          | 0/1 [00:00<?, ?it/s]\n"
     ]
    },
    {
     "name": "stdout",
     "output_type": "stream",
     "text": [
      "Frame processed in 1.33s\n",
      "\n",
      "--- Processing frame 460 ---\n"
     ]
    },
    {
     "name": "stderr",
     "output_type": "stream",
     "text": [
      "frame loading (JPEG): 100%|██████████| 1/1 [00:00<00:00, 20.68it/s]\n",
      "propagate in video:   0%|          | 0/1 [00:00<?, ?it/s]\n"
     ]
    },
    {
     "name": "stdout",
     "output_type": "stream",
     "text": [
      "Frame processed in 1.26s\n",
      "\n",
      "--- Processing frame 461 ---\n"
     ]
    },
    {
     "name": "stderr",
     "output_type": "stream",
     "text": [
      "frame loading (JPEG): 100%|██████████| 1/1 [00:00<00:00, 24.43it/s]\n",
      "propagate in video:   0%|          | 0/1 [00:00<?, ?it/s]\n"
     ]
    },
    {
     "name": "stdout",
     "output_type": "stream",
     "text": [
      "Frame processed in 1.26s\n",
      "\n",
      "--- Processing frame 462 ---\n"
     ]
    },
    {
     "name": "stderr",
     "output_type": "stream",
     "text": [
      "frame loading (JPEG): 100%|██████████| 1/1 [00:00<00:00, 20.57it/s]\n",
      "propagate in video:   0%|          | 0/1 [00:00<?, ?it/s]\n"
     ]
    },
    {
     "name": "stdout",
     "output_type": "stream",
     "text": [
      "Frame processed in 1.34s\n",
      "\n",
      "--- Processing frame 463 ---\n"
     ]
    },
    {
     "name": "stderr",
     "output_type": "stream",
     "text": [
      "frame loading (JPEG): 100%|██████████| 1/1 [00:00<00:00, 25.31it/s]\n",
      "propagate in video:   0%|          | 0/1 [00:00<?, ?it/s]\n"
     ]
    },
    {
     "name": "stdout",
     "output_type": "stream",
     "text": [
      "Frame processed in 1.25s\n",
      "\n",
      "--- Processing frame 464 ---\n"
     ]
    },
    {
     "name": "stderr",
     "output_type": "stream",
     "text": [
      "frame loading (JPEG): 100%|██████████| 1/1 [00:00<00:00, 20.04it/s]\n",
      "propagate in video:   0%|          | 0/1 [00:00<?, ?it/s]\n"
     ]
    },
    {
     "name": "stdout",
     "output_type": "stream",
     "text": [
      "Frame processed in 1.43s\n",
      "\n",
      "--- Processing frame 465 ---\n"
     ]
    },
    {
     "name": "stderr",
     "output_type": "stream",
     "text": [
      "frame loading (JPEG): 100%|██████████| 1/1 [00:00<00:00, 24.59it/s]\n",
      "propagate in video:   0%|          | 0/1 [00:00<?, ?it/s]\n",
      "FutureWarning: The `device` argument is deprecated and will be removed in v5 of Transformers.\n",
      "UserWarning: torch.utils.checkpoint: the use_reentrant parameter should be passed explicitly. In version 2.5 we will raise an exception if use_reentrant is not passed. use_reentrant=False is recommended, but if you need to preserve the current default behavior, you can pass use_reentrant=True. Refer to docs for more details on the differences between the two variants.\n",
      "UserWarning: None of the inputs have requires_grad=True. Gradients will be None\n"
     ]
    },
    {
     "name": "stdout",
     "output_type": "stream",
     "text": [
      "Analysis with Grounding Dino\n"
     ]
    },
    {
     "name": "stderr",
     "output_type": "stream",
     "text": [
      "FutureWarning: `torch.cuda.amp.autocast(args...)` is deprecated. Please use `torch.amp.autocast('cuda', args...)` instead.\n"
     ]
    },
    {
     "name": "stdout",
     "output_type": "stream",
     "text": [
      "['object', 'object'] tensor([0.6412, 0.3498])\n",
      "Frame processed in 1.74s\n",
      "\n",
      "--- Processing frame 466 ---\n"
     ]
    },
    {
     "name": "stderr",
     "output_type": "stream",
     "text": [
      "frame loading (JPEG): 100%|██████████| 1/1 [00:00<00:00, 20.65it/s]\n",
      "propagate in video:   0%|          | 0/1 [00:00<?, ?it/s]\n"
     ]
    },
    {
     "name": "stdout",
     "output_type": "stream",
     "text": [
      "Frame processed in 1.36s\n",
      "\n",
      "--- Processing frame 467 ---\n"
     ]
    },
    {
     "name": "stderr",
     "output_type": "stream",
     "text": [
      "frame loading (JPEG): 100%|██████████| 1/1 [00:00<00:00, 20.04it/s]\n",
      "propagate in video:   0%|          | 0/1 [00:00<?, ?it/s]\n"
     ]
    },
    {
     "name": "stdout",
     "output_type": "stream",
     "text": [
      "Frame processed in 1.30s\n",
      "\n",
      "--- Processing frame 468 ---\n"
     ]
    },
    {
     "name": "stderr",
     "output_type": "stream",
     "text": [
      "frame loading (JPEG): 100%|██████████| 1/1 [00:00<00:00, 19.74it/s]\n",
      "propagate in video:   0%|          | 0/1 [00:00<?, ?it/s]\n"
     ]
    },
    {
     "name": "stdout",
     "output_type": "stream",
     "text": [
      "Frame processed in 1.46s\n",
      "\n",
      "--- Processing frame 469 ---\n"
     ]
    },
    {
     "name": "stderr",
     "output_type": "stream",
     "text": [
      "frame loading (JPEG): 100%|██████████| 1/1 [00:00<00:00, 15.79it/s]\n",
      "propagate in video:   0%|          | 0/1 [00:00<?, ?it/s]\n"
     ]
    },
    {
     "name": "stdout",
     "output_type": "stream",
     "text": [
      "Frame processed in 1.36s\n",
      "\n",
      "--- Processing frame 470 ---\n"
     ]
    },
    {
     "name": "stderr",
     "output_type": "stream",
     "text": [
      "frame loading (JPEG): 100%|██████████| 1/1 [00:00<00:00, 23.62it/s]\n",
      "propagate in video:   0%|          | 0/1 [00:00<?, ?it/s]\n"
     ]
    },
    {
     "name": "stdout",
     "output_type": "stream",
     "text": [
      "Frame processed in 1.29s\n",
      "\n",
      "--- Processing frame 471 ---\n"
     ]
    },
    {
     "name": "stderr",
     "output_type": "stream",
     "text": [
      "frame loading (JPEG): 100%|██████████| 1/1 [00:00<00:00, 18.87it/s]\n",
      "propagate in video:   0%|          | 0/1 [00:00<?, ?it/s]\n"
     ]
    },
    {
     "name": "stdout",
     "output_type": "stream",
     "text": [
      "Frame processed in 1.36s\n",
      "\n",
      "--- Processing frame 472 ---\n"
     ]
    },
    {
     "name": "stderr",
     "output_type": "stream",
     "text": [
      "frame loading (JPEG): 100%|██████████| 1/1 [00:00<00:00, 21.30it/s]\n",
      "propagate in video:   0%|          | 0/1 [00:00<?, ?it/s]\n"
     ]
    },
    {
     "name": "stdout",
     "output_type": "stream",
     "text": [
      "Frame processed in 1.27s\n",
      "\n",
      "--- Processing frame 473 ---\n"
     ]
    },
    {
     "name": "stderr",
     "output_type": "stream",
     "text": [
      "frame loading (JPEG): 100%|██████████| 1/1 [00:00<00:00, 23.76it/s]\n",
      "propagate in video:   0%|          | 0/1 [00:00<?, ?it/s]\n"
     ]
    },
    {
     "name": "stdout",
     "output_type": "stream",
     "text": [
      "Frame processed in 1.32s\n",
      "\n",
      "--- Processing frame 474 ---\n"
     ]
    },
    {
     "name": "stderr",
     "output_type": "stream",
     "text": [
      "frame loading (JPEG): 100%|██████████| 1/1 [00:00<00:00, 22.20it/s]\n",
      "propagate in video:   0%|          | 0/1 [00:00<?, ?it/s]\n"
     ]
    },
    {
     "name": "stdout",
     "output_type": "stream",
     "text": [
      "Frame processed in 1.26s\n",
      "\n",
      "--- Processing frame 475 ---\n"
     ]
    },
    {
     "name": "stderr",
     "output_type": "stream",
     "text": [
      "frame loading (JPEG): 100%|██████████| 1/1 [00:00<00:00, 19.29it/s]\n",
      "propagate in video:   0%|          | 0/1 [00:00<?, ?it/s]\n"
     ]
    },
    {
     "name": "stdout",
     "output_type": "stream",
     "text": [
      "Frame processed in 1.36s\n",
      "\n",
      "--- Processing frame 476 ---\n"
     ]
    },
    {
     "name": "stderr",
     "output_type": "stream",
     "text": [
      "frame loading (JPEG): 100%|██████████| 1/1 [00:00<00:00, 19.27it/s]\n",
      "propagate in video:   0%|          | 0/1 [00:00<?, ?it/s]\n"
     ]
    },
    {
     "name": "stdout",
     "output_type": "stream",
     "text": [
      "Frame processed in 1.32s\n",
      "\n",
      "--- Processing frame 477 ---\n"
     ]
    },
    {
     "name": "stderr",
     "output_type": "stream",
     "text": [
      "frame loading (JPEG): 100%|██████████| 1/1 [00:00<00:00, 18.95it/s]\n",
      "propagate in video:   0%|          | 0/1 [00:00<?, ?it/s]\n"
     ]
    },
    {
     "name": "stdout",
     "output_type": "stream",
     "text": [
      "Frame processed in 1.33s\n",
      "\n",
      "--- Processing frame 478 ---\n"
     ]
    },
    {
     "name": "stderr",
     "output_type": "stream",
     "text": [
      "frame loading (JPEG): 100%|██████████| 1/1 [00:00<00:00, 18.76it/s]\n",
      "propagate in video:   0%|          | 0/1 [00:00<?, ?it/s]\n"
     ]
    },
    {
     "name": "stdout",
     "output_type": "stream",
     "text": [
      "Frame processed in 1.33s\n",
      "\n",
      "--- Processing frame 479 ---\n"
     ]
    },
    {
     "name": "stderr",
     "output_type": "stream",
     "text": [
      "frame loading (JPEG): 100%|██████████| 1/1 [00:00<00:00, 22.94it/s]\n",
      "propagate in video:   0%|          | 0/1 [00:00<?, ?it/s]\n"
     ]
    },
    {
     "name": "stdout",
     "output_type": "stream",
     "text": [
      "Frame processed in 1.28s\n",
      "\n",
      "--- Processing frame 480 ---\n"
     ]
    },
    {
     "name": "stderr",
     "output_type": "stream",
     "text": [
      "frame loading (JPEG): 100%|██████████| 1/1 [00:00<00:00, 15.56it/s]\n",
      "propagate in video:   0%|          | 0/1 [00:00<?, ?it/s]\n",
      "FutureWarning: The `device` argument is deprecated and will be removed in v5 of Transformers.\n",
      "UserWarning: torch.utils.checkpoint: the use_reentrant parameter should be passed explicitly. In version 2.5 we will raise an exception if use_reentrant is not passed. use_reentrant=False is recommended, but if you need to preserve the current default behavior, you can pass use_reentrant=True. Refer to docs for more details on the differences between the two variants.\n",
      "UserWarning: None of the inputs have requires_grad=True. Gradients will be None\n"
     ]
    },
    {
     "name": "stdout",
     "output_type": "stream",
     "text": [
      "Analysis with Grounding Dino\n"
     ]
    },
    {
     "name": "stderr",
     "output_type": "stream",
     "text": [
      "FutureWarning: `torch.cuda.amp.autocast(args...)` is deprecated. Please use `torch.amp.autocast('cuda', args...)` instead.\n"
     ]
    },
    {
     "name": "stdout",
     "output_type": "stream",
     "text": [
      "['object', 'object'] tensor([0.6502, 0.4319])\n",
      "Frame processed in 1.94s\n",
      "\n",
      "--- Processing frame 481 ---\n"
     ]
    },
    {
     "name": "stderr",
     "output_type": "stream",
     "text": [
      "frame loading (JPEG): 100%|██████████| 1/1 [00:00<00:00, 24.37it/s]\n",
      "propagate in video:   0%|          | 0/1 [00:00<?, ?it/s]\n"
     ]
    },
    {
     "name": "stdout",
     "output_type": "stream",
     "text": [
      "Frame processed in 1.29s\n",
      "\n",
      "--- Processing frame 482 ---\n"
     ]
    },
    {
     "name": "stderr",
     "output_type": "stream",
     "text": [
      "frame loading (JPEG): 100%|██████████| 1/1 [00:00<00:00, 19.81it/s]\n",
      "propagate in video:   0%|          | 0/1 [00:00<?, ?it/s]\n"
     ]
    },
    {
     "name": "stdout",
     "output_type": "stream",
     "text": [
      "Frame processed in 1.33s\n",
      "\n",
      "--- Processing frame 483 ---\n"
     ]
    },
    {
     "name": "stderr",
     "output_type": "stream",
     "text": [
      "frame loading (JPEG): 100%|██████████| 1/1 [00:00<00:00, 19.53it/s]\n",
      "propagate in video:   0%|          | 0/1 [00:00<?, ?it/s]\n"
     ]
    },
    {
     "name": "stdout",
     "output_type": "stream",
     "text": [
      "Frame processed in 1.37s\n",
      "\n",
      "--- Processing frame 484 ---\n"
     ]
    },
    {
     "name": "stderr",
     "output_type": "stream",
     "text": [
      "frame loading (JPEG): 100%|██████████| 1/1 [00:00<00:00, 22.87it/s]\n",
      "propagate in video:   0%|          | 0/1 [00:00<?, ?it/s]\n"
     ]
    },
    {
     "name": "stdout",
     "output_type": "stream",
     "text": [
      "Frame processed in 1.26s\n",
      "\n",
      "--- Processing frame 485 ---\n"
     ]
    },
    {
     "name": "stderr",
     "output_type": "stream",
     "text": [
      "frame loading (JPEG): 100%|██████████| 1/1 [00:00<00:00, 23.30it/s]\n",
      "propagate in video:   0%|          | 0/1 [00:00<?, ?it/s]\n"
     ]
    },
    {
     "name": "stdout",
     "output_type": "stream",
     "text": [
      "Frame processed in 1.38s\n",
      "\n",
      "--- Processing frame 486 ---\n"
     ]
    },
    {
     "name": "stderr",
     "output_type": "stream",
     "text": [
      "frame loading (JPEG): 100%|██████████| 1/1 [00:00<00:00, 13.58it/s]\n",
      "propagate in video:   0%|          | 0/1 [00:00<?, ?it/s]\n"
     ]
    },
    {
     "name": "stdout",
     "output_type": "stream",
     "text": [
      "Frame processed in 1.44s\n",
      "\n",
      "--- Processing frame 487 ---\n"
     ]
    },
    {
     "name": "stderr",
     "output_type": "stream",
     "text": [
      "frame loading (JPEG): 100%|██████████| 1/1 [00:00<00:00, 22.85it/s]\n",
      "propagate in video:   0%|          | 0/1 [00:00<?, ?it/s]\n"
     ]
    },
    {
     "name": "stdout",
     "output_type": "stream",
     "text": [
      "Frame processed in 1.44s\n",
      "\n",
      "--- Processing frame 488 ---\n"
     ]
    },
    {
     "name": "stderr",
     "output_type": "stream",
     "text": [
      "frame loading (JPEG): 100%|██████████| 1/1 [00:00<00:00, 21.78it/s]\n",
      "propagate in video:   0%|          | 0/1 [00:00<?, ?it/s]\n"
     ]
    },
    {
     "name": "stdout",
     "output_type": "stream",
     "text": [
      "Frame processed in 1.29s\n",
      "\n",
      "--- Processing frame 489 ---\n"
     ]
    },
    {
     "name": "stderr",
     "output_type": "stream",
     "text": [
      "frame loading (JPEG): 100%|██████████| 1/1 [00:00<00:00, 23.22it/s]\n",
      "propagate in video:   0%|          | 0/1 [00:00<?, ?it/s]\n"
     ]
    },
    {
     "name": "stdout",
     "output_type": "stream",
     "text": [
      "Frame processed in 1.32s\n",
      "\n",
      "--- Processing frame 490 ---\n"
     ]
    },
    {
     "name": "stderr",
     "output_type": "stream",
     "text": [
      "frame loading (JPEG): 100%|██████████| 1/1 [00:00<00:00, 24.18it/s]\n",
      "propagate in video:   0%|          | 0/1 [00:00<?, ?it/s]\n"
     ]
    },
    {
     "name": "stdout",
     "output_type": "stream",
     "text": [
      "Frame processed in 1.39s\n",
      "\n",
      "--- Processing frame 491 ---\n"
     ]
    },
    {
     "name": "stderr",
     "output_type": "stream",
     "text": [
      "frame loading (JPEG): 100%|██████████| 1/1 [00:00<00:00, 22.92it/s]\n",
      "propagate in video:   0%|          | 0/1 [00:00<?, ?it/s]\n"
     ]
    },
    {
     "name": "stdout",
     "output_type": "stream",
     "text": [
      "Frame processed in 1.39s\n",
      "\n",
      "--- Processing frame 492 ---\n"
     ]
    },
    {
     "name": "stderr",
     "output_type": "stream",
     "text": [
      "frame loading (JPEG): 100%|██████████| 1/1 [00:00<00:00, 15.02it/s]\n",
      "propagate in video:   0%|          | 0/1 [00:00<?, ?it/s]\n"
     ]
    },
    {
     "name": "stdout",
     "output_type": "stream",
     "text": [
      "Frame processed in 1.41s\n",
      "\n",
      "--- Processing frame 493 ---\n"
     ]
    },
    {
     "name": "stderr",
     "output_type": "stream",
     "text": [
      "frame loading (JPEG): 100%|██████████| 1/1 [00:00<00:00, 15.01it/s]\n",
      "propagate in video:   0%|          | 0/1 [00:00<?, ?it/s]\n"
     ]
    },
    {
     "name": "stdout",
     "output_type": "stream",
     "text": [
      "Frame processed in 1.40s\n",
      "\n",
      "--- Processing frame 494 ---\n"
     ]
    },
    {
     "name": "stderr",
     "output_type": "stream",
     "text": [
      "frame loading (JPEG): 100%|██████████| 1/1 [00:00<00:00, 19.95it/s]\n",
      "propagate in video:   0%|          | 0/1 [00:00<?, ?it/s]\n"
     ]
    },
    {
     "name": "stdout",
     "output_type": "stream",
     "text": [
      "Frame processed in 1.35s\n",
      "\n",
      "--- Processing frame 495 ---\n"
     ]
    },
    {
     "name": "stderr",
     "output_type": "stream",
     "text": [
      "frame loading (JPEG): 100%|██████████| 1/1 [00:00<00:00, 22.98it/s]\n",
      "propagate in video:   0%|          | 0/1 [00:00<?, ?it/s]\n",
      "FutureWarning: The `device` argument is deprecated and will be removed in v5 of Transformers.\n",
      "UserWarning: torch.utils.checkpoint: the use_reentrant parameter should be passed explicitly. In version 2.5 we will raise an exception if use_reentrant is not passed. use_reentrant=False is recommended, but if you need to preserve the current default behavior, you can pass use_reentrant=True. Refer to docs for more details on the differences between the two variants.\n",
      "UserWarning: None of the inputs have requires_grad=True. Gradients will be None\n"
     ]
    },
    {
     "name": "stdout",
     "output_type": "stream",
     "text": [
      "Analysis with Grounding Dino\n"
     ]
    },
    {
     "name": "stderr",
     "output_type": "stream",
     "text": [
      "FutureWarning: `torch.cuda.amp.autocast(args...)` is deprecated. Please use `torch.amp.autocast('cuda', args...)` instead.\n"
     ]
    },
    {
     "name": "stdout",
     "output_type": "stream",
     "text": [
      "['object', 'object'] tensor([0.6417, 0.4460])\n",
      "Frame processed in 1.85s\n",
      "\n",
      "--- Processing frame 496 ---\n"
     ]
    },
    {
     "name": "stderr",
     "output_type": "stream",
     "text": [
      "frame loading (JPEG): 100%|██████████| 1/1 [00:00<00:00, 19.06it/s]\n",
      "propagate in video:   0%|          | 0/1 [00:00<?, ?it/s]\n"
     ]
    },
    {
     "name": "stdout",
     "output_type": "stream",
     "text": [
      "Frame processed in 1.42s\n",
      "\n",
      "--- Processing frame 497 ---\n"
     ]
    },
    {
     "name": "stderr",
     "output_type": "stream",
     "text": [
      "frame loading (JPEG): 100%|██████████| 1/1 [00:00<00:00, 22.64it/s]\n",
      "propagate in video:   0%|          | 0/1 [00:00<?, ?it/s]\n"
     ]
    },
    {
     "name": "stdout",
     "output_type": "stream",
     "text": [
      "Frame processed in 1.32s\n",
      "\n",
      "--- Processing frame 498 ---\n"
     ]
    },
    {
     "name": "stderr",
     "output_type": "stream",
     "text": [
      "frame loading (JPEG): 100%|██████████| 1/1 [00:00<00:00, 22.67it/s]\n",
      "propagate in video:   0%|          | 0/1 [00:00<?, ?it/s]\n"
     ]
    },
    {
     "name": "stdout",
     "output_type": "stream",
     "text": [
      "Frame processed in 1.32s\n",
      "\n",
      "--- Processing frame 499 ---\n"
     ]
    },
    {
     "name": "stderr",
     "output_type": "stream",
     "text": [
      "frame loading (JPEG): 100%|██████████| 1/1 [00:00<00:00, 19.65it/s]\n",
      "propagate in video:   0%|          | 0/1 [00:00<?, ?it/s]\n"
     ]
    },
    {
     "name": "stdout",
     "output_type": "stream",
     "text": [
      "Frame processed in 1.36s\n",
      "\n",
      "--- Processing frame 500 ---\n"
     ]
    },
    {
     "name": "stderr",
     "output_type": "stream",
     "text": [
      "frame loading (JPEG): 100%|██████████| 1/1 [00:00<00:00, 19.25it/s]\n",
      "propagate in video:   0%|          | 0/1 [00:00<?, ?it/s]\n"
     ]
    },
    {
     "name": "stdout",
     "output_type": "stream",
     "text": [
      "Frame processed in 1.35s\n",
      "\n",
      "--- Processing frame 501 ---\n"
     ]
    },
    {
     "name": "stderr",
     "output_type": "stream",
     "text": [
      "frame loading (JPEG): 100%|██████████| 1/1 [00:00<00:00, 19.03it/s]\n",
      "propagate in video:   0%|          | 0/1 [00:00<?, ?it/s]\n"
     ]
    },
    {
     "name": "stdout",
     "output_type": "stream",
     "text": [
      "Frame processed in 1.43s\n",
      "\n",
      "--- Processing frame 502 ---\n"
     ]
    },
    {
     "name": "stderr",
     "output_type": "stream",
     "text": [
      "frame loading (JPEG): 100%|██████████| 1/1 [00:00<00:00, 22.13it/s]\n",
      "propagate in video:   0%|          | 0/1 [00:00<?, ?it/s]\n"
     ]
    },
    {
     "name": "stdout",
     "output_type": "stream",
     "text": [
      "Frame processed in 1.97s\n",
      "\n",
      "--- Processing frame 503 ---\n"
     ]
    },
    {
     "name": "stderr",
     "output_type": "stream",
     "text": [
      "frame loading (JPEG): 100%|██████████| 1/1 [00:00<00:00, 22.58it/s]\n",
      "propagate in video:   0%|          | 0/1 [00:00<?, ?it/s]\n"
     ]
    },
    {
     "name": "stdout",
     "output_type": "stream",
     "text": [
      "Frame processed in 1.30s\n",
      "\n",
      "--- Processing frame 504 ---\n"
     ]
    },
    {
     "name": "stderr",
     "output_type": "stream",
     "text": [
      "frame loading (JPEG): 100%|██████████| 1/1 [00:00<00:00, 21.35it/s]\n",
      "propagate in video:   0%|          | 0/1 [00:00<?, ?it/s]\n"
     ]
    },
    {
     "name": "stdout",
     "output_type": "stream",
     "text": [
      "Frame processed in 1.35s\n",
      "\n",
      "--- Processing frame 505 ---\n"
     ]
    },
    {
     "name": "stderr",
     "output_type": "stream",
     "text": [
      "frame loading (JPEG): 100%|██████████| 1/1 [00:00<00:00, 21.50it/s]\n",
      "propagate in video:   0%|          | 0/1 [00:00<?, ?it/s]\n"
     ]
    },
    {
     "name": "stdout",
     "output_type": "stream",
     "text": [
      "Frame processed in 1.37s\n",
      "\n",
      "--- Processing frame 506 ---\n"
     ]
    },
    {
     "name": "stderr",
     "output_type": "stream",
     "text": [
      "frame loading (JPEG): 100%|██████████| 1/1 [00:00<00:00, 22.97it/s]\n",
      "propagate in video:   0%|          | 0/1 [00:00<?, ?it/s]\n"
     ]
    },
    {
     "name": "stdout",
     "output_type": "stream",
     "text": [
      "Frame processed in 1.31s\n",
      "\n",
      "--- Processing frame 507 ---\n"
     ]
    },
    {
     "name": "stderr",
     "output_type": "stream",
     "text": [
      "frame loading (JPEG): 100%|██████████| 1/1 [00:00<00:00, 19.21it/s]\n",
      "propagate in video:   0%|          | 0/1 [00:00<?, ?it/s]\n"
     ]
    },
    {
     "name": "stdout",
     "output_type": "stream",
     "text": [
      "Frame processed in 1.34s\n",
      "\n",
      "--- Processing frame 508 ---\n"
     ]
    },
    {
     "name": "stderr",
     "output_type": "stream",
     "text": [
      "frame loading (JPEG): 100%|██████████| 1/1 [00:00<00:00, 22.46it/s]\n",
      "propagate in video:   0%|          | 0/1 [00:00<?, ?it/s]\n"
     ]
    },
    {
     "name": "stdout",
     "output_type": "stream",
     "text": [
      "Frame processed in 1.28s\n",
      "\n",
      "--- Processing frame 509 ---\n"
     ]
    },
    {
     "name": "stderr",
     "output_type": "stream",
     "text": [
      "frame loading (JPEG): 100%|██████████| 1/1 [00:00<00:00, 22.81it/s]\n",
      "propagate in video:   0%|          | 0/1 [00:00<?, ?it/s]\n"
     ]
    },
    {
     "name": "stdout",
     "output_type": "stream",
     "text": [
      "Frame processed in 1.28s\n",
      "\n",
      "--- Processing frame 510 ---\n"
     ]
    },
    {
     "name": "stderr",
     "output_type": "stream",
     "text": [
      "frame loading (JPEG): 100%|██████████| 1/1 [00:00<00:00, 22.63it/s]\n",
      "propagate in video:   0%|          | 0/1 [00:00<?, ?it/s]\n",
      "FutureWarning: The `device` argument is deprecated and will be removed in v5 of Transformers.\n",
      "UserWarning: torch.utils.checkpoint: the use_reentrant parameter should be passed explicitly. In version 2.5 we will raise an exception if use_reentrant is not passed. use_reentrant=False is recommended, but if you need to preserve the current default behavior, you can pass use_reentrant=True. Refer to docs for more details on the differences between the two variants.\n",
      "UserWarning: None of the inputs have requires_grad=True. Gradients will be None\n"
     ]
    },
    {
     "name": "stdout",
     "output_type": "stream",
     "text": [
      "Analysis with Grounding Dino\n"
     ]
    },
    {
     "name": "stderr",
     "output_type": "stream",
     "text": [
      "FutureWarning: `torch.cuda.amp.autocast(args...)` is deprecated. Please use `torch.amp.autocast('cuda', args...)` instead.\n"
     ]
    },
    {
     "name": "stdout",
     "output_type": "stream",
     "text": [
      "['object', 'object'] tensor([0.4694, 0.6929])\n",
      "Frame processed in 1.79s\n",
      "\n",
      "--- Processing frame 511 ---\n"
     ]
    },
    {
     "name": "stderr",
     "output_type": "stream",
     "text": [
      "frame loading (JPEG): 100%|██████████| 1/1 [00:00<00:00, 22.95it/s]\n",
      "propagate in video:   0%|          | 0/1 [00:00<?, ?it/s]\n"
     ]
    },
    {
     "name": "stdout",
     "output_type": "stream",
     "text": [
      "Frame processed in 1.36s\n",
      "\n",
      "--- Processing frame 512 ---\n"
     ]
    },
    {
     "name": "stderr",
     "output_type": "stream",
     "text": [
      "frame loading (JPEG): 100%|██████████| 1/1 [00:00<00:00, 23.24it/s]\n",
      "propagate in video:   0%|          | 0/1 [00:00<?, ?it/s]\n"
     ]
    },
    {
     "name": "stdout",
     "output_type": "stream",
     "text": [
      "Frame processed in 1.38s\n",
      "\n",
      "--- Processing frame 513 ---\n"
     ]
    },
    {
     "name": "stderr",
     "output_type": "stream",
     "text": [
      "frame loading (JPEG): 100%|██████████| 1/1 [00:00<00:00, 19.61it/s]\n",
      "propagate in video:   0%|          | 0/1 [00:00<?, ?it/s]\n"
     ]
    },
    {
     "name": "stdout",
     "output_type": "stream",
     "text": [
      "Frame processed in 1.37s\n",
      "\n",
      "--- Processing frame 514 ---\n"
     ]
    },
    {
     "name": "stderr",
     "output_type": "stream",
     "text": [
      "frame loading (JPEG): 100%|██████████| 1/1 [00:00<00:00, 19.28it/s]\n",
      "propagate in video:   0%|          | 0/1 [00:00<?, ?it/s]\n"
     ]
    },
    {
     "name": "stdout",
     "output_type": "stream",
     "text": [
      "Frame processed in 1.35s\n",
      "\n",
      "--- Processing frame 515 ---\n"
     ]
    },
    {
     "name": "stderr",
     "output_type": "stream",
     "text": [
      "frame loading (JPEG): 100%|██████████| 1/1 [00:00<00:00, 19.49it/s]\n",
      "propagate in video:   0%|          | 0/1 [00:00<?, ?it/s]\n"
     ]
    },
    {
     "name": "stdout",
     "output_type": "stream",
     "text": [
      "Frame processed in 1.42s\n",
      "\n",
      "--- Processing frame 516 ---\n"
     ]
    },
    {
     "name": "stderr",
     "output_type": "stream",
     "text": [
      "frame loading (JPEG): 100%|██████████| 1/1 [00:00<00:00, 22.35it/s]\n",
      "propagate in video:   0%|          | 0/1 [00:00<?, ?it/s]\n"
     ]
    },
    {
     "name": "stdout",
     "output_type": "stream",
     "text": [
      "Frame processed in 1.32s\n",
      "\n",
      "--- Processing frame 517 ---\n"
     ]
    },
    {
     "name": "stderr",
     "output_type": "stream",
     "text": [
      "frame loading (JPEG): 100%|██████████| 1/1 [00:00<00:00, 18.83it/s]\n",
      "propagate in video:   0%|          | 0/1 [00:00<?, ?it/s]\n"
     ]
    },
    {
     "name": "stdout",
     "output_type": "stream",
     "text": [
      "Frame processed in 1.31s\n",
      "\n",
      "--- Processing frame 518 ---\n"
     ]
    },
    {
     "name": "stderr",
     "output_type": "stream",
     "text": [
      "frame loading (JPEG): 100%|██████████| 1/1 [00:00<00:00, 20.02it/s]\n",
      "propagate in video:   0%|          | 0/1 [00:00<?, ?it/s]\n"
     ]
    },
    {
     "name": "stdout",
     "output_type": "stream",
     "text": [
      "Frame processed in 1.37s\n",
      "\n",
      "--- Processing frame 519 ---\n"
     ]
    },
    {
     "name": "stderr",
     "output_type": "stream",
     "text": [
      "frame loading (JPEG): 100%|██████████| 1/1 [00:00<00:00, 19.82it/s]\n",
      "propagate in video:   0%|          | 0/1 [00:00<?, ?it/s]\n"
     ]
    },
    {
     "name": "stdout",
     "output_type": "stream",
     "text": [
      "Frame processed in 1.35s\n",
      "\n",
      "--- Processing frame 520 ---\n"
     ]
    },
    {
     "name": "stderr",
     "output_type": "stream",
     "text": [
      "frame loading (JPEG): 100%|██████████| 1/1 [00:00<00:00, 16.43it/s]\n",
      "propagate in video:   0%|          | 0/1 [00:00<?, ?it/s]\n"
     ]
    },
    {
     "name": "stdout",
     "output_type": "stream",
     "text": [
      "Frame processed in 1.44s\n",
      "\n",
      "--- Processing frame 521 ---\n"
     ]
    },
    {
     "name": "stderr",
     "output_type": "stream",
     "text": [
      "frame loading (JPEG): 100%|██████████| 1/1 [00:00<00:00, 19.68it/s]\n",
      "propagate in video:   0%|          | 0/1 [00:00<?, ?it/s]\n"
     ]
    },
    {
     "name": "stdout",
     "output_type": "stream",
     "text": [
      "Frame processed in 1.42s\n",
      "\n",
      "--- Processing frame 522 ---\n"
     ]
    },
    {
     "name": "stderr",
     "output_type": "stream",
     "text": [
      "frame loading (JPEG): 100%|██████████| 1/1 [00:00<00:00, 18.74it/s]\n",
      "propagate in video:   0%|          | 0/1 [00:00<?, ?it/s]\n"
     ]
    },
    {
     "name": "stdout",
     "output_type": "stream",
     "text": [
      "Frame processed in 1.32s\n",
      "\n",
      "--- Processing frame 523 ---\n"
     ]
    },
    {
     "name": "stderr",
     "output_type": "stream",
     "text": [
      "frame loading (JPEG): 100%|██████████| 1/1 [00:00<00:00, 24.01it/s]\n",
      "propagate in video:   0%|          | 0/1 [00:00<?, ?it/s]\n"
     ]
    },
    {
     "name": "stdout",
     "output_type": "stream",
     "text": [
      "Frame processed in 1.34s\n",
      "\n",
      "--- Processing frame 524 ---\n"
     ]
    },
    {
     "name": "stderr",
     "output_type": "stream",
     "text": [
      "frame loading (JPEG): 100%|██████████| 1/1 [00:00<00:00, 22.68it/s]\n",
      "propagate in video:   0%|          | 0/1 [00:00<?, ?it/s]\n"
     ]
    },
    {
     "name": "stdout",
     "output_type": "stream",
     "text": [
      "Frame processed in 1.34s\n",
      "\n",
      "--- Processing frame 525 ---\n"
     ]
    },
    {
     "name": "stderr",
     "output_type": "stream",
     "text": [
      "frame loading (JPEG): 100%|██████████| 1/1 [00:00<00:00, 24.64it/s]\n",
      "propagate in video:   0%|          | 0/1 [00:00<?, ?it/s]\n",
      "FutureWarning: The `device` argument is deprecated and will be removed in v5 of Transformers.\n",
      "UserWarning: torch.utils.checkpoint: the use_reentrant parameter should be passed explicitly. In version 2.5 we will raise an exception if use_reentrant is not passed. use_reentrant=False is recommended, but if you need to preserve the current default behavior, you can pass use_reentrant=True. Refer to docs for more details on the differences between the two variants.\n",
      "UserWarning: None of the inputs have requires_grad=True. Gradients will be None\n"
     ]
    },
    {
     "name": "stdout",
     "output_type": "stream",
     "text": [
      "Analysis with Grounding Dino\n"
     ]
    },
    {
     "name": "stderr",
     "output_type": "stream",
     "text": [
      "FutureWarning: `torch.cuda.amp.autocast(args...)` is deprecated. Please use `torch.amp.autocast('cuda', args...)` instead.\n"
     ]
    },
    {
     "name": "stdout",
     "output_type": "stream",
     "text": [
      "['object', 'object'] tensor([0.6878, 0.4025])\n",
      "Frame processed in 1.82s\n",
      "\n",
      "--- Processing frame 526 ---\n"
     ]
    },
    {
     "name": "stderr",
     "output_type": "stream",
     "text": [
      "frame loading (JPEG): 100%|██████████| 1/1 [00:00<00:00, 19.60it/s]\n",
      "propagate in video:   0%|          | 0/1 [00:00<?, ?it/s]\n"
     ]
    },
    {
     "name": "stdout",
     "output_type": "stream",
     "text": [
      "Frame processed in 1.45s\n",
      "\n",
      "--- Processing frame 527 ---\n"
     ]
    },
    {
     "name": "stderr",
     "output_type": "stream",
     "text": [
      "frame loading (JPEG): 100%|██████████| 1/1 [00:00<00:00, 22.72it/s]\n",
      "propagate in video:   0%|          | 0/1 [00:00<?, ?it/s]\n"
     ]
    },
    {
     "name": "stdout",
     "output_type": "stream",
     "text": [
      "Frame processed in 1.35s\n",
      "\n",
      "--- Processing frame 528 ---\n"
     ]
    },
    {
     "name": "stderr",
     "output_type": "stream",
     "text": [
      "frame loading (JPEG): 100%|██████████| 1/1 [00:00<00:00, 23.07it/s]\n",
      "propagate in video:   0%|          | 0/1 [00:00<?, ?it/s]\n"
     ]
    },
    {
     "name": "stdout",
     "output_type": "stream",
     "text": [
      "Frame processed in 1.39s\n",
      "\n",
      "--- Processing frame 529 ---\n"
     ]
    },
    {
     "name": "stderr",
     "output_type": "stream",
     "text": [
      "frame loading (JPEG): 100%|██████████| 1/1 [00:00<00:00, 21.69it/s]\n",
      "propagate in video:   0%|          | 0/1 [00:00<?, ?it/s]\n"
     ]
    },
    {
     "name": "stdout",
     "output_type": "stream",
     "text": [
      "Frame processed in 1.43s\n",
      "\n",
      "--- Processing frame 530 ---\n"
     ]
    },
    {
     "name": "stderr",
     "output_type": "stream",
     "text": [
      "frame loading (JPEG): 100%|██████████| 1/1 [00:00<00:00, 20.87it/s]\n",
      "propagate in video:   0%|          | 0/1 [00:00<?, ?it/s]\n"
     ]
    },
    {
     "name": "stdout",
     "output_type": "stream",
     "text": [
      "Frame processed in 1.35s\n",
      "\n",
      "--- Processing frame 531 ---\n"
     ]
    },
    {
     "name": "stderr",
     "output_type": "stream",
     "text": [
      "frame loading (JPEG): 100%|██████████| 1/1 [00:00<00:00, 23.43it/s]\n",
      "propagate in video:   0%|          | 0/1 [00:00<?, ?it/s]\n"
     ]
    },
    {
     "name": "stdout",
     "output_type": "stream",
     "text": [
      "Frame processed in 1.34s\n",
      "\n",
      "--- Processing frame 532 ---\n"
     ]
    },
    {
     "name": "stderr",
     "output_type": "stream",
     "text": [
      "frame loading (JPEG): 100%|██████████| 1/1 [00:00<00:00, 23.29it/s]\n",
      "propagate in video:   0%|          | 0/1 [00:00<?, ?it/s]\n"
     ]
    },
    {
     "name": "stdout",
     "output_type": "stream",
     "text": [
      "Frame processed in 1.36s\n",
      "\n",
      "--- Processing frame 533 ---\n"
     ]
    },
    {
     "name": "stderr",
     "output_type": "stream",
     "text": [
      "frame loading (JPEG): 100%|██████████| 1/1 [00:00<00:00, 21.01it/s]\n",
      "propagate in video:   0%|          | 0/1 [00:00<?, ?it/s]\n"
     ]
    },
    {
     "name": "stdout",
     "output_type": "stream",
     "text": [
      "Frame processed in 1.40s\n",
      "\n",
      "--- Processing frame 534 ---\n"
     ]
    },
    {
     "name": "stderr",
     "output_type": "stream",
     "text": [
      "frame loading (JPEG): 100%|██████████| 1/1 [00:00<00:00, 24.58it/s]\n",
      "propagate in video:   0%|          | 0/1 [00:00<?, ?it/s]\n"
     ]
    },
    {
     "name": "stdout",
     "output_type": "stream",
     "text": [
      "Frame processed in 1.30s\n",
      "\n",
      "--- Processing frame 535 ---\n"
     ]
    },
    {
     "name": "stderr",
     "output_type": "stream",
     "text": [
      "frame loading (JPEG): 100%|██████████| 1/1 [00:00<00:00, 20.39it/s]\n",
      "propagate in video:   0%|          | 0/1 [00:00<?, ?it/s]\n"
     ]
    },
    {
     "name": "stdout",
     "output_type": "stream",
     "text": [
      "Frame processed in 1.41s\n",
      "\n",
      "--- Processing frame 536 ---\n"
     ]
    },
    {
     "name": "stderr",
     "output_type": "stream",
     "text": [
      "frame loading (JPEG): 100%|██████████| 1/1 [00:00<00:00, 19.85it/s]\n",
      "propagate in video:   0%|          | 0/1 [00:00<?, ?it/s]\n"
     ]
    },
    {
     "name": "stdout",
     "output_type": "stream",
     "text": [
      "Frame processed in 1.37s\n",
      "\n",
      "--- Processing frame 537 ---\n"
     ]
    },
    {
     "name": "stderr",
     "output_type": "stream",
     "text": [
      "frame loading (JPEG): 100%|██████████| 1/1 [00:00<00:00, 25.96it/s]\n",
      "propagate in video:   0%|          | 0/1 [00:00<?, ?it/s]\n"
     ]
    },
    {
     "name": "stdout",
     "output_type": "stream",
     "text": [
      "Frame processed in 1.33s\n",
      "\n",
      "--- Processing frame 538 ---\n"
     ]
    },
    {
     "name": "stderr",
     "output_type": "stream",
     "text": [
      "frame loading (JPEG): 100%|██████████| 1/1 [00:00<00:00, 20.44it/s]\n",
      "propagate in video:   0%|          | 0/1 [00:00<?, ?it/s]\n"
     ]
    },
    {
     "name": "stdout",
     "output_type": "stream",
     "text": [
      "Frame processed in 1.41s\n",
      "\n",
      "--- Processing frame 539 ---\n"
     ]
    },
    {
     "name": "stderr",
     "output_type": "stream",
     "text": [
      "frame loading (JPEG): 100%|██████████| 1/1 [00:00<00:00, 23.60it/s]\n",
      "propagate in video:   0%|          | 0/1 [00:00<?, ?it/s]\n"
     ]
    },
    {
     "name": "stdout",
     "output_type": "stream",
     "text": [
      "Frame processed in 1.35s\n",
      "\n",
      "--- Processing frame 540 ---\n"
     ]
    },
    {
     "name": "stderr",
     "output_type": "stream",
     "text": [
      "frame loading (JPEG): 100%|██████████| 1/1 [00:00<00:00, 21.65it/s]\n",
      "propagate in video:   0%|          | 0/1 [00:00<?, ?it/s]\n",
      "FutureWarning: The `device` argument is deprecated and will be removed in v5 of Transformers.\n",
      "UserWarning: torch.utils.checkpoint: the use_reentrant parameter should be passed explicitly. In version 2.5 we will raise an exception if use_reentrant is not passed. use_reentrant=False is recommended, but if you need to preserve the current default behavior, you can pass use_reentrant=True. Refer to docs for more details on the differences between the two variants.\n",
      "UserWarning: None of the inputs have requires_grad=True. Gradients will be None\n"
     ]
    },
    {
     "name": "stdout",
     "output_type": "stream",
     "text": [
      "Analysis with Grounding Dino\n"
     ]
    },
    {
     "name": "stderr",
     "output_type": "stream",
     "text": [
      "FutureWarning: `torch.cuda.amp.autocast(args...)` is deprecated. Please use `torch.amp.autocast('cuda', args...)` instead.\n"
     ]
    },
    {
     "name": "stdout",
     "output_type": "stream",
     "text": [
      "['object', 'object'] tensor([0.6768, 0.3151])\n",
      "Frame processed in 1.91s\n",
      "\n",
      "--- Processing frame 541 ---\n"
     ]
    },
    {
     "name": "stderr",
     "output_type": "stream",
     "text": [
      "frame loading (JPEG): 100%|██████████| 1/1 [00:00<00:00, 19.57it/s]\n",
      "propagate in video:   0%|          | 0/1 [00:00<?, ?it/s]\n"
     ]
    },
    {
     "name": "stdout",
     "output_type": "stream",
     "text": [
      "Frame processed in 1.41s\n",
      "\n",
      "--- Processing frame 542 ---\n"
     ]
    },
    {
     "name": "stderr",
     "output_type": "stream",
     "text": [
      "frame loading (JPEG): 100%|██████████| 1/1 [00:00<00:00, 18.81it/s]\n",
      "propagate in video:   0%|          | 0/1 [00:00<?, ?it/s]\n"
     ]
    },
    {
     "name": "stdout",
     "output_type": "stream",
     "text": [
      "Frame processed in 1.39s\n",
      "\n",
      "--- Processing frame 543 ---\n"
     ]
    },
    {
     "name": "stderr",
     "output_type": "stream",
     "text": [
      "frame loading (JPEG): 100%|██████████| 1/1 [00:00<00:00, 21.61it/s]\n",
      "propagate in video:   0%|          | 0/1 [00:00<?, ?it/s]\n"
     ]
    },
    {
     "name": "stdout",
     "output_type": "stream",
     "text": [
      "Frame processed in 1.44s\n",
      "\n",
      "--- Processing frame 544 ---\n"
     ]
    },
    {
     "name": "stderr",
     "output_type": "stream",
     "text": [
      "frame loading (JPEG): 100%|██████████| 1/1 [00:00<00:00, 21.70it/s]\n",
      "propagate in video:   0%|          | 0/1 [00:00<?, ?it/s]\n"
     ]
    },
    {
     "name": "stdout",
     "output_type": "stream",
     "text": [
      "Frame processed in 1.39s\n",
      "\n",
      "--- Processing frame 545 ---\n"
     ]
    },
    {
     "name": "stderr",
     "output_type": "stream",
     "text": [
      "frame loading (JPEG): 100%|██████████| 1/1 [00:00<00:00, 19.18it/s]\n",
      "propagate in video:   0%|          | 0/1 [00:00<?, ?it/s]\n"
     ]
    },
    {
     "name": "stdout",
     "output_type": "stream",
     "text": [
      "Frame processed in 1.37s\n",
      "\n",
      "--- Processing frame 546 ---\n"
     ]
    },
    {
     "name": "stderr",
     "output_type": "stream",
     "text": [
      "frame loading (JPEG): 100%|██████████| 1/1 [00:00<00:00, 23.05it/s]\n",
      "propagate in video:   0%|          | 0/1 [00:00<?, ?it/s]\n"
     ]
    },
    {
     "name": "stdout",
     "output_type": "stream",
     "text": [
      "Frame processed in 1.40s\n",
      "\n",
      "--- Processing frame 547 ---\n"
     ]
    },
    {
     "name": "stderr",
     "output_type": "stream",
     "text": [
      "frame loading (JPEG): 100%|██████████| 1/1 [00:00<00:00, 21.81it/s]\n",
      "propagate in video:   0%|          | 0/1 [00:00<?, ?it/s]\n"
     ]
    },
    {
     "name": "stdout",
     "output_type": "stream",
     "text": [
      "Frame processed in 1.34s\n",
      "\n",
      "--- Processing frame 548 ---\n"
     ]
    },
    {
     "name": "stderr",
     "output_type": "stream",
     "text": [
      "frame loading (JPEG): 100%|██████████| 1/1 [00:00<00:00, 21.26it/s]\n",
      "propagate in video:   0%|          | 0/1 [00:00<?, ?it/s]\n"
     ]
    },
    {
     "name": "stdout",
     "output_type": "stream",
     "text": [
      "Frame processed in 1.40s\n",
      "\n",
      "--- Processing frame 549 ---\n"
     ]
    },
    {
     "name": "stderr",
     "output_type": "stream",
     "text": [
      "frame loading (JPEG): 100%|██████████| 1/1 [00:00<00:00, 20.66it/s]\n",
      "propagate in video:   0%|          | 0/1 [00:00<?, ?it/s]\n"
     ]
    },
    {
     "name": "stdout",
     "output_type": "stream",
     "text": [
      "Frame processed in 1.40s\n",
      "\n",
      "--- Processing frame 550 ---\n"
     ]
    },
    {
     "name": "stderr",
     "output_type": "stream",
     "text": [
      "frame loading (JPEG): 100%|██████████| 1/1 [00:00<00:00, 20.92it/s]\n",
      "propagate in video:   0%|          | 0/1 [00:00<?, ?it/s]\n"
     ]
    },
    {
     "name": "stdout",
     "output_type": "stream",
     "text": [
      "Frame processed in 1.41s\n",
      "\n",
      "--- Processing frame 551 ---\n"
     ]
    },
    {
     "name": "stderr",
     "output_type": "stream",
     "text": [
      "frame loading (JPEG): 100%|██████████| 1/1 [00:00<00:00, 19.59it/s]\n",
      "propagate in video:   0%|          | 0/1 [00:00<?, ?it/s]\n"
     ]
    },
    {
     "name": "stdout",
     "output_type": "stream",
     "text": [
      "Frame processed in 1.37s\n",
      "\n",
      "--- Processing frame 552 ---\n"
     ]
    },
    {
     "name": "stderr",
     "output_type": "stream",
     "text": [
      "frame loading (JPEG): 100%|██████████| 1/1 [00:00<00:00, 23.32it/s]\n",
      "propagate in video:   0%|          | 0/1 [00:00<?, ?it/s]\n"
     ]
    },
    {
     "name": "stdout",
     "output_type": "stream",
     "text": [
      "Frame processed in 1.41s\n",
      "\n",
      "--- Processing frame 553 ---\n"
     ]
    },
    {
     "name": "stderr",
     "output_type": "stream",
     "text": [
      "frame loading (JPEG): 100%|██████████| 1/1 [00:00<00:00, 18.44it/s]\n",
      "propagate in video:   0%|          | 0/1 [00:00<?, ?it/s]\n"
     ]
    },
    {
     "name": "stdout",
     "output_type": "stream",
     "text": [
      "Frame processed in 1.40s\n",
      "\n",
      "--- Processing frame 554 ---\n"
     ]
    },
    {
     "name": "stderr",
     "output_type": "stream",
     "text": [
      "frame loading (JPEG): 100%|██████████| 1/1 [00:00<00:00, 19.65it/s]\n",
      "propagate in video:   0%|          | 0/1 [00:00<?, ?it/s]\n"
     ]
    },
    {
     "name": "stdout",
     "output_type": "stream",
     "text": [
      "Frame processed in 1.41s\n",
      "\n",
      "--- Processing frame 555 ---\n"
     ]
    },
    {
     "name": "stderr",
     "output_type": "stream",
     "text": [
      "frame loading (JPEG): 100%|██████████| 1/1 [00:00<00:00, 20.41it/s]\n",
      "propagate in video:   0%|          | 0/1 [00:00<?, ?it/s]\n",
      "FutureWarning: The `device` argument is deprecated and will be removed in v5 of Transformers.\n",
      "UserWarning: torch.utils.checkpoint: the use_reentrant parameter should be passed explicitly. In version 2.5 we will raise an exception if use_reentrant is not passed. use_reentrant=False is recommended, but if you need to preserve the current default behavior, you can pass use_reentrant=True. Refer to docs for more details on the differences between the two variants.\n",
      "UserWarning: None of the inputs have requires_grad=True. Gradients will be None\n"
     ]
    },
    {
     "name": "stdout",
     "output_type": "stream",
     "text": [
      "Analysis with Grounding Dino\n"
     ]
    },
    {
     "name": "stderr",
     "output_type": "stream",
     "text": [
      "FutureWarning: `torch.cuda.amp.autocast(args...)` is deprecated. Please use `torch.amp.autocast('cuda', args...)` instead.\n"
     ]
    },
    {
     "name": "stdout",
     "output_type": "stream",
     "text": [
      "['object', 'object'] tensor([0.7171, 0.3275])\n",
      "Frame processed in 1.86s\n",
      "\n",
      "--- Processing frame 556 ---\n"
     ]
    },
    {
     "name": "stderr",
     "output_type": "stream",
     "text": [
      "frame loading (JPEG): 100%|██████████| 1/1 [00:00<00:00, 25.29it/s]\n",
      "propagate in video:   0%|          | 0/1 [00:00<?, ?it/s]\n"
     ]
    },
    {
     "name": "stdout",
     "output_type": "stream",
     "text": [
      "Frame processed in 1.38s\n",
      "\n",
      "--- Processing frame 557 ---\n"
     ]
    },
    {
     "name": "stderr",
     "output_type": "stream",
     "text": [
      "frame loading (JPEG): 100%|██████████| 1/1 [00:00<00:00, 24.14it/s]\n",
      "propagate in video:   0%|          | 0/1 [00:00<?, ?it/s]\n"
     ]
    },
    {
     "name": "stdout",
     "output_type": "stream",
     "text": [
      "Frame processed in 1.46s\n",
      "\n",
      "--- Processing frame 558 ---\n"
     ]
    },
    {
     "name": "stderr",
     "output_type": "stream",
     "text": [
      "frame loading (JPEG): 100%|██████████| 1/1 [00:00<00:00, 24.20it/s]\n",
      "propagate in video:   0%|          | 0/1 [00:00<?, ?it/s]\n"
     ]
    },
    {
     "name": "stdout",
     "output_type": "stream",
     "text": [
      "Frame processed in 1.42s\n",
      "\n",
      "--- Processing frame 559 ---\n"
     ]
    },
    {
     "name": "stderr",
     "output_type": "stream",
     "text": [
      "frame loading (JPEG): 100%|██████████| 1/1 [00:00<00:00, 14.68it/s]\n",
      "propagate in video:   0%|          | 0/1 [00:00<?, ?it/s]\n"
     ]
    },
    {
     "name": "stdout",
     "output_type": "stream",
     "text": [
      "Frame processed in 1.43s\n",
      "\n",
      "--- Processing frame 560 ---\n"
     ]
    },
    {
     "name": "stderr",
     "output_type": "stream",
     "text": [
      "frame loading (JPEG): 100%|██████████| 1/1 [00:00<00:00, 16.21it/s]\n",
      "propagate in video:   0%|          | 0/1 [00:00<?, ?it/s]\n"
     ]
    },
    {
     "name": "stdout",
     "output_type": "stream",
     "text": [
      "Frame processed in 1.45s\n",
      "\n",
      "--- Processing frame 561 ---\n"
     ]
    },
    {
     "name": "stderr",
     "output_type": "stream",
     "text": [
      "frame loading (JPEG): 100%|██████████| 1/1 [00:00<00:00, 20.35it/s]\n",
      "propagate in video:   0%|          | 0/1 [00:00<?, ?it/s]\n"
     ]
    },
    {
     "name": "stdout",
     "output_type": "stream",
     "text": [
      "Frame processed in 1.44s\n",
      "\n",
      "--- Processing frame 562 ---\n"
     ]
    },
    {
     "name": "stderr",
     "output_type": "stream",
     "text": [
      "frame loading (JPEG): 100%|██████████| 1/1 [00:00<00:00, 20.39it/s]\n",
      "propagate in video:   0%|          | 0/1 [00:00<?, ?it/s]\n"
     ]
    },
    {
     "name": "stdout",
     "output_type": "stream",
     "text": [
      "Frame processed in 1.37s\n",
      "\n",
      "--- Processing frame 563 ---\n"
     ]
    },
    {
     "name": "stderr",
     "output_type": "stream",
     "text": [
      "frame loading (JPEG): 100%|██████████| 1/1 [00:00<00:00, 24.61it/s]\n",
      "propagate in video:   0%|          | 0/1 [00:00<?, ?it/s]\n"
     ]
    },
    {
     "name": "stdout",
     "output_type": "stream",
     "text": [
      "Frame processed in 1.36s\n",
      "\n",
      "--- Processing frame 564 ---\n"
     ]
    },
    {
     "name": "stderr",
     "output_type": "stream",
     "text": [
      "frame loading (JPEG): 100%|██████████| 1/1 [00:00<00:00, 20.36it/s]\n",
      "propagate in video:   0%|          | 0/1 [00:00<?, ?it/s]\n"
     ]
    },
    {
     "name": "stdout",
     "output_type": "stream",
     "text": [
      "Frame processed in 1.50s\n",
      "\n",
      "--- Processing frame 565 ---\n"
     ]
    },
    {
     "name": "stderr",
     "output_type": "stream",
     "text": [
      "frame loading (JPEG): 100%|██████████| 1/1 [00:00<00:00, 20.62it/s]\n",
      "propagate in video:   0%|          | 0/1 [00:00<?, ?it/s]\n"
     ]
    },
    {
     "name": "stdout",
     "output_type": "stream",
     "text": [
      "Frame processed in 1.35s\n",
      "\n",
      "--- Processing frame 566 ---\n"
     ]
    },
    {
     "name": "stderr",
     "output_type": "stream",
     "text": [
      "frame loading (JPEG): 100%|██████████| 1/1 [00:00<00:00, 19.63it/s]\n",
      "propagate in video:   0%|          | 0/1 [00:00<?, ?it/s]\n"
     ]
    },
    {
     "name": "stdout",
     "output_type": "stream",
     "text": [
      "Frame processed in 1.46s\n",
      "\n",
      "--- Processing frame 567 ---\n"
     ]
    },
    {
     "name": "stderr",
     "output_type": "stream",
     "text": [
      "frame loading (JPEG): 100%|██████████| 1/1 [00:00<00:00, 23.31it/s]\n",
      "propagate in video:   0%|          | 0/1 [00:00<?, ?it/s]\n"
     ]
    },
    {
     "name": "stdout",
     "output_type": "stream",
     "text": [
      "Frame processed in 1.34s\n",
      "\n",
      "--- Processing frame 568 ---\n"
     ]
    },
    {
     "name": "stderr",
     "output_type": "stream",
     "text": [
      "frame loading (JPEG): 100%|██████████| 1/1 [00:00<00:00, 24.33it/s]\n",
      "propagate in video:   0%|          | 0/1 [00:00<?, ?it/s]\n"
     ]
    },
    {
     "name": "stdout",
     "output_type": "stream",
     "text": [
      "Frame processed in 1.48s\n",
      "\n",
      "--- Processing frame 569 ---\n"
     ]
    },
    {
     "name": "stderr",
     "output_type": "stream",
     "text": [
      "frame loading (JPEG): 100%|██████████| 1/1 [00:00<00:00, 21.90it/s]\n",
      "propagate in video:   0%|          | 0/1 [00:00<?, ?it/s]\n"
     ]
    },
    {
     "name": "stdout",
     "output_type": "stream",
     "text": [
      "Frame processed in 1.46s\n",
      "\n",
      "--- Processing frame 570 ---\n"
     ]
    },
    {
     "name": "stderr",
     "output_type": "stream",
     "text": [
      "frame loading (JPEG): 100%|██████████| 1/1 [00:00<00:00, 21.63it/s]\n",
      "propagate in video:   0%|          | 0/1 [00:00<?, ?it/s]\n",
      "FutureWarning: The `device` argument is deprecated and will be removed in v5 of Transformers.\n",
      "UserWarning: torch.utils.checkpoint: the use_reentrant parameter should be passed explicitly. In version 2.5 we will raise an exception if use_reentrant is not passed. use_reentrant=False is recommended, but if you need to preserve the current default behavior, you can pass use_reentrant=True. Refer to docs for more details on the differences between the two variants.\n",
      "UserWarning: None of the inputs have requires_grad=True. Gradients will be None\n"
     ]
    },
    {
     "name": "stdout",
     "output_type": "stream",
     "text": [
      "Analysis with Grounding Dino\n"
     ]
    },
    {
     "name": "stderr",
     "output_type": "stream",
     "text": [
      "FutureWarning: `torch.cuda.amp.autocast(args...)` is deprecated. Please use `torch.amp.autocast('cuda', args...)` instead.\n"
     ]
    },
    {
     "name": "stdout",
     "output_type": "stream",
     "text": [
      "['object', 'object'] tensor([0.6887, 0.2617])\n",
      "Frame processed in 1.92s\n",
      "\n",
      "--- Processing frame 571 ---\n"
     ]
    },
    {
     "name": "stderr",
     "output_type": "stream",
     "text": [
      "frame loading (JPEG): 100%|██████████| 1/1 [00:00<00:00, 24.95it/s]\n",
      "propagate in video:   0%|          | 0/1 [00:00<?, ?it/s]\n"
     ]
    },
    {
     "name": "stdout",
     "output_type": "stream",
     "text": [
      "Frame processed in 1.53s\n",
      "\n",
      "--- Processing frame 572 ---\n"
     ]
    },
    {
     "name": "stderr",
     "output_type": "stream",
     "text": [
      "frame loading (JPEG): 100%|██████████| 1/1 [00:00<00:00, 18.13it/s]\n",
      "propagate in video:   0%|          | 0/1 [00:00<?, ?it/s]\n"
     ]
    },
    {
     "name": "stdout",
     "output_type": "stream",
     "text": [
      "Frame processed in 1.46s\n",
      "\n",
      "--- Processing frame 573 ---\n"
     ]
    },
    {
     "name": "stderr",
     "output_type": "stream",
     "text": [
      "frame loading (JPEG): 100%|██████████| 1/1 [00:00<00:00, 20.51it/s]\n",
      "propagate in video:   0%|          | 0/1 [00:00<?, ?it/s]\n"
     ]
    },
    {
     "name": "stdout",
     "output_type": "stream",
     "text": [
      "Frame processed in 1.49s\n",
      "\n",
      "--- Processing frame 574 ---\n"
     ]
    },
    {
     "name": "stderr",
     "output_type": "stream",
     "text": [
      "frame loading (JPEG): 100%|██████████| 1/1 [00:00<00:00, 22.53it/s]\n",
      "propagate in video:   0%|          | 0/1 [00:00<?, ?it/s]\n"
     ]
    },
    {
     "name": "stdout",
     "output_type": "stream",
     "text": [
      "Frame processed in 1.40s\n",
      "\n",
      "--- Processing frame 575 ---\n"
     ]
    },
    {
     "name": "stderr",
     "output_type": "stream",
     "text": [
      "frame loading (JPEG): 100%|██████████| 1/1 [00:00<00:00, 21.64it/s]\n",
      "propagate in video:   0%|          | 0/1 [00:00<?, ?it/s]\n"
     ]
    },
    {
     "name": "stdout",
     "output_type": "stream",
     "text": [
      "Frame processed in 1.41s\n",
      "\n",
      "--- Processing frame 576 ---\n"
     ]
    },
    {
     "name": "stderr",
     "output_type": "stream",
     "text": [
      "frame loading (JPEG): 100%|██████████| 1/1 [00:00<00:00, 23.34it/s]\n",
      "propagate in video:   0%|          | 0/1 [00:00<?, ?it/s]\n"
     ]
    },
    {
     "name": "stdout",
     "output_type": "stream",
     "text": [
      "Frame processed in 1.42s\n",
      "\n",
      "--- Processing frame 577 ---\n"
     ]
    },
    {
     "name": "stderr",
     "output_type": "stream",
     "text": [
      "frame loading (JPEG): 100%|██████████| 1/1 [00:00<00:00, 26.09it/s]\n",
      "propagate in video:   0%|          | 0/1 [00:00<?, ?it/s]\n"
     ]
    },
    {
     "name": "stdout",
     "output_type": "stream",
     "text": [
      "Frame processed in 1.42s\n",
      "\n",
      "--- Processing frame 578 ---\n"
     ]
    },
    {
     "name": "stderr",
     "output_type": "stream",
     "text": [
      "frame loading (JPEG): 100%|██████████| 1/1 [00:00<00:00, 20.79it/s]\n",
      "propagate in video:   0%|          | 0/1 [00:00<?, ?it/s]\n"
     ]
    },
    {
     "name": "stdout",
     "output_type": "stream",
     "text": [
      "Frame processed in 1.41s\n",
      "\n",
      "--- Processing frame 579 ---\n"
     ]
    },
    {
     "name": "stderr",
     "output_type": "stream",
     "text": [
      "frame loading (JPEG): 100%|██████████| 1/1 [00:00<00:00, 20.05it/s]\n",
      "propagate in video:   0%|          | 0/1 [00:00<?, ?it/s]\n"
     ]
    },
    {
     "name": "stdout",
     "output_type": "stream",
     "text": [
      "Frame processed in 1.46s\n",
      "\n",
      "--- Processing frame 580 ---\n"
     ]
    },
    {
     "name": "stderr",
     "output_type": "stream",
     "text": [
      "frame loading (JPEG): 100%|██████████| 1/1 [00:00<00:00, 15.57it/s]\n",
      "propagate in video:   0%|          | 0/1 [00:00<?, ?it/s]\n"
     ]
    },
    {
     "name": "stdout",
     "output_type": "stream",
     "text": [
      "Frame processed in 1.48s\n",
      "\n",
      "--- Processing frame 581 ---\n"
     ]
    },
    {
     "name": "stderr",
     "output_type": "stream",
     "text": [
      "frame loading (JPEG): 100%|██████████| 1/1 [00:00<00:00, 24.05it/s]\n",
      "propagate in video:   0%|          | 0/1 [00:00<?, ?it/s]\n"
     ]
    },
    {
     "name": "stdout",
     "output_type": "stream",
     "text": [
      "Frame processed in 1.35s\n",
      "\n",
      "--- Processing frame 582 ---\n"
     ]
    },
    {
     "name": "stderr",
     "output_type": "stream",
     "text": [
      "frame loading (JPEG): 100%|██████████| 1/1 [00:00<00:00, 23.69it/s]\n",
      "propagate in video:   0%|          | 0/1 [00:00<?, ?it/s]\n"
     ]
    },
    {
     "name": "stdout",
     "output_type": "stream",
     "text": [
      "Frame processed in 1.37s\n",
      "\n",
      "--- Processing frame 583 ---\n"
     ]
    },
    {
     "name": "stderr",
     "output_type": "stream",
     "text": [
      "frame loading (JPEG): 100%|██████████| 1/1 [00:00<00:00, 23.33it/s]\n",
      "propagate in video:   0%|          | 0/1 [00:00<?, ?it/s]\n"
     ]
    },
    {
     "name": "stdout",
     "output_type": "stream",
     "text": [
      "Frame processed in 1.39s\n",
      "\n",
      "--- Processing frame 584 ---\n"
     ]
    },
    {
     "name": "stderr",
     "output_type": "stream",
     "text": [
      "frame loading (JPEG): 100%|██████████| 1/1 [00:00<00:00, 20.55it/s]\n",
      "propagate in video:   0%|          | 0/1 [00:00<?, ?it/s]\n"
     ]
    },
    {
     "name": "stdout",
     "output_type": "stream",
     "text": [
      "Frame processed in 1.41s\n",
      "\n",
      "--- Processing frame 585 ---\n"
     ]
    },
    {
     "name": "stderr",
     "output_type": "stream",
     "text": [
      "frame loading (JPEG): 100%|██████████| 1/1 [00:00<00:00, 23.17it/s]\n",
      "propagate in video:   0%|          | 0/1 [00:00<?, ?it/s]\n",
      "FutureWarning: The `device` argument is deprecated and will be removed in v5 of Transformers.\n",
      "UserWarning: torch.utils.checkpoint: the use_reentrant parameter should be passed explicitly. In version 2.5 we will raise an exception if use_reentrant is not passed. use_reentrant=False is recommended, but if you need to preserve the current default behavior, you can pass use_reentrant=True. Refer to docs for more details on the differences between the two variants.\n",
      "UserWarning: None of the inputs have requires_grad=True. Gradients will be None\n"
     ]
    },
    {
     "name": "stdout",
     "output_type": "stream",
     "text": [
      "Analysis with Grounding Dino\n"
     ]
    },
    {
     "name": "stderr",
     "output_type": "stream",
     "text": [
      "FutureWarning: `torch.cuda.amp.autocast(args...)` is deprecated. Please use `torch.amp.autocast('cuda', args...)` instead.\n"
     ]
    },
    {
     "name": "stdout",
     "output_type": "stream",
     "text": [
      "['object', 'object', 'object', 'object'] tensor([0.5028, 0.3842, 0.3643, 0.3531])\n",
      "New object 6 detected at frame 585\n"
     ]
    },
    {
     "name": "stderr",
     "output_type": "stream",
     "text": [
      "propagate in video:   0%|          | 0/1 [00:00<?, ?it/s]\n"
     ]
    },
    {
     "name": "stdout",
     "output_type": "stream",
     "text": [
      "Frame processed in 2.01s\n",
      "\n",
      "--- Processing frame 586 ---\n"
     ]
    },
    {
     "name": "stderr",
     "output_type": "stream",
     "text": [
      "frame loading (JPEG): 100%|██████████| 1/1 [00:00<00:00, 20.04it/s]\n",
      "propagate in video:   0%|          | 0/1 [00:00<?, ?it/s]\n"
     ]
    },
    {
     "name": "stdout",
     "output_type": "stream",
     "text": [
      "Frame processed in 1.49s\n",
      "\n",
      "--- Processing frame 587 ---\n"
     ]
    },
    {
     "name": "stderr",
     "output_type": "stream",
     "text": [
      "frame loading (JPEG): 100%|██████████| 1/1 [00:00<00:00, 19.59it/s]\n",
      "propagate in video:   0%|          | 0/1 [00:00<?, ?it/s]\n"
     ]
    },
    {
     "name": "stdout",
     "output_type": "stream",
     "text": [
      "Frame processed in 1.43s\n",
      "\n",
      "--- Processing frame 588 ---\n"
     ]
    },
    {
     "name": "stderr",
     "output_type": "stream",
     "text": [
      "frame loading (JPEG): 100%|██████████| 1/1 [00:00<00:00, 23.89it/s]\n",
      "propagate in video:   0%|          | 0/1 [00:00<?, ?it/s]\n"
     ]
    },
    {
     "name": "stdout",
     "output_type": "stream",
     "text": [
      "Frame processed in 1.43s\n",
      "\n",
      "--- Processing frame 589 ---\n"
     ]
    },
    {
     "name": "stderr",
     "output_type": "stream",
     "text": [
      "frame loading (JPEG): 100%|██████████| 1/1 [00:00<00:00, 24.22it/s]\n",
      "propagate in video:   0%|          | 0/1 [00:00<?, ?it/s]\n"
     ]
    },
    {
     "name": "stdout",
     "output_type": "stream",
     "text": [
      "Frame processed in 1.44s\n",
      "\n",
      "--- Processing frame 590 ---\n"
     ]
    },
    {
     "name": "stderr",
     "output_type": "stream",
     "text": [
      "frame loading (JPEG): 100%|██████████| 1/1 [00:00<00:00, 22.07it/s]\n",
      "propagate in video:   0%|          | 0/1 [00:00<?, ?it/s]\n"
     ]
    },
    {
     "name": "stdout",
     "output_type": "stream",
     "text": [
      "Frame processed in 1.48s\n",
      "\n",
      "--- Processing frame 591 ---\n"
     ]
    },
    {
     "name": "stderr",
     "output_type": "stream",
     "text": [
      "frame loading (JPEG): 100%|██████████| 1/1 [00:00<00:00, 25.71it/s]\n",
      "propagate in video:   0%|          | 0/1 [00:00<?, ?it/s]\n"
     ]
    },
    {
     "name": "stdout",
     "output_type": "stream",
     "text": [
      "Frame processed in 1.45s\n",
      "\n",
      "--- Processing frame 592 ---\n"
     ]
    },
    {
     "name": "stderr",
     "output_type": "stream",
     "text": [
      "frame loading (JPEG): 100%|██████████| 1/1 [00:00<00:00, 19.81it/s]\n",
      "propagate in video:   0%|          | 0/1 [00:00<?, ?it/s]\n"
     ]
    },
    {
     "name": "stdout",
     "output_type": "stream",
     "text": [
      "Frame processed in 1.52s\n",
      "\n",
      "--- Processing frame 593 ---\n"
     ]
    },
    {
     "name": "stderr",
     "output_type": "stream",
     "text": [
      "frame loading (JPEG): 100%|██████████| 1/1 [00:00<00:00, 20.64it/s]\n",
      "propagate in video:   0%|          | 0/1 [00:00<?, ?it/s]\n"
     ]
    },
    {
     "name": "stdout",
     "output_type": "stream",
     "text": [
      "Frame processed in 1.54s\n",
      "\n",
      "--- Processing frame 594 ---\n"
     ]
    },
    {
     "name": "stderr",
     "output_type": "stream",
     "text": [
      "frame loading (JPEG): 100%|██████████| 1/1 [00:00<00:00, 24.34it/s]\n",
      "propagate in video:   0%|          | 0/1 [00:00<?, ?it/s]\n"
     ]
    },
    {
     "name": "stdout",
     "output_type": "stream",
     "text": [
      "Frame processed in 1.48s\n",
      "\n",
      "--- Processing frame 595 ---\n"
     ]
    },
    {
     "name": "stderr",
     "output_type": "stream",
     "text": [
      "frame loading (JPEG): 100%|██████████| 1/1 [00:00<00:00, 20.39it/s]\n",
      "propagate in video:   0%|          | 0/1 [00:00<?, ?it/s]\n"
     ]
    },
    {
     "name": "stdout",
     "output_type": "stream",
     "text": [
      "Frame processed in 1.48s\n",
      "\n",
      "--- Processing frame 596 ---\n"
     ]
    },
    {
     "name": "stderr",
     "output_type": "stream",
     "text": [
      "frame loading (JPEG): 100%|██████████| 1/1 [00:00<00:00, 20.10it/s]\n",
      "propagate in video:   0%|          | 0/1 [00:00<?, ?it/s]\n"
     ]
    },
    {
     "name": "stdout",
     "output_type": "stream",
     "text": [
      "Frame processed in 1.51s\n",
      "\n",
      "--- Processing frame 597 ---\n"
     ]
    },
    {
     "name": "stderr",
     "output_type": "stream",
     "text": [
      "frame loading (JPEG): 100%|██████████| 1/1 [00:00<00:00, 19.99it/s]\n",
      "propagate in video:   0%|          | 0/1 [00:00<?, ?it/s]\n"
     ]
    },
    {
     "name": "stdout",
     "output_type": "stream",
     "text": [
      "Frame processed in 1.45s\n",
      "\n",
      "--- Processing frame 598 ---\n"
     ]
    },
    {
     "name": "stderr",
     "output_type": "stream",
     "text": [
      "frame loading (JPEG): 100%|██████████| 1/1 [00:00<00:00, 24.43it/s]\n",
      "propagate in video:   0%|          | 0/1 [00:00<?, ?it/s]\n"
     ]
    },
    {
     "name": "stdout",
     "output_type": "stream",
     "text": [
      "Frame processed in 1.50s\n",
      "\n",
      "--- Processing frame 599 ---\n"
     ]
    },
    {
     "name": "stderr",
     "output_type": "stream",
     "text": [
      "frame loading (JPEG): 100%|██████████| 1/1 [00:00<00:00, 21.57it/s]\n",
      "propagate in video:   0%|          | 0/1 [00:00<?, ?it/s]\n"
     ]
    },
    {
     "name": "stdout",
     "output_type": "stream",
     "text": [
      "Frame processed in 1.45s\n",
      "\n",
      "--- Processing frame 600 ---\n"
     ]
    },
    {
     "name": "stderr",
     "output_type": "stream",
     "text": [
      "frame loading (JPEG): 100%|██████████| 1/1 [00:00<00:00, 22.34it/s]\n",
      "propagate in video:   0%|          | 0/1 [00:00<?, ?it/s]\n",
      "FutureWarning: The `device` argument is deprecated and will be removed in v5 of Transformers.\n",
      "UserWarning: torch.utils.checkpoint: the use_reentrant parameter should be passed explicitly. In version 2.5 we will raise an exception if use_reentrant is not passed. use_reentrant=False is recommended, but if you need to preserve the current default behavior, you can pass use_reentrant=True. Refer to docs for more details on the differences between the two variants.\n",
      "UserWarning: None of the inputs have requires_grad=True. Gradients will be None\n"
     ]
    },
    {
     "name": "stdout",
     "output_type": "stream",
     "text": [
      "Analysis with Grounding Dino\n"
     ]
    },
    {
     "name": "stderr",
     "output_type": "stream",
     "text": [
      "FutureWarning: `torch.cuda.amp.autocast(args...)` is deprecated. Please use `torch.amp.autocast('cuda', args...)` instead.\n"
     ]
    },
    {
     "name": "stdout",
     "output_type": "stream",
     "text": [
      "['object', 'object', 'object'] tensor([0.5951, 0.3881, 0.3119])\n",
      "Frame processed in 1.92s\n",
      "\n",
      "--- Processing frame 601 ---\n"
     ]
    },
    {
     "name": "stderr",
     "output_type": "stream",
     "text": [
      "frame loading (JPEG): 100%|██████████| 1/1 [00:00<00:00, 19.70it/s]\n",
      "propagate in video:   0%|          | 0/1 [00:00<?, ?it/s]\n"
     ]
    },
    {
     "name": "stdout",
     "output_type": "stream",
     "text": [
      "Frame processed in 1.45s\n",
      "\n",
      "--- Processing frame 602 ---\n"
     ]
    },
    {
     "name": "stderr",
     "output_type": "stream",
     "text": [
      "frame loading (JPEG): 100%|██████████| 1/1 [00:00<00:00, 19.55it/s]\n",
      "propagate in video:   0%|          | 0/1 [00:00<?, ?it/s]\n"
     ]
    },
    {
     "name": "stdout",
     "output_type": "stream",
     "text": [
      "Frame processed in 1.57s\n",
      "\n",
      "--- Processing frame 603 ---\n"
     ]
    },
    {
     "name": "stderr",
     "output_type": "stream",
     "text": [
      "frame loading (JPEG): 100%|██████████| 1/1 [00:00<00:00, 24.04it/s]\n",
      "propagate in video:   0%|          | 0/1 [00:00<?, ?it/s]\n"
     ]
    },
    {
     "name": "stdout",
     "output_type": "stream",
     "text": [
      "Frame processed in 1.56s\n",
      "\n",
      "--- Processing frame 604 ---\n"
     ]
    },
    {
     "name": "stderr",
     "output_type": "stream",
     "text": [
      "frame loading (JPEG): 100%|██████████| 1/1 [00:00<00:00, 17.44it/s]\n",
      "propagate in video:   0%|          | 0/1 [00:00<?, ?it/s]\n"
     ]
    },
    {
     "name": "stdout",
     "output_type": "stream",
     "text": [
      "Frame processed in 1.55s\n",
      "\n",
      "--- Processing frame 605 ---\n"
     ]
    },
    {
     "name": "stderr",
     "output_type": "stream",
     "text": [
      "frame loading (JPEG): 100%|██████████| 1/1 [00:00<00:00, 25.35it/s]\n",
      "propagate in video:   0%|          | 0/1 [00:00<?, ?it/s]\n"
     ]
    },
    {
     "name": "stdout",
     "output_type": "stream",
     "text": [
      "Frame processed in 1.48s\n",
      "\n",
      "--- Processing frame 606 ---\n"
     ]
    },
    {
     "name": "stderr",
     "output_type": "stream",
     "text": [
      "frame loading (JPEG): 100%|██████████| 1/1 [00:00<00:00, 23.81it/s]\n",
      "propagate in video:   0%|          | 0/1 [00:00<?, ?it/s]\n"
     ]
    },
    {
     "name": "stdout",
     "output_type": "stream",
     "text": [
      "Frame processed in 1.48s\n",
      "\n",
      "--- Processing frame 607 ---\n"
     ]
    },
    {
     "name": "stderr",
     "output_type": "stream",
     "text": [
      "frame loading (JPEG): 100%|██████████| 1/1 [00:00<00:00, 24.18it/s]\n",
      "propagate in video:   0%|          | 0/1 [00:00<?, ?it/s]\n"
     ]
    },
    {
     "name": "stdout",
     "output_type": "stream",
     "text": [
      "Frame processed in 1.45s\n",
      "\n",
      "--- Processing frame 608 ---\n"
     ]
    },
    {
     "name": "stderr",
     "output_type": "stream",
     "text": [
      "frame loading (JPEG): 100%|██████████| 1/1 [00:00<00:00, 22.51it/s]\n",
      "propagate in video:   0%|          | 0/1 [00:00<?, ?it/s]\n"
     ]
    },
    {
     "name": "stdout",
     "output_type": "stream",
     "text": [
      "Frame processed in 1.48s\n",
      "\n",
      "--- Processing frame 609 ---\n"
     ]
    },
    {
     "name": "stderr",
     "output_type": "stream",
     "text": [
      "frame loading (JPEG): 100%|██████████| 1/1 [00:00<00:00, 19.51it/s]\n",
      "propagate in video:   0%|          | 0/1 [00:00<?, ?it/s]\n"
     ]
    },
    {
     "name": "stdout",
     "output_type": "stream",
     "text": [
      "Frame processed in 1.48s\n",
      "\n",
      "--- Processing frame 610 ---\n"
     ]
    },
    {
     "name": "stderr",
     "output_type": "stream",
     "text": [
      "frame loading (JPEG): 100%|██████████| 1/1 [00:00<00:00, 20.20it/s]\n",
      "propagate in video:   0%|          | 0/1 [00:00<?, ?it/s]\n"
     ]
    },
    {
     "name": "stdout",
     "output_type": "stream",
     "text": [
      "Frame processed in 1.47s\n",
      "\n",
      "--- Processing frame 611 ---\n"
     ]
    },
    {
     "name": "stderr",
     "output_type": "stream",
     "text": [
      "frame loading (JPEG): 100%|██████████| 1/1 [00:00<00:00, 19.35it/s]\n",
      "propagate in video:   0%|          | 0/1 [00:00<?, ?it/s]\n"
     ]
    },
    {
     "name": "stdout",
     "output_type": "stream",
     "text": [
      "Frame processed in 1.50s\n",
      "\n",
      "--- Processing frame 612 ---\n"
     ]
    },
    {
     "name": "stderr",
     "output_type": "stream",
     "text": [
      "frame loading (JPEG): 100%|██████████| 1/1 [00:00<00:00, 25.27it/s]\n",
      "propagate in video:   0%|          | 0/1 [00:00<?, ?it/s]\n"
     ]
    },
    {
     "name": "stdout",
     "output_type": "stream",
     "text": [
      "Frame processed in 1.44s\n",
      "\n",
      "--- Processing frame 613 ---\n"
     ]
    },
    {
     "name": "stderr",
     "output_type": "stream",
     "text": [
      "frame loading (JPEG): 100%|██████████| 1/1 [00:00<00:00, 25.03it/s]\n",
      "propagate in video:   0%|          | 0/1 [00:00<?, ?it/s]\n"
     ]
    },
    {
     "name": "stdout",
     "output_type": "stream",
     "text": [
      "Frame processed in 1.44s\n",
      "\n",
      "--- Processing frame 614 ---\n"
     ]
    },
    {
     "name": "stderr",
     "output_type": "stream",
     "text": [
      "frame loading (JPEG): 100%|██████████| 1/1 [00:00<00:00, 23.10it/s]\n",
      "propagate in video:   0%|          | 0/1 [00:00<?, ?it/s]\n"
     ]
    },
    {
     "name": "stdout",
     "output_type": "stream",
     "text": [
      "Frame processed in 1.45s\n",
      "\n",
      "--- Processing frame 615 ---\n"
     ]
    },
    {
     "name": "stderr",
     "output_type": "stream",
     "text": [
      "frame loading (JPEG): 100%|██████████| 1/1 [00:00<00:00, 20.44it/s]\n",
      "propagate in video:   0%|          | 0/1 [00:00<?, ?it/s]\n",
      "FutureWarning: The `device` argument is deprecated and will be removed in v5 of Transformers.\n",
      "UserWarning: torch.utils.checkpoint: the use_reentrant parameter should be passed explicitly. In version 2.5 we will raise an exception if use_reentrant is not passed. use_reentrant=False is recommended, but if you need to preserve the current default behavior, you can pass use_reentrant=True. Refer to docs for more details on the differences between the two variants.\n",
      "UserWarning: None of the inputs have requires_grad=True. Gradients will be None\n"
     ]
    },
    {
     "name": "stdout",
     "output_type": "stream",
     "text": [
      "Analysis with Grounding Dino\n"
     ]
    },
    {
     "name": "stderr",
     "output_type": "stream",
     "text": [
      "FutureWarning: `torch.cuda.amp.autocast(args...)` is deprecated. Please use `torch.amp.autocast('cuda', args...)` instead.\n"
     ]
    },
    {
     "name": "stdout",
     "output_type": "stream",
     "text": [
      "['object', 'object', 'object', 'object', 'object', 'object'] tensor([0.4379, 0.2238, 0.2423, 0.2383, 0.3003, 0.2968])\n",
      "Frame processed in 1.93s\n",
      "\n",
      "--- Processing frame 616 ---\n"
     ]
    },
    {
     "name": "stderr",
     "output_type": "stream",
     "text": [
      "frame loading (JPEG): 100%|██████████| 1/1 [00:00<00:00, 24.87it/s]\n",
      "propagate in video:   0%|          | 0/1 [00:00<?, ?it/s]\n"
     ]
    },
    {
     "name": "stdout",
     "output_type": "stream",
     "text": [
      "Frame processed in 1.51s\n",
      "\n",
      "--- Processing frame 617 ---\n"
     ]
    },
    {
     "name": "stderr",
     "output_type": "stream",
     "text": [
      "frame loading (JPEG): 100%|██████████| 1/1 [00:00<00:00, 19.71it/s]\n",
      "propagate in video:   0%|          | 0/1 [00:00<?, ?it/s]\n"
     ]
    },
    {
     "name": "stdout",
     "output_type": "stream",
     "text": [
      "Frame processed in 1.48s\n",
      "\n",
      "--- Processing frame 618 ---\n"
     ]
    },
    {
     "name": "stderr",
     "output_type": "stream",
     "text": [
      "frame loading (JPEG): 100%|██████████| 1/1 [00:00<00:00, 24.63it/s]\n",
      "propagate in video:   0%|          | 0/1 [00:00<?, ?it/s]\n"
     ]
    },
    {
     "name": "stdout",
     "output_type": "stream",
     "text": [
      "Frame processed in 1.49s\n",
      "\n",
      "--- Processing frame 619 ---\n"
     ]
    },
    {
     "name": "stderr",
     "output_type": "stream",
     "text": [
      "frame loading (JPEG): 100%|██████████| 1/1 [00:00<00:00, 19.60it/s]\n",
      "propagate in video:   0%|          | 0/1 [00:00<?, ?it/s]\n"
     ]
    },
    {
     "name": "stdout",
     "output_type": "stream",
     "text": [
      "Frame processed in 1.59s\n",
      "\n",
      "--- Processing frame 620 ---\n"
     ]
    },
    {
     "name": "stderr",
     "output_type": "stream",
     "text": [
      "frame loading (JPEG): 100%|██████████| 1/1 [00:00<00:00, 23.14it/s]\n",
      "propagate in video:   0%|          | 0/1 [00:00<?, ?it/s]\n"
     ]
    },
    {
     "name": "stdout",
     "output_type": "stream",
     "text": [
      "Frame processed in 1.54s\n",
      "\n",
      "--- Processing frame 621 ---\n"
     ]
    },
    {
     "name": "stderr",
     "output_type": "stream",
     "text": [
      "frame loading (JPEG): 100%|██████████| 1/1 [00:00<00:00, 24.16it/s]\n",
      "propagate in video:   0%|          | 0/1 [00:00<?, ?it/s]\n"
     ]
    },
    {
     "name": "stdout",
     "output_type": "stream",
     "text": [
      "Frame processed in 1.50s\n",
      "\n",
      "--- Processing frame 622 ---\n"
     ]
    },
    {
     "name": "stderr",
     "output_type": "stream",
     "text": [
      "frame loading (JPEG): 100%|██████████| 1/1 [00:00<00:00, 20.53it/s]\n",
      "propagate in video:   0%|          | 0/1 [00:00<?, ?it/s]\n"
     ]
    },
    {
     "name": "stdout",
     "output_type": "stream",
     "text": [
      "Frame processed in 1.54s\n",
      "\n",
      "--- Processing frame 623 ---\n"
     ]
    },
    {
     "name": "stderr",
     "output_type": "stream",
     "text": [
      "frame loading (JPEG): 100%|██████████| 1/1 [00:00<00:00, 19.43it/s]\n",
      "propagate in video:   0%|          | 0/1 [00:00<?, ?it/s]\n"
     ]
    },
    {
     "name": "stdout",
     "output_type": "stream",
     "text": [
      "Frame processed in 1.53s\n",
      "\n",
      "--- Processing frame 624 ---\n"
     ]
    },
    {
     "name": "stderr",
     "output_type": "stream",
     "text": [
      "frame loading (JPEG): 100%|██████████| 1/1 [00:00<00:00, 24.63it/s]\n",
      "propagate in video:   0%|          | 0/1 [00:00<?, ?it/s]\n"
     ]
    },
    {
     "name": "stdout",
     "output_type": "stream",
     "text": [
      "Frame processed in 1.50s\n",
      "\n",
      "--- Processing frame 625 ---\n"
     ]
    },
    {
     "name": "stderr",
     "output_type": "stream",
     "text": [
      "frame loading (JPEG): 100%|██████████| 1/1 [00:00<00:00, 18.10it/s]\n",
      "propagate in video:   0%|          | 0/1 [00:00<?, ?it/s]\n"
     ]
    },
    {
     "name": "stdout",
     "output_type": "stream",
     "text": [
      "Frame processed in 1.59s\n",
      "\n",
      "--- Processing frame 626 ---\n"
     ]
    },
    {
     "name": "stderr",
     "output_type": "stream",
     "text": [
      "frame loading (JPEG): 100%|██████████| 1/1 [00:00<00:00, 25.51it/s]\n",
      "propagate in video:   0%|          | 0/1 [00:00<?, ?it/s]\n"
     ]
    },
    {
     "name": "stdout",
     "output_type": "stream",
     "text": [
      "Frame processed in 1.46s\n",
      "\n",
      "--- Processing frame 627 ---\n"
     ]
    },
    {
     "name": "stderr",
     "output_type": "stream",
     "text": [
      "frame loading (JPEG): 100%|██████████| 1/1 [00:00<00:00, 25.47it/s]\n",
      "propagate in video:   0%|          | 0/1 [00:00<?, ?it/s]\n"
     ]
    },
    {
     "name": "stdout",
     "output_type": "stream",
     "text": [
      "Frame processed in 1.51s\n",
      "\n",
      "--- Processing frame 628 ---\n"
     ]
    },
    {
     "name": "stderr",
     "output_type": "stream",
     "text": [
      "frame loading (JPEG): 100%|██████████| 1/1 [00:00<00:00, 23.06it/s]\n",
      "propagate in video:   0%|          | 0/1 [00:00<?, ?it/s]\n"
     ]
    },
    {
     "name": "stdout",
     "output_type": "stream",
     "text": [
      "Frame processed in 1.47s\n",
      "\n",
      "--- Processing frame 629 ---\n"
     ]
    },
    {
     "name": "stderr",
     "output_type": "stream",
     "text": [
      "frame loading (JPEG): 100%|██████████| 1/1 [00:00<00:00, 20.87it/s]\n",
      "propagate in video:   0%|          | 0/1 [00:00<?, ?it/s]\n"
     ]
    },
    {
     "name": "stdout",
     "output_type": "stream",
     "text": [
      "Frame processed in 1.50s\n",
      "\n",
      "--- Processing frame 630 ---\n"
     ]
    },
    {
     "name": "stderr",
     "output_type": "stream",
     "text": [
      "frame loading (JPEG): 100%|██████████| 1/1 [00:00<00:00, 23.89it/s]\n",
      "propagate in video:   0%|          | 0/1 [00:00<?, ?it/s]\n",
      "FutureWarning: The `device` argument is deprecated and will be removed in v5 of Transformers.\n",
      "UserWarning: torch.utils.checkpoint: the use_reentrant parameter should be passed explicitly. In version 2.5 we will raise an exception if use_reentrant is not passed. use_reentrant=False is recommended, but if you need to preserve the current default behavior, you can pass use_reentrant=True. Refer to docs for more details on the differences between the two variants.\n",
      "UserWarning: None of the inputs have requires_grad=True. Gradients will be None\n"
     ]
    },
    {
     "name": "stdout",
     "output_type": "stream",
     "text": [
      "Analysis with Grounding Dino\n"
     ]
    },
    {
     "name": "stderr",
     "output_type": "stream",
     "text": [
      "FutureWarning: `torch.cuda.amp.autocast(args...)` is deprecated. Please use `torch.amp.autocast('cuda', args...)` instead.\n"
     ]
    },
    {
     "name": "stdout",
     "output_type": "stream",
     "text": [
      "['object', 'object', 'object', 'object'] tensor([0.4156, 0.3720, 0.2434, 0.2374])\n",
      "Frame processed in 1.96s\n",
      "\n",
      "--- Processing frame 631 ---\n"
     ]
    },
    {
     "name": "stderr",
     "output_type": "stream",
     "text": [
      "frame loading (JPEG): 100%|██████████| 1/1 [00:00<00:00, 20.83it/s]\n",
      "propagate in video:   0%|          | 0/1 [00:00<?, ?it/s]\n"
     ]
    },
    {
     "name": "stdout",
     "output_type": "stream",
     "text": [
      "Frame processed in 1.56s\n",
      "\n",
      "--- Processing frame 632 ---\n"
     ]
    },
    {
     "name": "stderr",
     "output_type": "stream",
     "text": [
      "frame loading (JPEG): 100%|██████████| 1/1 [00:00<00:00, 21.20it/s]\n",
      "propagate in video:   0%|          | 0/1 [00:00<?, ?it/s]\n"
     ]
    },
    {
     "name": "stdout",
     "output_type": "stream",
     "text": [
      "Frame processed in 1.58s\n",
      "\n",
      "--- Processing frame 633 ---\n"
     ]
    },
    {
     "name": "stderr",
     "output_type": "stream",
     "text": [
      "frame loading (JPEG): 100%|██████████| 1/1 [00:00<00:00, 14.88it/s]\n",
      "propagate in video:   0%|          | 0/1 [00:00<?, ?it/s]\n"
     ]
    },
    {
     "name": "stdout",
     "output_type": "stream",
     "text": [
      "Frame processed in 1.57s\n",
      "\n",
      "--- Processing frame 634 ---\n"
     ]
    },
    {
     "name": "stderr",
     "output_type": "stream",
     "text": [
      "frame loading (JPEG): 100%|██████████| 1/1 [00:00<00:00, 24.00it/s]\n",
      "propagate in video:   0%|          | 0/1 [00:00<?, ?it/s]\n"
     ]
    },
    {
     "name": "stdout",
     "output_type": "stream",
     "text": [
      "Frame processed in 1.48s\n",
      "\n",
      "--- Processing frame 635 ---\n"
     ]
    },
    {
     "name": "stderr",
     "output_type": "stream",
     "text": [
      "frame loading (JPEG): 100%|██████████| 1/1 [00:00<00:00, 24.72it/s]\n",
      "propagate in video:   0%|          | 0/1 [00:00<?, ?it/s]\n"
     ]
    },
    {
     "name": "stdout",
     "output_type": "stream",
     "text": [
      "Frame processed in 1.50s\n",
      "\n",
      "--- Processing frame 636 ---\n"
     ]
    },
    {
     "name": "stderr",
     "output_type": "stream",
     "text": [
      "frame loading (JPEG): 100%|██████████| 1/1 [00:00<00:00, 23.19it/s]\n",
      "propagate in video:   0%|          | 0/1 [00:00<?, ?it/s]\n"
     ]
    },
    {
     "name": "stdout",
     "output_type": "stream",
     "text": [
      "Frame processed in 1.48s\n",
      "\n",
      "--- Processing frame 637 ---\n"
     ]
    },
    {
     "name": "stderr",
     "output_type": "stream",
     "text": [
      "frame loading (JPEG): 100%|██████████| 1/1 [00:00<00:00, 25.73it/s]\n",
      "propagate in video:   0%|          | 0/1 [00:00<?, ?it/s]\n"
     ]
    },
    {
     "name": "stdout",
     "output_type": "stream",
     "text": [
      "Frame processed in 1.49s\n",
      "\n",
      "--- Processing frame 638 ---\n"
     ]
    },
    {
     "name": "stderr",
     "output_type": "stream",
     "text": [
      "frame loading (JPEG): 100%|██████████| 1/1 [00:00<00:00, 23.39it/s]\n",
      "propagate in video:   0%|          | 0/1 [00:00<?, ?it/s]\n"
     ]
    },
    {
     "name": "stdout",
     "output_type": "stream",
     "text": [
      "Frame processed in 1.48s\n",
      "\n",
      "--- Processing frame 639 ---\n"
     ]
    },
    {
     "name": "stderr",
     "output_type": "stream",
     "text": [
      "frame loading (JPEG): 100%|██████████| 1/1 [00:00<00:00, 22.97it/s]\n",
      "propagate in video:   0%|          | 0/1 [00:00<?, ?it/s]\n"
     ]
    },
    {
     "name": "stdout",
     "output_type": "stream",
     "text": [
      "Frame processed in 1.49s\n",
      "\n",
      "--- Processing frame 640 ---\n"
     ]
    },
    {
     "name": "stderr",
     "output_type": "stream",
     "text": [
      "frame loading (JPEG): 100%|██████████| 1/1 [00:00<00:00, 20.60it/s]\n",
      "propagate in video:   0%|          | 0/1 [00:00<?, ?it/s]\n"
     ]
    },
    {
     "name": "stdout",
     "output_type": "stream",
     "text": [
      "Frame processed in 1.48s\n",
      "\n",
      "--- Processing frame 641 ---\n"
     ]
    },
    {
     "name": "stderr",
     "output_type": "stream",
     "text": [
      "frame loading (JPEG): 100%|██████████| 1/1 [00:00<00:00, 20.16it/s]\n",
      "propagate in video:   0%|          | 0/1 [00:00<?, ?it/s]\n"
     ]
    },
    {
     "name": "stdout",
     "output_type": "stream",
     "text": [
      "Frame processed in 1.49s\n",
      "\n",
      "--- Processing frame 642 ---\n"
     ]
    },
    {
     "name": "stderr",
     "output_type": "stream",
     "text": [
      "frame loading (JPEG): 100%|██████████| 1/1 [00:00<00:00, 20.77it/s]\n",
      "propagate in video:   0%|          | 0/1 [00:00<?, ?it/s]\n"
     ]
    },
    {
     "name": "stdout",
     "output_type": "stream",
     "text": [
      "Frame processed in 1.54s\n",
      "\n",
      "--- Processing frame 643 ---\n"
     ]
    },
    {
     "name": "stderr",
     "output_type": "stream",
     "text": [
      "frame loading (JPEG): 100%|██████████| 1/1 [00:00<00:00, 19.86it/s]\n",
      "propagate in video:   0%|          | 0/1 [00:00<?, ?it/s]\n"
     ]
    },
    {
     "name": "stdout",
     "output_type": "stream",
     "text": [
      "Frame processed in 1.54s\n",
      "\n",
      "--- Processing frame 644 ---\n"
     ]
    },
    {
     "name": "stderr",
     "output_type": "stream",
     "text": [
      "frame loading (JPEG): 100%|██████████| 1/1 [00:00<00:00, 24.59it/s]\n",
      "propagate in video:   0%|          | 0/1 [00:00<?, ?it/s]\n"
     ]
    },
    {
     "name": "stdout",
     "output_type": "stream",
     "text": [
      "Frame processed in 1.47s\n",
      "\n",
      "--- Processing frame 645 ---\n"
     ]
    },
    {
     "name": "stderr",
     "output_type": "stream",
     "text": [
      "frame loading (JPEG): 100%|██████████| 1/1 [00:00<00:00, 23.17it/s]\n",
      "propagate in video:   0%|          | 0/1 [00:00<?, ?it/s]\n",
      "FutureWarning: The `device` argument is deprecated and will be removed in v5 of Transformers.\n",
      "UserWarning: torch.utils.checkpoint: the use_reentrant parameter should be passed explicitly. In version 2.5 we will raise an exception if use_reentrant is not passed. use_reentrant=False is recommended, but if you need to preserve the current default behavior, you can pass use_reentrant=True. Refer to docs for more details on the differences between the two variants.\n",
      "UserWarning: None of the inputs have requires_grad=True. Gradients will be None\n"
     ]
    },
    {
     "name": "stdout",
     "output_type": "stream",
     "text": [
      "Analysis with Grounding Dino\n"
     ]
    },
    {
     "name": "stderr",
     "output_type": "stream",
     "text": [
      "FutureWarning: `torch.cuda.amp.autocast(args...)` is deprecated. Please use `torch.amp.autocast('cuda', args...)` instead.\n"
     ]
    },
    {
     "name": "stdout",
     "output_type": "stream",
     "text": [
      "['object', 'object', 'object', 'object', 'object'] tensor([0.4557, 0.2800, 0.2865, 0.2978, 0.2303])\n",
      "Frame processed in 1.97s\n",
      "\n",
      "--- Processing frame 646 ---\n"
     ]
    },
    {
     "name": "stderr",
     "output_type": "stream",
     "text": [
      "frame loading (JPEG): 100%|██████████| 1/1 [00:00<00:00, 20.57it/s]\n",
      "propagate in video:   0%|          | 0/1 [00:00<?, ?it/s]\n"
     ]
    },
    {
     "name": "stdout",
     "output_type": "stream",
     "text": [
      "Frame processed in 1.50s\n",
      "\n",
      "--- Processing frame 647 ---\n"
     ]
    },
    {
     "name": "stderr",
     "output_type": "stream",
     "text": [
      "frame loading (JPEG): 100%|██████████| 1/1 [00:00<00:00, 23.61it/s]\n",
      "propagate in video:   0%|          | 0/1 [00:00<?, ?it/s]\n"
     ]
    },
    {
     "name": "stdout",
     "output_type": "stream",
     "text": [
      "Frame processed in 1.63s\n",
      "\n",
      "--- Processing frame 648 ---\n"
     ]
    },
    {
     "name": "stderr",
     "output_type": "stream",
     "text": [
      "frame loading (JPEG): 100%|██████████| 1/1 [00:00<00:00, 21.39it/s]\n",
      "propagate in video:   0%|          | 0/1 [00:00<?, ?it/s]\n"
     ]
    },
    {
     "name": "stdout",
     "output_type": "stream",
     "text": [
      "Frame processed in 1.62s\n",
      "\n",
      "--- Processing frame 649 ---\n"
     ]
    },
    {
     "name": "stderr",
     "output_type": "stream",
     "text": [
      "frame loading (JPEG): 100%|██████████| 1/1 [00:00<00:00, 23.42it/s]\n",
      "propagate in video:   0%|          | 0/1 [00:00<?, ?it/s]\n"
     ]
    },
    {
     "name": "stdout",
     "output_type": "stream",
     "text": [
      "Frame processed in 1.51s\n",
      "\n",
      "--- Processing frame 650 ---\n"
     ]
    },
    {
     "name": "stderr",
     "output_type": "stream",
     "text": [
      "frame loading (JPEG): 100%|██████████| 1/1 [00:00<00:00, 22.11it/s]\n",
      "propagate in video:   0%|          | 0/1 [00:00<?, ?it/s]\n"
     ]
    },
    {
     "name": "stdout",
     "output_type": "stream",
     "text": [
      "Frame processed in 1.49s\n",
      "\n",
      "--- Processing frame 651 ---\n"
     ]
    },
    {
     "name": "stderr",
     "output_type": "stream",
     "text": [
      "frame loading (JPEG): 100%|██████████| 1/1 [00:00<00:00, 24.74it/s]\n",
      "propagate in video:   0%|          | 0/1 [00:00<?, ?it/s]\n"
     ]
    },
    {
     "name": "stdout",
     "output_type": "stream",
     "text": [
      "Frame processed in 1.49s\n",
      "\n",
      "--- Processing frame 652 ---\n"
     ]
    },
    {
     "name": "stderr",
     "output_type": "stream",
     "text": [
      "frame loading (JPEG): 100%|██████████| 1/1 [00:00<00:00, 24.55it/s]\n",
      "propagate in video:   0%|          | 0/1 [00:00<?, ?it/s]\n"
     ]
    },
    {
     "name": "stdout",
     "output_type": "stream",
     "text": [
      "Frame processed in 1.49s\n",
      "\n",
      "--- Processing frame 653 ---\n"
     ]
    },
    {
     "name": "stderr",
     "output_type": "stream",
     "text": [
      "frame loading (JPEG): 100%|██████████| 1/1 [00:00<00:00, 24.99it/s]\n",
      "propagate in video:   0%|          | 0/1 [00:00<?, ?it/s]\n"
     ]
    },
    {
     "name": "stdout",
     "output_type": "stream",
     "text": [
      "Frame processed in 1.50s\n",
      "\n",
      "--- Processing frame 654 ---\n"
     ]
    },
    {
     "name": "stderr",
     "output_type": "stream",
     "text": [
      "frame loading (JPEG): 100%|██████████| 1/1 [00:00<00:00, 23.79it/s]\n",
      "propagate in video:   0%|          | 0/1 [00:00<?, ?it/s]\n"
     ]
    },
    {
     "name": "stdout",
     "output_type": "stream",
     "text": [
      "Frame processed in 1.48s\n",
      "\n",
      "--- Processing frame 655 ---\n"
     ]
    },
    {
     "name": "stderr",
     "output_type": "stream",
     "text": [
      "frame loading (JPEG): 100%|██████████| 1/1 [00:00<00:00, 21.98it/s]\n",
      "propagate in video:   0%|          | 0/1 [00:00<?, ?it/s]\n"
     ]
    },
    {
     "name": "stdout",
     "output_type": "stream",
     "text": [
      "Frame processed in 1.51s\n",
      "\n",
      "--- Processing frame 656 ---\n"
     ]
    },
    {
     "name": "stderr",
     "output_type": "stream",
     "text": [
      "frame loading (JPEG): 100%|██████████| 1/1 [00:00<00:00, 23.03it/s]\n",
      "propagate in video:   0%|          | 0/1 [00:00<?, ?it/s]\n"
     ]
    },
    {
     "name": "stdout",
     "output_type": "stream",
     "text": [
      "Frame processed in 1.54s\n",
      "\n",
      "--- Processing frame 657 ---\n"
     ]
    },
    {
     "name": "stderr",
     "output_type": "stream",
     "text": [
      "frame loading (JPEG): 100%|██████████| 1/1 [00:00<00:00, 23.71it/s]\n",
      "propagate in video:   0%|          | 0/1 [00:00<?, ?it/s]\n"
     ]
    },
    {
     "name": "stdout",
     "output_type": "stream",
     "text": [
      "Frame processed in 1.46s\n",
      "\n",
      "--- Processing frame 658 ---\n"
     ]
    },
    {
     "name": "stderr",
     "output_type": "stream",
     "text": [
      "frame loading (JPEG): 100%|██████████| 1/1 [00:00<00:00, 22.70it/s]\n",
      "propagate in video:   0%|          | 0/1 [00:00<?, ?it/s]\n"
     ]
    },
    {
     "name": "stdout",
     "output_type": "stream",
     "text": [
      "Frame processed in 1.54s\n",
      "\n",
      "--- Processing frame 659 ---\n"
     ]
    },
    {
     "name": "stderr",
     "output_type": "stream",
     "text": [
      "frame loading (JPEG): 100%|██████████| 1/1 [00:00<00:00, 22.35it/s]\n",
      "propagate in video:   0%|          | 0/1 [00:00<?, ?it/s]\n"
     ]
    },
    {
     "name": "stdout",
     "output_type": "stream",
     "text": [
      "Frame processed in 1.52s\n",
      "\n",
      "--- Processing frame 660 ---\n"
     ]
    },
    {
     "name": "stderr",
     "output_type": "stream",
     "text": [
      "frame loading (JPEG): 100%|██████████| 1/1 [00:00<00:00, 20.14it/s]\n",
      "propagate in video:   0%|          | 0/1 [00:00<?, ?it/s]\n",
      "FutureWarning: The `device` argument is deprecated and will be removed in v5 of Transformers.\n",
      "UserWarning: torch.utils.checkpoint: the use_reentrant parameter should be passed explicitly. In version 2.5 we will raise an exception if use_reentrant is not passed. use_reentrant=False is recommended, but if you need to preserve the current default behavior, you can pass use_reentrant=True. Refer to docs for more details on the differences between the two variants.\n",
      "UserWarning: None of the inputs have requires_grad=True. Gradients will be None\n"
     ]
    },
    {
     "name": "stdout",
     "output_type": "stream",
     "text": [
      "Analysis with Grounding Dino\n"
     ]
    },
    {
     "name": "stderr",
     "output_type": "stream",
     "text": [
      "FutureWarning: `torch.cuda.amp.autocast(args...)` is deprecated. Please use `torch.amp.autocast('cuda', args...)` instead.\n"
     ]
    },
    {
     "name": "stdout",
     "output_type": "stream",
     "text": [
      "['object', 'object', 'object'] tensor([0.6187, 0.4430, 0.2289])\n",
      "Frame processed in 1.98s\n",
      "\n",
      "--- Processing frame 661 ---\n"
     ]
    },
    {
     "name": "stderr",
     "output_type": "stream",
     "text": [
      "frame loading (JPEG): 100%|██████████| 1/1 [00:00<00:00, 22.25it/s]\n",
      "propagate in video:   0%|          | 0/1 [00:00<?, ?it/s]\n"
     ]
    },
    {
     "name": "stdout",
     "output_type": "stream",
     "text": [
      "Frame processed in 1.47s\n",
      "\n",
      "--- Processing frame 662 ---\n"
     ]
    },
    {
     "name": "stderr",
     "output_type": "stream",
     "text": [
      "frame loading (JPEG): 100%|██████████| 1/1 [00:00<00:00, 21.94it/s]\n",
      "propagate in video:   0%|          | 0/1 [00:00<?, ?it/s]\n"
     ]
    },
    {
     "name": "stdout",
     "output_type": "stream",
     "text": [
      "Frame processed in 1.47s\n",
      "\n",
      "--- Processing frame 663 ---\n"
     ]
    },
    {
     "name": "stderr",
     "output_type": "stream",
     "text": [
      "frame loading (JPEG): 100%|██████████| 1/1 [00:00<00:00, 16.27it/s]\n",
      "propagate in video:   0%|          | 0/1 [00:00<?, ?it/s]\n"
     ]
    },
    {
     "name": "stdout",
     "output_type": "stream",
     "text": [
      "Frame processed in 1.61s\n",
      "\n",
      "--- Processing frame 664 ---\n"
     ]
    },
    {
     "name": "stderr",
     "output_type": "stream",
     "text": [
      "frame loading (JPEG): 100%|██████████| 1/1 [00:00<00:00, 21.04it/s]\n",
      "propagate in video:   0%|          | 0/1 [00:00<?, ?it/s]\n"
     ]
    },
    {
     "name": "stdout",
     "output_type": "stream",
     "text": [
      "Frame processed in 1.59s\n",
      "\n",
      "--- Processing frame 665 ---\n"
     ]
    },
    {
     "name": "stderr",
     "output_type": "stream",
     "text": [
      "frame loading (JPEG): 100%|██████████| 1/1 [00:00<00:00, 25.80it/s]\n",
      "propagate in video:   0%|          | 0/1 [00:00<?, ?it/s]\n"
     ]
    },
    {
     "name": "stdout",
     "output_type": "stream",
     "text": [
      "Frame processed in 1.48s\n",
      "\n",
      "--- Processing frame 666 ---\n"
     ]
    },
    {
     "name": "stderr",
     "output_type": "stream",
     "text": [
      "frame loading (JPEG): 100%|██████████| 1/1 [00:00<00:00, 20.94it/s]\n",
      "propagate in video:   0%|          | 0/1 [00:00<?, ?it/s]\n"
     ]
    },
    {
     "name": "stdout",
     "output_type": "stream",
     "text": [
      "Frame processed in 1.51s\n",
      "\n",
      "--- Processing frame 667 ---\n"
     ]
    },
    {
     "name": "stderr",
     "output_type": "stream",
     "text": [
      "frame loading (JPEG): 100%|██████████| 1/1 [00:00<00:00, 19.94it/s]\n",
      "propagate in video:   0%|          | 0/1 [00:00<?, ?it/s]\n"
     ]
    },
    {
     "name": "stdout",
     "output_type": "stream",
     "text": [
      "Frame processed in 1.51s\n",
      "\n",
      "--- Processing frame 668 ---\n"
     ]
    },
    {
     "name": "stderr",
     "output_type": "stream",
     "text": [
      "frame loading (JPEG): 100%|██████████| 1/1 [00:00<00:00, 23.54it/s]\n",
      "propagate in video:   0%|          | 0/1 [00:00<?, ?it/s]\n"
     ]
    },
    {
     "name": "stdout",
     "output_type": "stream",
     "text": [
      "Frame processed in 1.47s\n",
      "\n",
      "--- Processing frame 669 ---\n"
     ]
    },
    {
     "name": "stderr",
     "output_type": "stream",
     "text": [
      "frame loading (JPEG): 100%|██████████| 1/1 [00:00<00:00, 22.17it/s]\n",
      "propagate in video:   0%|          | 0/1 [00:00<?, ?it/s]\n"
     ]
    },
    {
     "name": "stdout",
     "output_type": "stream",
     "text": [
      "Frame processed in 1.49s\n",
      "\n",
      "--- Processing frame 670 ---\n"
     ]
    },
    {
     "name": "stderr",
     "output_type": "stream",
     "text": [
      "frame loading (JPEG): 100%|██████████| 1/1 [00:00<00:00, 25.24it/s]\n",
      "propagate in video:   0%|          | 0/1 [00:00<?, ?it/s]\n"
     ]
    },
    {
     "name": "stdout",
     "output_type": "stream",
     "text": [
      "Frame processed in 1.47s\n",
      "\n",
      "--- Processing frame 671 ---\n"
     ]
    },
    {
     "name": "stderr",
     "output_type": "stream",
     "text": [
      "frame loading (JPEG): 100%|██████████| 1/1 [00:00<00:00, 20.95it/s]\n",
      "propagate in video:   0%|          | 0/1 [00:00<?, ?it/s]\n"
     ]
    },
    {
     "name": "stdout",
     "output_type": "stream",
     "text": [
      "Frame processed in 1.50s\n",
      "\n",
      "--- Processing frame 672 ---\n"
     ]
    },
    {
     "name": "stderr",
     "output_type": "stream",
     "text": [
      "frame loading (JPEG): 100%|██████████| 1/1 [00:00<00:00, 24.80it/s]\n",
      "propagate in video:   0%|          | 0/1 [00:00<?, ?it/s]\n"
     ]
    },
    {
     "name": "stdout",
     "output_type": "stream",
     "text": [
      "Frame processed in 1.50s\n",
      "\n",
      "--- Processing frame 673 ---\n"
     ]
    },
    {
     "name": "stderr",
     "output_type": "stream",
     "text": [
      "frame loading (JPEG): 100%|██████████| 1/1 [00:00<00:00, 19.89it/s]\n",
      "propagate in video:   0%|          | 0/1 [00:00<?, ?it/s]\n"
     ]
    },
    {
     "name": "stdout",
     "output_type": "stream",
     "text": [
      "Frame processed in 1.56s\n",
      "\n",
      "--- Processing frame 674 ---\n"
     ]
    },
    {
     "name": "stderr",
     "output_type": "stream",
     "text": [
      "frame loading (JPEG): 100%|██████████| 1/1 [00:00<00:00, 17.70it/s]\n",
      "propagate in video:   0%|          | 0/1 [00:00<?, ?it/s]\n"
     ]
    },
    {
     "name": "stdout",
     "output_type": "stream",
     "text": [
      "Frame processed in 1.54s\n",
      "\n",
      "--- Processing frame 675 ---\n"
     ]
    },
    {
     "name": "stderr",
     "output_type": "stream",
     "text": [
      "frame loading (JPEG): 100%|██████████| 1/1 [00:00<00:00, 20.71it/s]\n",
      "propagate in video:   0%|          | 0/1 [00:00<?, ?it/s]\n",
      "FutureWarning: The `device` argument is deprecated and will be removed in v5 of Transformers.\n",
      "UserWarning: torch.utils.checkpoint: the use_reentrant parameter should be passed explicitly. In version 2.5 we will raise an exception if use_reentrant is not passed. use_reentrant=False is recommended, but if you need to preserve the current default behavior, you can pass use_reentrant=True. Refer to docs for more details on the differences between the two variants.\n",
      "UserWarning: None of the inputs have requires_grad=True. Gradients will be None\n"
     ]
    },
    {
     "name": "stdout",
     "output_type": "stream",
     "text": [
      "Analysis with Grounding Dino\n"
     ]
    },
    {
     "name": "stderr",
     "output_type": "stream",
     "text": [
      "FutureWarning: `torch.cuda.amp.autocast(args...)` is deprecated. Please use `torch.amp.autocast('cuda', args...)` instead.\n"
     ]
    },
    {
     "name": "stdout",
     "output_type": "stream",
     "text": [
      "['object', 'object', 'object'] tensor([0.5532, 0.4085, 0.2599])\n",
      "Frame processed in 2.01s\n",
      "\n",
      "--- Processing frame 676 ---\n"
     ]
    },
    {
     "name": "stderr",
     "output_type": "stream",
     "text": [
      "frame loading (JPEG): 100%|██████████| 1/1 [00:00<00:00, 15.15it/s]\n",
      "propagate in video:   0%|          | 0/1 [00:00<?, ?it/s]\n"
     ]
    },
    {
     "name": "stdout",
     "output_type": "stream",
     "text": [
      "Frame processed in 1.66s\n",
      "\n",
      "--- Processing frame 677 ---\n"
     ]
    },
    {
     "name": "stderr",
     "output_type": "stream",
     "text": [
      "frame loading (JPEG): 100%|██████████| 1/1 [00:00<00:00, 20.86it/s]\n",
      "propagate in video:   0%|          | 0/1 [00:00<?, ?it/s]\n"
     ]
    },
    {
     "name": "stdout",
     "output_type": "stream",
     "text": [
      "Frame processed in 1.61s\n",
      "\n",
      "--- Processing frame 678 ---\n"
     ]
    },
    {
     "name": "stderr",
     "output_type": "stream",
     "text": [
      "frame loading (JPEG): 100%|██████████| 1/1 [00:00<00:00, 23.13it/s]\n",
      "propagate in video:   0%|          | 0/1 [00:00<?, ?it/s]\n"
     ]
    },
    {
     "name": "stdout",
     "output_type": "stream",
     "text": [
      "Frame processed in 1.51s\n",
      "\n",
      "--- Processing frame 679 ---\n"
     ]
    },
    {
     "name": "stderr",
     "output_type": "stream",
     "text": [
      "frame loading (JPEG): 100%|██████████| 1/1 [00:00<00:00, 16.26it/s]\n",
      "propagate in video:   0%|          | 0/1 [00:00<?, ?it/s]\n"
     ]
    },
    {
     "name": "stdout",
     "output_type": "stream",
     "text": [
      "Frame processed in 1.57s\n",
      "\n",
      "--- Processing frame 680 ---\n"
     ]
    },
    {
     "name": "stderr",
     "output_type": "stream",
     "text": [
      "frame loading (JPEG): 100%|██████████| 1/1 [00:00<00:00, 22.55it/s]\n",
      "propagate in video:   0%|          | 0/1 [00:00<?, ?it/s]\n"
     ]
    },
    {
     "name": "stdout",
     "output_type": "stream",
     "text": [
      "Frame processed in 1.54s\n",
      "\n",
      "--- Processing frame 681 ---\n"
     ]
    },
    {
     "name": "stderr",
     "output_type": "stream",
     "text": [
      "frame loading (JPEG): 100%|██████████| 1/1 [00:00<00:00, 23.15it/s]\n",
      "propagate in video:   0%|          | 0/1 [00:00<?, ?it/s]\n"
     ]
    },
    {
     "name": "stdout",
     "output_type": "stream",
     "text": [
      "Frame processed in 1.52s\n",
      "\n",
      "--- Processing frame 682 ---\n"
     ]
    },
    {
     "name": "stderr",
     "output_type": "stream",
     "text": [
      "frame loading (JPEG): 100%|██████████| 1/1 [00:00<00:00, 23.86it/s]\n",
      "propagate in video:   0%|          | 0/1 [00:00<?, ?it/s]\n"
     ]
    },
    {
     "name": "stdout",
     "output_type": "stream",
     "text": [
      "Frame processed in 1.53s\n",
      "\n",
      "--- Processing frame 683 ---\n"
     ]
    },
    {
     "name": "stderr",
     "output_type": "stream",
     "text": [
      "frame loading (JPEG): 100%|██████████| 1/1 [00:00<00:00, 21.48it/s]\n",
      "propagate in video:   0%|          | 0/1 [00:00<?, ?it/s]\n"
     ]
    },
    {
     "name": "stdout",
     "output_type": "stream",
     "text": [
      "Frame processed in 1.53s\n",
      "\n",
      "--- Processing frame 684 ---\n"
     ]
    },
    {
     "name": "stderr",
     "output_type": "stream",
     "text": [
      "frame loading (JPEG): 100%|██████████| 1/1 [00:00<00:00, 24.82it/s]\n",
      "propagate in video:   0%|          | 0/1 [00:00<?, ?it/s]\n"
     ]
    },
    {
     "name": "stdout",
     "output_type": "stream",
     "text": [
      "Frame processed in 1.50s\n",
      "\n",
      "--- Processing frame 685 ---\n"
     ]
    },
    {
     "name": "stderr",
     "output_type": "stream",
     "text": [
      "frame loading (JPEG): 100%|██████████| 1/1 [00:00<00:00, 23.17it/s]\n",
      "propagate in video:   0%|          | 0/1 [00:00<?, ?it/s]\n"
     ]
    },
    {
     "name": "stdout",
     "output_type": "stream",
     "text": [
      "Frame processed in 1.54s\n",
      "\n",
      "--- Processing frame 686 ---\n"
     ]
    },
    {
     "name": "stderr",
     "output_type": "stream",
     "text": [
      "frame loading (JPEG): 100%|██████████| 1/1 [00:00<00:00, 20.36it/s]\n",
      "propagate in video:   0%|          | 0/1 [00:00<?, ?it/s]\n"
     ]
    },
    {
     "name": "stdout",
     "output_type": "stream",
     "text": [
      "Frame processed in 1.56s\n",
      "\n",
      "--- Processing frame 687 ---\n"
     ]
    },
    {
     "name": "stderr",
     "output_type": "stream",
     "text": [
      "frame loading (JPEG): 100%|██████████| 1/1 [00:00<00:00, 20.87it/s]\n",
      "propagate in video:   0%|          | 0/1 [00:00<?, ?it/s]\n"
     ]
    },
    {
     "name": "stdout",
     "output_type": "stream",
     "text": [
      "Frame processed in 1.56s\n",
      "\n",
      "--- Processing frame 688 ---\n"
     ]
    },
    {
     "name": "stderr",
     "output_type": "stream",
     "text": [
      "frame loading (JPEG): 100%|██████████| 1/1 [00:00<00:00, 23.20it/s]\n",
      "propagate in video:   0%|          | 0/1 [00:00<?, ?it/s]\n"
     ]
    },
    {
     "name": "stdout",
     "output_type": "stream",
     "text": [
      "Frame processed in 1.63s\n",
      "\n",
      "--- Processing frame 689 ---\n"
     ]
    },
    {
     "name": "stderr",
     "output_type": "stream",
     "text": [
      "frame loading (JPEG): 100%|██████████| 1/1 [00:00<00:00, 21.40it/s]\n",
      "propagate in video:   0%|          | 0/1 [00:00<?, ?it/s]\n"
     ]
    },
    {
     "name": "stdout",
     "output_type": "stream",
     "text": [
      "Frame processed in 1.61s\n",
      "\n",
      "--- Processing frame 690 ---\n"
     ]
    },
    {
     "name": "stderr",
     "output_type": "stream",
     "text": [
      "frame loading (JPEG): 100%|██████████| 1/1 [00:00<00:00, 23.13it/s]\n",
      "propagate in video:   0%|          | 0/1 [00:00<?, ?it/s]\n",
      "FutureWarning: The `device` argument is deprecated and will be removed in v5 of Transformers.\n",
      "UserWarning: torch.utils.checkpoint: the use_reentrant parameter should be passed explicitly. In version 2.5 we will raise an exception if use_reentrant is not passed. use_reentrant=False is recommended, but if you need to preserve the current default behavior, you can pass use_reentrant=True. Refer to docs for more details on the differences between the two variants.\n",
      "UserWarning: None of the inputs have requires_grad=True. Gradients will be None\n"
     ]
    },
    {
     "name": "stdout",
     "output_type": "stream",
     "text": [
      "Analysis with Grounding Dino\n"
     ]
    },
    {
     "name": "stderr",
     "output_type": "stream",
     "text": [
      "FutureWarning: `torch.cuda.amp.autocast(args...)` is deprecated. Please use `torch.amp.autocast('cuda', args...)` instead.\n"
     ]
    },
    {
     "name": "stdout",
     "output_type": "stream",
     "text": [
      "['object', 'object', 'object', 'object', 'object'] tensor([0.5159, 0.3349, 0.2520, 0.2444, 0.2648])\n",
      "Frame processed in 2.01s\n",
      "\n",
      "--- Processing frame 691 ---\n"
     ]
    },
    {
     "name": "stderr",
     "output_type": "stream",
     "text": [
      "frame loading (JPEG): 100%|██████████| 1/1 [00:00<00:00, 25.09it/s]\n",
      "propagate in video:   0%|          | 0/1 [00:00<?, ?it/s]\n"
     ]
    },
    {
     "name": "stdout",
     "output_type": "stream",
     "text": [
      "Frame processed in 1.59s\n",
      "\n",
      "--- Processing frame 692 ---\n"
     ]
    },
    {
     "name": "stderr",
     "output_type": "stream",
     "text": [
      "frame loading (JPEG): 100%|██████████| 1/1 [00:00<00:00, 24.54it/s]\n",
      "propagate in video:   0%|          | 0/1 [00:00<?, ?it/s]\n"
     ]
    },
    {
     "name": "stdout",
     "output_type": "stream",
     "text": [
      "Frame processed in 1.52s\n",
      "\n",
      "--- Processing frame 693 ---\n"
     ]
    },
    {
     "name": "stderr",
     "output_type": "stream",
     "text": [
      "frame loading (JPEG): 100%|██████████| 1/1 [00:00<00:00, 23.94it/s]\n",
      "propagate in video:   0%|          | 0/1 [00:00<?, ?it/s]\n"
     ]
    },
    {
     "name": "stdout",
     "output_type": "stream",
     "text": [
      "Frame processed in 1.49s\n",
      "\n",
      "--- Processing frame 694 ---\n"
     ]
    },
    {
     "name": "stderr",
     "output_type": "stream",
     "text": [
      "frame loading (JPEG): 100%|██████████| 1/1 [00:00<00:00, 21.52it/s]\n",
      "propagate in video:   0%|          | 0/1 [00:00<?, ?it/s]\n"
     ]
    },
    {
     "name": "stdout",
     "output_type": "stream",
     "text": [
      "Frame processed in 1.50s\n",
      "\n",
      "--- Processing frame 695 ---\n"
     ]
    },
    {
     "name": "stderr",
     "output_type": "stream",
     "text": [
      "frame loading (JPEG): 100%|██████████| 1/1 [00:00<00:00, 20.12it/s]\n",
      "propagate in video:   0%|          | 0/1 [00:00<?, ?it/s]\n"
     ]
    },
    {
     "name": "stdout",
     "output_type": "stream",
     "text": [
      "Frame processed in 1.52s\n",
      "\n",
      "--- Processing frame 696 ---\n"
     ]
    },
    {
     "name": "stderr",
     "output_type": "stream",
     "text": [
      "frame loading (JPEG): 100%|██████████| 1/1 [00:00<00:00, 24.33it/s]\n",
      "propagate in video:   0%|          | 0/1 [00:00<?, ?it/s]\n"
     ]
    },
    {
     "name": "stdout",
     "output_type": "stream",
     "text": [
      "Frame processed in 1.53s\n",
      "\n",
      "--- Processing frame 697 ---\n"
     ]
    },
    {
     "name": "stderr",
     "output_type": "stream",
     "text": [
      "frame loading (JPEG): 100%|██████████| 1/1 [00:00<00:00, 23.58it/s]\n",
      "propagate in video:   0%|          | 0/1 [00:00<?, ?it/s]\n"
     ]
    },
    {
     "name": "stdout",
     "output_type": "stream",
     "text": [
      "Frame processed in 1.53s\n",
      "\n",
      "--- Processing frame 698 ---\n"
     ]
    },
    {
     "name": "stderr",
     "output_type": "stream",
     "text": [
      "frame loading (JPEG): 100%|██████████| 1/1 [00:00<00:00, 22.98it/s]\n",
      "propagate in video:   0%|          | 0/1 [00:00<?, ?it/s]\n"
     ]
    },
    {
     "name": "stdout",
     "output_type": "stream",
     "text": [
      "Frame processed in 1.56s\n",
      "\n",
      "--- Processing frame 699 ---\n"
     ]
    },
    {
     "name": "stderr",
     "output_type": "stream",
     "text": [
      "frame loading (JPEG): 100%|██████████| 1/1 [00:00<00:00, 20.46it/s]\n",
      "propagate in video:   0%|          | 0/1 [00:00<?, ?it/s]\n"
     ]
    },
    {
     "name": "stdout",
     "output_type": "stream",
     "text": [
      "Frame processed in 1.55s\n",
      "\n",
      "--- Processing frame 700 ---\n"
     ]
    },
    {
     "name": "stderr",
     "output_type": "stream",
     "text": [
      "frame loading (JPEG): 100%|██████████| 1/1 [00:00<00:00, 14.08it/s]\n",
      "propagate in video:   0%|          | 0/1 [00:00<?, ?it/s]\n"
     ]
    },
    {
     "name": "stdout",
     "output_type": "stream",
     "text": [
      "Frame processed in 1.59s\n",
      "\n",
      "--- Processing frame 701 ---\n"
     ]
    },
    {
     "name": "stderr",
     "output_type": "stream",
     "text": [
      "frame loading (JPEG): 100%|██████████| 1/1 [00:00<00:00, 20.61it/s]\n",
      "propagate in video:   0%|          | 0/1 [00:00<?, ?it/s]\n"
     ]
    },
    {
     "name": "stdout",
     "output_type": "stream",
     "text": [
      "Frame processed in 1.55s\n",
      "\n",
      "--- Processing frame 702 ---\n"
     ]
    },
    {
     "name": "stderr",
     "output_type": "stream",
     "text": [
      "frame loading (JPEG): 100%|██████████| 1/1 [00:00<00:00, 23.66it/s]\n",
      "propagate in video:   0%|          | 0/1 [00:00<?, ?it/s]\n"
     ]
    },
    {
     "name": "stdout",
     "output_type": "stream",
     "text": [
      "Frame processed in 1.66s\n",
      "\n",
      "--- Processing frame 703 ---\n"
     ]
    },
    {
     "name": "stderr",
     "output_type": "stream",
     "text": [
      "frame loading (JPEG): 100%|██████████| 1/1 [00:00<00:00, 23.80it/s]\n",
      "propagate in video:   0%|          | 0/1 [00:00<?, ?it/s]\n"
     ]
    },
    {
     "name": "stdout",
     "output_type": "stream",
     "text": [
      "Frame processed in 1.51s\n",
      "\n",
      "--- Processing frame 704 ---\n"
     ]
    },
    {
     "name": "stderr",
     "output_type": "stream",
     "text": [
      "frame loading (JPEG): 100%|██████████| 1/1 [00:00<00:00, 23.65it/s]\n",
      "propagate in video:   0%|          | 0/1 [00:00<?, ?it/s]\n"
     ]
    },
    {
     "name": "stdout",
     "output_type": "stream",
     "text": [
      "Frame processed in 1.57s\n",
      "\n",
      "--- Processing frame 705 ---\n"
     ]
    },
    {
     "name": "stderr",
     "output_type": "stream",
     "text": [
      "frame loading (JPEG): 100%|██████████| 1/1 [00:00<00:00, 19.28it/s]\n",
      "propagate in video:   0%|          | 0/1 [00:00<?, ?it/s]\n",
      "FutureWarning: The `device` argument is deprecated and will be removed in v5 of Transformers.\n",
      "UserWarning: torch.utils.checkpoint: the use_reentrant parameter should be passed explicitly. In version 2.5 we will raise an exception if use_reentrant is not passed. use_reentrant=False is recommended, but if you need to preserve the current default behavior, you can pass use_reentrant=True. Refer to docs for more details on the differences between the two variants.\n",
      "UserWarning: None of the inputs have requires_grad=True. Gradients will be None\n"
     ]
    },
    {
     "name": "stdout",
     "output_type": "stream",
     "text": [
      "Analysis with Grounding Dino\n"
     ]
    },
    {
     "name": "stderr",
     "output_type": "stream",
     "text": [
      "FutureWarning: `torch.cuda.amp.autocast(args...)` is deprecated. Please use `torch.amp.autocast('cuda', args...)` instead.\n"
     ]
    },
    {
     "name": "stdout",
     "output_type": "stream",
     "text": [
      "['object', 'object', 'object', 'object'] tensor([0.5599, 0.3841, 0.2842, 0.2351])\n",
      "Frame processed in 2.19s\n",
      "\n",
      "--- Processing frame 706 ---\n"
     ]
    },
    {
     "name": "stderr",
     "output_type": "stream",
     "text": [
      "frame loading (JPEG): 100%|██████████| 1/1 [00:00<00:00, 22.09it/s]\n",
      "propagate in video:   0%|          | 0/1 [00:00<?, ?it/s]\n"
     ]
    },
    {
     "name": "stdout",
     "output_type": "stream",
     "text": [
      "Frame processed in 1.72s\n",
      "\n",
      "--- Processing frame 707 ---\n"
     ]
    },
    {
     "name": "stderr",
     "output_type": "stream",
     "text": [
      "frame loading (JPEG): 100%|██████████| 1/1 [00:00<00:00, 21.96it/s]\n",
      "propagate in video:   0%|          | 0/1 [00:00<?, ?it/s]\n"
     ]
    },
    {
     "name": "stdout",
     "output_type": "stream",
     "text": [
      "Frame processed in 1.56s\n",
      "\n",
      "--- Processing frame 708 ---\n"
     ]
    },
    {
     "name": "stderr",
     "output_type": "stream",
     "text": [
      "frame loading (JPEG): 100%|██████████| 1/1 [00:00<00:00, 24.56it/s]\n",
      "propagate in video:   0%|          | 0/1 [00:00<?, ?it/s]\n"
     ]
    },
    {
     "name": "stdout",
     "output_type": "stream",
     "text": [
      "Frame processed in 1.53s\n",
      "\n",
      "--- Processing frame 709 ---\n"
     ]
    },
    {
     "name": "stderr",
     "output_type": "stream",
     "text": [
      "frame loading (JPEG): 100%|██████████| 1/1 [00:00<00:00, 24.24it/s]\n",
      "propagate in video:   0%|          | 0/1 [00:00<?, ?it/s]\n"
     ]
    },
    {
     "name": "stdout",
     "output_type": "stream",
     "text": [
      "Frame processed in 1.56s\n",
      "\n",
      "--- Processing frame 710 ---\n"
     ]
    },
    {
     "name": "stderr",
     "output_type": "stream",
     "text": [
      "frame loading (JPEG): 100%|██████████| 1/1 [00:00<00:00, 24.68it/s]\n",
      "propagate in video:   0%|          | 0/1 [00:00<?, ?it/s]\n"
     ]
    },
    {
     "name": "stdout",
     "output_type": "stream",
     "text": [
      "Frame processed in 1.56s\n",
      "\n",
      "--- Processing frame 711 ---\n"
     ]
    },
    {
     "name": "stderr",
     "output_type": "stream",
     "text": [
      "frame loading (JPEG): 100%|██████████| 1/1 [00:00<00:00, 24.35it/s]\n",
      "propagate in video:   0%|          | 0/1 [00:00<?, ?it/s]\n"
     ]
    },
    {
     "name": "stdout",
     "output_type": "stream",
     "text": [
      "Frame processed in 1.52s\n",
      "\n",
      "--- Processing frame 712 ---\n"
     ]
    },
    {
     "name": "stderr",
     "output_type": "stream",
     "text": [
      "frame loading (JPEG): 100%|██████████| 1/1 [00:00<00:00, 24.20it/s]\n",
      "propagate in video:   0%|          | 0/1 [00:00<?, ?it/s]\n"
     ]
    },
    {
     "name": "stdout",
     "output_type": "stream",
     "text": [
      "Frame processed in 1.56s\n",
      "\n",
      "--- Processing frame 713 ---\n"
     ]
    },
    {
     "name": "stderr",
     "output_type": "stream",
     "text": [
      "frame loading (JPEG): 100%|██████████| 1/1 [00:00<00:00, 19.32it/s]\n",
      "propagate in video:   0%|          | 0/1 [00:00<?, ?it/s]\n"
     ]
    },
    {
     "name": "stdout",
     "output_type": "stream",
     "text": [
      "Frame processed in 1.56s\n",
      "\n",
      "--- Processing frame 714 ---\n"
     ]
    },
    {
     "name": "stderr",
     "output_type": "stream",
     "text": [
      "frame loading (JPEG): 100%|██████████| 1/1 [00:00<00:00, 22.49it/s]\n",
      "propagate in video:   0%|          | 0/1 [00:00<?, ?it/s]\n"
     ]
    },
    {
     "name": "stdout",
     "output_type": "stream",
     "text": [
      "Frame processed in 1.53s\n",
      "\n",
      "--- Processing frame 715 ---\n"
     ]
    },
    {
     "name": "stderr",
     "output_type": "stream",
     "text": [
      "frame loading (JPEG): 100%|██████████| 1/1 [00:00<00:00, 20.60it/s]\n",
      "propagate in video:   0%|          | 0/1 [00:00<?, ?it/s]\n"
     ]
    },
    {
     "name": "stdout",
     "output_type": "stream",
     "text": [
      "Frame processed in 1.54s\n",
      "\n",
      "--- Processing frame 716 ---\n"
     ]
    },
    {
     "name": "stderr",
     "output_type": "stream",
     "text": [
      "frame loading (JPEG): 100%|██████████| 1/1 [00:00<00:00, 15.27it/s]\n",
      "propagate in video:   0%|          | 0/1 [00:00<?, ?it/s]\n"
     ]
    },
    {
     "name": "stdout",
     "output_type": "stream",
     "text": [
      "Frame processed in 1.72s\n",
      "\n",
      "--- Processing frame 717 ---\n"
     ]
    },
    {
     "name": "stderr",
     "output_type": "stream",
     "text": [
      "frame loading (JPEG): 100%|██████████| 1/1 [00:00<00:00, 14.75it/s]\n",
      "propagate in video:   0%|          | 0/1 [00:00<?, ?it/s]\n"
     ]
    },
    {
     "name": "stdout",
     "output_type": "stream",
     "text": [
      "Frame processed in 1.70s\n",
      "\n",
      "--- Processing frame 718 ---\n"
     ]
    },
    {
     "name": "stderr",
     "output_type": "stream",
     "text": [
      "frame loading (JPEG): 100%|██████████| 1/1 [00:00<00:00, 19.29it/s]\n",
      "propagate in video:   0%|          | 0/1 [00:00<?, ?it/s]\n"
     ]
    },
    {
     "name": "stdout",
     "output_type": "stream",
     "text": [
      "Frame processed in 1.65s\n",
      "\n",
      "--- Processing frame 719 ---\n"
     ]
    },
    {
     "name": "stderr",
     "output_type": "stream",
     "text": [
      "frame loading (JPEG): 100%|██████████| 1/1 [00:00<00:00, 23.05it/s]\n",
      "propagate in video:   0%|          | 0/1 [00:00<?, ?it/s]\n"
     ]
    },
    {
     "name": "stdout",
     "output_type": "stream",
     "text": [
      "Frame processed in 1.63s\n",
      "\n",
      "--- Processing frame 720 ---\n"
     ]
    },
    {
     "name": "stderr",
     "output_type": "stream",
     "text": [
      "frame loading (JPEG): 100%|██████████| 1/1 [00:00<00:00, 20.45it/s]\n",
      "propagate in video:   0%|          | 0/1 [00:00<?, ?it/s]\n",
      "FutureWarning: The `device` argument is deprecated and will be removed in v5 of Transformers.\n",
      "UserWarning: torch.utils.checkpoint: the use_reentrant parameter should be passed explicitly. In version 2.5 we will raise an exception if use_reentrant is not passed. use_reentrant=False is recommended, but if you need to preserve the current default behavior, you can pass use_reentrant=True. Refer to docs for more details on the differences between the two variants.\n",
      "UserWarning: None of the inputs have requires_grad=True. Gradients will be None\n"
     ]
    },
    {
     "name": "stdout",
     "output_type": "stream",
     "text": [
      "Analysis with Grounding Dino\n"
     ]
    },
    {
     "name": "stderr",
     "output_type": "stream",
     "text": [
      "FutureWarning: `torch.cuda.amp.autocast(args...)` is deprecated. Please use `torch.amp.autocast('cuda', args...)` instead.\n"
     ]
    },
    {
     "name": "stdout",
     "output_type": "stream",
     "text": [
      "['object', 'object', 'object', 'object', 'object'] tensor([0.4471, 0.3059, 0.3125, 0.3328, 0.2241])\n",
      "New object 7 detected at frame 720\n"
     ]
    },
    {
     "name": "stderr",
     "output_type": "stream",
     "text": [
      "propagate in video:   0%|          | 0/1 [00:00<?, ?it/s]\n"
     ]
    },
    {
     "name": "stdout",
     "output_type": "stream",
     "text": [
      "Frame processed in 2.19s\n",
      "\n",
      "--- Processing frame 721 ---\n"
     ]
    },
    {
     "name": "stderr",
     "output_type": "stream",
     "text": [
      "frame loading (JPEG): 100%|██████████| 1/1 [00:00<00:00, 14.49it/s]\n",
      "propagate in video:   0%|          | 0/1 [00:00<?, ?it/s]\n"
     ]
    },
    {
     "name": "stdout",
     "output_type": "stream",
     "text": [
      "Frame processed in 1.78s\n",
      "\n",
      "--- Processing frame 722 ---\n"
     ]
    },
    {
     "name": "stderr",
     "output_type": "stream",
     "text": [
      "frame loading (JPEG): 100%|██████████| 1/1 [00:00<00:00, 23.38it/s]\n",
      "propagate in video:   0%|          | 0/1 [00:00<?, ?it/s]\n"
     ]
    },
    {
     "name": "stdout",
     "output_type": "stream",
     "text": [
      "Frame processed in 1.72s\n",
      "\n",
      "--- Processing frame 723 ---\n"
     ]
    },
    {
     "name": "stderr",
     "output_type": "stream",
     "text": [
      "frame loading (JPEG): 100%|██████████| 1/1 [00:00<00:00, 21.64it/s]\n",
      "propagate in video:   0%|          | 0/1 [00:00<?, ?it/s]\n"
     ]
    },
    {
     "name": "stdout",
     "output_type": "stream",
     "text": [
      "Frame processed in 1.75s\n",
      "\n",
      "--- Processing frame 724 ---\n"
     ]
    },
    {
     "name": "stderr",
     "output_type": "stream",
     "text": [
      "frame loading (JPEG): 100%|██████████| 1/1 [00:00<00:00, 19.37it/s]\n",
      "propagate in video:   0%|          | 0/1 [00:00<?, ?it/s]\n"
     ]
    },
    {
     "name": "stdout",
     "output_type": "stream",
     "text": [
      "Frame processed in 1.87s\n",
      "\n",
      "--- Processing frame 725 ---\n"
     ]
    },
    {
     "name": "stderr",
     "output_type": "stream",
     "text": [
      "frame loading (JPEG): 100%|██████████| 1/1 [00:00<00:00, 25.56it/s]\n",
      "propagate in video:   0%|          | 0/1 [00:00<?, ?it/s]\n"
     ]
    },
    {
     "name": "stdout",
     "output_type": "stream",
     "text": [
      "Frame processed in 1.78s\n",
      "\n",
      "--- Processing frame 726 ---\n"
     ]
    },
    {
     "name": "stderr",
     "output_type": "stream",
     "text": [
      "frame loading (JPEG): 100%|██████████| 1/1 [00:00<00:00, 23.82it/s]\n",
      "propagate in video:   0%|          | 0/1 [00:00<?, ?it/s]\n"
     ]
    },
    {
     "name": "stdout",
     "output_type": "stream",
     "text": [
      "Frame processed in 1.74s\n",
      "\n",
      "--- Processing frame 727 ---\n"
     ]
    },
    {
     "name": "stderr",
     "output_type": "stream",
     "text": [
      "frame loading (JPEG): 100%|██████████| 1/1 [00:00<00:00, 12.88it/s]\n",
      "propagate in video:   0%|          | 0/1 [00:00<?, ?it/s]\n"
     ]
    },
    {
     "name": "stdout",
     "output_type": "stream",
     "text": [
      "Frame processed in 1.77s\n",
      "\n",
      "--- Processing frame 728 ---\n"
     ]
    },
    {
     "name": "stderr",
     "output_type": "stream",
     "text": [
      "frame loading (JPEG): 100%|██████████| 1/1 [00:00<00:00, 18.46it/s]\n",
      "propagate in video:   0%|          | 0/1 [00:00<?, ?it/s]\n"
     ]
    },
    {
     "name": "stdout",
     "output_type": "stream",
     "text": [
      "Frame processed in 1.89s\n",
      "\n",
      "--- Processing frame 729 ---\n"
     ]
    },
    {
     "name": "stderr",
     "output_type": "stream",
     "text": [
      "frame loading (JPEG): 100%|██████████| 1/1 [00:00<00:00, 20.18it/s]\n",
      "propagate in video:   0%|          | 0/1 [00:00<?, ?it/s]\n"
     ]
    },
    {
     "name": "stdout",
     "output_type": "stream",
     "text": [
      "Frame processed in 1.79s\n",
      "\n",
      "--- Processing frame 730 ---\n"
     ]
    },
    {
     "name": "stderr",
     "output_type": "stream",
     "text": [
      "frame loading (JPEG): 100%|██████████| 1/1 [00:00<00:00, 19.91it/s]\n",
      "propagate in video:   0%|          | 0/1 [00:00<?, ?it/s]\n"
     ]
    },
    {
     "name": "stdout",
     "output_type": "stream",
     "text": [
      "Frame processed in 1.82s\n",
      "\n",
      "--- Processing frame 731 ---\n"
     ]
    },
    {
     "name": "stderr",
     "output_type": "stream",
     "text": [
      "frame loading (JPEG): 100%|██████████| 1/1 [00:00<00:00, 21.11it/s]\n",
      "propagate in video:   0%|          | 0/1 [00:00<?, ?it/s]\n"
     ]
    },
    {
     "name": "stdout",
     "output_type": "stream",
     "text": [
      "Frame processed in 1.83s\n",
      "\n",
      "--- Processing frame 732 ---\n"
     ]
    },
    {
     "name": "stderr",
     "output_type": "stream",
     "text": [
      "frame loading (JPEG): 100%|██████████| 1/1 [00:00<00:00, 19.54it/s]\n",
      "propagate in video:   0%|          | 0/1 [00:00<?, ?it/s]\n"
     ]
    },
    {
     "name": "stdout",
     "output_type": "stream",
     "text": [
      "Frame processed in 1.73s\n",
      "\n",
      "--- Processing frame 733 ---\n"
     ]
    },
    {
     "name": "stderr",
     "output_type": "stream",
     "text": [
      "frame loading (JPEG): 100%|██████████| 1/1 [00:00<00:00, 19.47it/s]\n",
      "propagate in video:   0%|          | 0/1 [00:00<?, ?it/s]\n"
     ]
    },
    {
     "name": "stdout",
     "output_type": "stream",
     "text": [
      "Frame processed in 1.71s\n",
      "\n",
      "--- Processing frame 734 ---\n"
     ]
    },
    {
     "name": "stderr",
     "output_type": "stream",
     "text": [
      "frame loading (JPEG): 100%|██████████| 1/1 [00:00<00:00, 21.00it/s]\n",
      "propagate in video:   0%|          | 0/1 [00:00<?, ?it/s]\n"
     ]
    },
    {
     "name": "stdout",
     "output_type": "stream",
     "text": [
      "Frame processed in 1.83s\n",
      "\n",
      "--- Processing frame 735 ---\n"
     ]
    },
    {
     "name": "stderr",
     "output_type": "stream",
     "text": [
      "frame loading (JPEG): 100%|██████████| 1/1 [00:00<00:00, 14.78it/s]\n",
      "propagate in video:   0%|          | 0/1 [00:00<?, ?it/s]\n",
      "FutureWarning: The `device` argument is deprecated and will be removed in v5 of Transformers.\n",
      "UserWarning: torch.utils.checkpoint: the use_reentrant parameter should be passed explicitly. In version 2.5 we will raise an exception if use_reentrant is not passed. use_reentrant=False is recommended, but if you need to preserve the current default behavior, you can pass use_reentrant=True. Refer to docs for more details on the differences between the two variants.\n",
      "UserWarning: None of the inputs have requires_grad=True. Gradients will be None\n"
     ]
    },
    {
     "name": "stdout",
     "output_type": "stream",
     "text": [
      "Analysis with Grounding Dino\n"
     ]
    },
    {
     "name": "stderr",
     "output_type": "stream",
     "text": [
      "FutureWarning: `torch.cuda.amp.autocast(args...)` is deprecated. Please use `torch.amp.autocast('cuda', args...)` instead.\n"
     ]
    },
    {
     "name": "stdout",
     "output_type": "stream",
     "text": [
      "['object', 'object'] tensor([0.5683, 0.3827])\n",
      "Frame processed in 2.42s\n",
      "\n",
      "--- Processing frame 736 ---\n"
     ]
    },
    {
     "name": "stderr",
     "output_type": "stream",
     "text": [
      "frame loading (JPEG): 100%|██████████| 1/1 [00:00<00:00, 20.98it/s]\n",
      "propagate in video:   0%|          | 0/1 [00:00<?, ?it/s]\n"
     ]
    },
    {
     "name": "stdout",
     "output_type": "stream",
     "text": [
      "Frame processed in 1.88s\n",
      "\n",
      "--- Processing frame 737 ---\n"
     ]
    },
    {
     "name": "stderr",
     "output_type": "stream",
     "text": [
      "frame loading (JPEG): 100%|██████████| 1/1 [00:00<00:00, 19.71it/s]\n",
      "propagate in video:   0%|          | 0/1 [00:00<?, ?it/s]\n"
     ]
    },
    {
     "name": "stdout",
     "output_type": "stream",
     "text": [
      "Frame processed in 1.68s\n",
      "\n",
      "--- Processing frame 738 ---\n"
     ]
    },
    {
     "name": "stderr",
     "output_type": "stream",
     "text": [
      "frame loading (JPEG): 100%|██████████| 1/1 [00:00<00:00, 20.02it/s]\n",
      "propagate in video:   0%|          | 0/1 [00:00<?, ?it/s]\n"
     ]
    },
    {
     "name": "stdout",
     "output_type": "stream",
     "text": [
      "Frame processed in 1.78s\n",
      "\n",
      "--- Processing frame 739 ---\n"
     ]
    },
    {
     "name": "stderr",
     "output_type": "stream",
     "text": [
      "frame loading (JPEG): 100%|██████████| 1/1 [00:00<00:00, 20.72it/s]\n",
      "propagate in video:   0%|          | 0/1 [00:00<?, ?it/s]\n"
     ]
    },
    {
     "name": "stdout",
     "output_type": "stream",
     "text": [
      "Frame processed in 1.70s\n",
      "\n",
      "--- Processing frame 740 ---\n"
     ]
    },
    {
     "name": "stderr",
     "output_type": "stream",
     "text": [
      "frame loading (JPEG): 100%|██████████| 1/1 [00:00<00:00, 24.11it/s]\n",
      "propagate in video:   0%|          | 0/1 [00:00<?, ?it/s]\n"
     ]
    },
    {
     "name": "stdout",
     "output_type": "stream",
     "text": [
      "Frame processed in 1.67s\n",
      "\n",
      "--- Processing frame 741 ---\n"
     ]
    },
    {
     "name": "stderr",
     "output_type": "stream",
     "text": [
      "frame loading (JPEG): 100%|██████████| 1/1 [00:00<00:00, 22.24it/s]\n",
      "propagate in video:   0%|          | 0/1 [00:00<?, ?it/s]\n"
     ]
    },
    {
     "name": "stdout",
     "output_type": "stream",
     "text": [
      "Frame processed in 1.84s\n",
      "\n",
      "--- Processing frame 742 ---\n"
     ]
    },
    {
     "name": "stderr",
     "output_type": "stream",
     "text": [
      "frame loading (JPEG): 100%|██████████| 1/1 [00:00<00:00, 21.70it/s]\n",
      "propagate in video:   0%|          | 0/1 [00:00<?, ?it/s]\n"
     ]
    },
    {
     "name": "stdout",
     "output_type": "stream",
     "text": [
      "Frame processed in 1.79s\n",
      "\n",
      "--- Processing frame 743 ---\n"
     ]
    },
    {
     "name": "stderr",
     "output_type": "stream",
     "text": [
      "frame loading (JPEG): 100%|██████████| 1/1 [00:00<00:00, 21.23it/s]\n",
      "propagate in video:   0%|          | 0/1 [00:00<?, ?it/s]\n"
     ]
    },
    {
     "name": "stdout",
     "output_type": "stream",
     "text": [
      "Frame processed in 1.72s\n",
      "\n",
      "--- Processing frame 744 ---\n"
     ]
    },
    {
     "name": "stderr",
     "output_type": "stream",
     "text": [
      "frame loading (JPEG): 100%|██████████| 1/1 [00:00<00:00, 19.77it/s]\n",
      "propagate in video:   0%|          | 0/1 [00:00<?, ?it/s]\n"
     ]
    },
    {
     "name": "stdout",
     "output_type": "stream",
     "text": [
      "Frame processed in 1.80s\n",
      "\n",
      "--- Processing frame 745 ---\n"
     ]
    },
    {
     "name": "stderr",
     "output_type": "stream",
     "text": [
      "frame loading (JPEG): 100%|██████████| 1/1 [00:00<00:00, 22.21it/s]\n",
      "propagate in video:   0%|          | 0/1 [00:00<?, ?it/s]\n"
     ]
    },
    {
     "name": "stdout",
     "output_type": "stream",
     "text": [
      "Frame processed in 1.78s\n",
      "\n",
      "--- Processing frame 746 ---\n"
     ]
    },
    {
     "name": "stderr",
     "output_type": "stream",
     "text": [
      "frame loading (JPEG): 100%|██████████| 1/1 [00:00<00:00, 14.87it/s]\n",
      "propagate in video:   0%|          | 0/1 [00:00<?, ?it/s]\n"
     ]
    },
    {
     "name": "stdout",
     "output_type": "stream",
     "text": [
      "Frame processed in 1.91s\n",
      "\n",
      "--- Processing frame 747 ---\n"
     ]
    },
    {
     "name": "stderr",
     "output_type": "stream",
     "text": [
      "frame loading (JPEG): 100%|██████████| 1/1 [00:00<00:00, 20.31it/s]\n",
      "propagate in video:   0%|          | 0/1 [00:00<?, ?it/s]\n"
     ]
    },
    {
     "name": "stdout",
     "output_type": "stream",
     "text": [
      "Frame processed in 1.82s\n",
      "\n",
      "--- Processing frame 748 ---\n"
     ]
    },
    {
     "name": "stderr",
     "output_type": "stream",
     "text": [
      "frame loading (JPEG): 100%|██████████| 1/1 [00:00<00:00, 24.06it/s]\n",
      "propagate in video:   0%|          | 0/1 [00:00<?, ?it/s]\n"
     ]
    },
    {
     "name": "stdout",
     "output_type": "stream",
     "text": [
      "Frame processed in 1.72s\n",
      "\n",
      "--- Processing frame 749 ---\n"
     ]
    },
    {
     "name": "stderr",
     "output_type": "stream",
     "text": [
      "frame loading (JPEG): 100%|██████████| 1/1 [00:00<00:00, 22.33it/s]\n",
      "propagate in video:   0%|          | 0/1 [00:00<?, ?it/s]\n"
     ]
    },
    {
     "name": "stdout",
     "output_type": "stream",
     "text": [
      "Frame processed in 1.83s\n",
      "\n",
      "--- Processing frame 750 ---\n"
     ]
    },
    {
     "name": "stderr",
     "output_type": "stream",
     "text": [
      "frame loading (JPEG): 100%|██████████| 1/1 [00:00<00:00, 19.68it/s]\n",
      "propagate in video:   0%|          | 0/1 [00:00<?, ?it/s]\n",
      "FutureWarning: The `device` argument is deprecated and will be removed in v5 of Transformers.\n",
      "UserWarning: torch.utils.checkpoint: the use_reentrant parameter should be passed explicitly. In version 2.5 we will raise an exception if use_reentrant is not passed. use_reentrant=False is recommended, but if you need to preserve the current default behavior, you can pass use_reentrant=True. Refer to docs for more details on the differences between the two variants.\n",
      "UserWarning: None of the inputs have requires_grad=True. Gradients will be None\n"
     ]
    },
    {
     "name": "stdout",
     "output_type": "stream",
     "text": [
      "Analysis with Grounding Dino\n"
     ]
    },
    {
     "name": "stderr",
     "output_type": "stream",
     "text": [
      "FutureWarning: `torch.cuda.amp.autocast(args...)` is deprecated. Please use `torch.amp.autocast('cuda', args...)` instead.\n"
     ]
    },
    {
     "name": "stdout",
     "output_type": "stream",
     "text": [
      "['object', 'object', 'object'] tensor([0.5357, 0.4033, 0.2727])\n",
      "Frame processed in 2.67s\n",
      "\n",
      "--- Processing frame 751 ---\n"
     ]
    },
    {
     "name": "stderr",
     "output_type": "stream",
     "text": [
      "frame loading (JPEG): 100%|██████████| 1/1 [00:00<00:00, 24.72it/s]\n",
      "propagate in video:   0%|          | 0/1 [00:00<?, ?it/s]\n"
     ]
    },
    {
     "name": "stdout",
     "output_type": "stream",
     "text": [
      "Frame processed in 1.97s\n",
      "\n",
      "--- Processing frame 752 ---\n"
     ]
    },
    {
     "name": "stderr",
     "output_type": "stream",
     "text": [
      "frame loading (JPEG): 100%|██████████| 1/1 [00:00<00:00, 25.92it/s]\n"
     ]
    },
    {
     "name": "stdout",
     "output_type": "stream",
     "text": [
      "Exiting gracefully...\n",
      "Processing completed or interrupted after 752 frames\n"
     ]
    }
   ],
   "execution_count": 7
  },
  {
   "metadata": {},
   "cell_type": "markdown",
   "source": [
    "# TEST\n",
    "Questa versione processa i frame in due thread: uno legge i dati e l'altro esegue l'inferenza. Ci sono ancora bug e può bloccarsi !"
   ],
   "id": "f8f2ca627d888203"
  },
  {
   "metadata": {},
   "cell_type": "code",
   "source": [
    "import os\n",
    "import torch\n",
    "import numpy as np\n",
    "import cv2\n",
    "import matplotlib.pyplot as plt\n",
    "import gc\n",
    "import time\n",
    "import threading\n",
    "import queue\n",
    "from concurrent.futures import ThreadPoolExecutor\n",
    "\n",
    "# Path configurations\n",
    "video_path = \"test_video/test_video_san_donato.mp4\"\n",
    "segmented_video_dir = \"test_video/output\"\n",
    "\n",
    "# Create output directory if it doesn't exist\n",
    "os.makedirs(segmented_video_dir, exist_ok=True)\n",
    "\n",
    "# Create a temporary directory for frame storage\n",
    "temp_dir = os.path.join(\"temp_frames\")\n",
    "os.makedirs(temp_dir, exist_ok=True)\n",
    "\n",
    "# Open the video stream\n",
    "cap = cv2.VideoCapture(video_path)\n",
    "if not cap.isOpened():\n",
    "    raise Exception(f\"Could not open video stream: {video_path}\")\n",
    "\n",
    "# Get video properties\n",
    "fps = cap.get(cv2.CAP_PROP_FPS)\n",
    "width = int(cap.get(cv2.CAP_PROP_FRAME_WIDTH))\n",
    "height = int(cap.get(cv2.CAP_PROP_FRAME_HEIGHT))\n",
    "print(f\"Video stream at {fps} FPS, resolution: {width}x{height}\")\n",
    "\n",
    "# Create processing queues\n",
    "frame_queue = queue.Queue(maxsize=2)  # Queue for frames waiting to be processed\n",
    "result_queue = queue.Queue(maxsize=2)  # Queue for processed results waiting to be saved\n",
    "\n",
    "# Threading lock for GPU operations\n",
    "gpu_lock = threading.Lock()\n",
    "\n",
    "# Object tracking variables\n",
    "ann_obj_id = 1\n",
    "last_masks = {}\n",
    "railway_box = None\n",
    "frame_idx = 0\n",
    "\n",
    "# Function to read frames in a separate thread\n",
    "def read_frames():\n",
    "    global frame_idx\n",
    "    while True:\n",
    "        success, frame = cap.read()\n",
    "        if not success:\n",
    "            # Put None as a sentinel value to signal end of stream\n",
    "            frame_queue.put(None)\n",
    "            break\n",
    "\n",
    "        # Convert frame to RGB for visualization\n",
    "        frame_rgb = cv2.cvtColor(frame, cv2.COLOR_BGR2RGB)\n",
    "\n",
    "        # Save current frame to temp directory\n",
    "        frame_path = os.path.join(temp_dir, \"000000.jpg\")\n",
    "        cv2.imwrite(frame_path, frame)\n",
    "\n",
    "        # Put frame data in queue\n",
    "        frame_data = {\n",
    "            'index': frame_idx,\n",
    "            'frame': frame,\n",
    "            'frame_rgb': frame_rgb,\n",
    "            'frame_path': frame_path\n",
    "        }\n",
    "        frame_queue.put(frame_data)\n",
    "        frame_idx += 1\n",
    "\n",
    "# Function to process frames using GPU in a separate thread\n",
    "def process_frames():\n",
    "    global ann_obj_id, last_masks, railway_box\n",
    "\n",
    "    while True:\n",
    "        # Get next frame from queue\n",
    "        frame_data = frame_queue.get()\n",
    "\n",
    "        # Check for end of stream\n",
    "        if frame_data is None:\n",
    "            result_queue.put(None)\n",
    "            break\n",
    "\n",
    "        idx = frame_data['index']\n",
    "        frame = frame_data['frame']\n",
    "        frame_rgb = frame_data['frame_rgb']\n",
    "        frame_path = frame_data['frame_path']\n",
    "\n",
    "        print(f\"\\n--- Processing frame {idx} ---\")\n",
    "        start_time = time.time()\n",
    "\n",
    "        # Acquire GPU lock for model inference\n",
    "        with gpu_lock:\n",
    "            # Clear CUDA memory before processing\n",
    "            torch.cuda.empty_cache()\n",
    "            gc.collect()\n",
    "\n",
    "            # Initialize inference state\n",
    "            inference_state = video_predictor.init_state(video_path=temp_dir)\n",
    "\n",
    "            # Process based on frame index\n",
    "            if idx == 0:\n",
    "                # First frame: detect railway and objects\n",
    "                dino_boxes, phrases, dino_scores = utility.grounding_Dino_analyzer_plt(\n",
    "                    frame_path, model, 'railway . object .', device\n",
    "                )\n",
    "\n",
    "                # Find railway box and object points\n",
    "                max_score_railway = 0\n",
    "                object_points = []\n",
    "\n",
    "                for i, phrase in enumerate(phrases):\n",
    "                    if phrase == 'railway' and dino_scores[i] > max_score_railway:\n",
    "                        railway_box = dino_boxes[i]\n",
    "                        max_score_railway = dino_scores[i]\n",
    "                    elif phrase == 'object':\n",
    "                        x_min, y_min, x_max, y_max = dino_boxes[i]\n",
    "                        object_points.append([(x_min + x_max) // 2, (y_min + y_max) // 2])\n",
    "\n",
    "                # Add railway to tracking\n",
    "                if railway_box is not None:\n",
    "                    _, out_obj_ids, out_mask_logits = video_predictor.add_new_points_or_box(\n",
    "                        inference_state=inference_state,\n",
    "                        frame_idx=0,\n",
    "                        obj_id=ann_obj_id,\n",
    "                        box=railway_box,\n",
    "                    )\n",
    "\n",
    "                    last_masks[ann_obj_id] = (out_mask_logits[0] > 0).cpu().numpy()\n",
    "\n",
    "                # Add detected objects to tracking\n",
    "                for obj_point in object_points:\n",
    "                    ann_obj_id += 1\n",
    "                    _, out_obj_ids, out_mask_logits = video_predictor.add_new_points_or_box(\n",
    "                        inference_state=inference_state,\n",
    "                        frame_idx=0,\n",
    "                        obj_id=ann_obj_id,\n",
    "                        points=[obj_point],\n",
    "                        labels=np.array([1], np.int32),\n",
    "                    )\n",
    "\n",
    "                    if ann_obj_id in out_obj_ids:\n",
    "                        idx = list(out_obj_ids).index(ann_obj_id)\n",
    "                        last_masks[ann_obj_id] = (out_mask_logits[idx] > 0).cpu().numpy()\n",
    "            else:\n",
    "                # For non-first frames, transfer objects from previous frame\n",
    "                for obj_id, mask in last_masks.items():\n",
    "                    # Convert mask to proper format\n",
    "                    mask_array = np.asarray(mask)\n",
    "                    if mask_array.ndim > 2:\n",
    "                        mask_array = mask_array.squeeze()\n",
    "                        if mask_array.ndim > 2:\n",
    "                            mask_array = mask_array[0]\n",
    "\n",
    "                    # Find non-zero coordinates\n",
    "                    y_indices, x_indices = np.where(mask_array > 0)\n",
    "\n",
    "                    if len(y_indices) > 0:\n",
    "                        # Calculate center of mass\n",
    "                        center_y = int(np.mean(y_indices))\n",
    "                        center_x = int(np.mean(x_indices))\n",
    "\n",
    "                        # Add object to current frame\n",
    "                        if obj_id == 1 and railway_box is not None:\n",
    "                            video_predictor.add_new_points_or_box(\n",
    "                                inference_state=inference_state,\n",
    "                                frame_idx=0,\n",
    "                                obj_id=obj_id,\n",
    "                                box=railway_box,\n",
    "                            )\n",
    "                        else:\n",
    "                            video_predictor.add_new_points_or_box(\n",
    "                                inference_state=inference_state,\n",
    "                                frame_idx=0,\n",
    "                                obj_id=obj_id,\n",
    "                                points=[[center_x, center_y]],\n",
    "                                labels=np.array([1], np.int32),\n",
    "                            )\n",
    "\n",
    "            # Propagate masks in current frame\n",
    "            result = next(video_predictor.propagate_in_video(\n",
    "                inference_state,\n",
    "                start_frame_idx=0\n",
    "            ))\n",
    "            _, out_obj_ids, out_mask_logits = result\n",
    "\n",
    "            # Update masks for next frame\n",
    "            frame_masks = {}\n",
    "            for i, obj_id in enumerate(out_obj_ids):\n",
    "                frame_masks[obj_id] = (out_mask_logits[i] > 0).cpu().numpy()\n",
    "            last_masks = frame_masks\n",
    "\n",
    "            # Check for new objects periodically\n",
    "            if idx % 15 == 0 and idx > 0:\n",
    "                dino_boxes, phrases, _ = utility.grounding_Dino_analyzer_plt(\n",
    "                    frame_path, model, 'object .', device\n",
    "                )\n",
    "\n",
    "                # Check each detected object\n",
    "                for i, phrase in enumerate(phrases):\n",
    "                    if phrase == 'object':\n",
    "                        x_min, y_min, x_max, y_max = dino_boxes[i]\n",
    "                        center_x = (x_min + x_max) // 2\n",
    "                        center_y = (y_min + y_max) // 2\n",
    "\n",
    "                        # Check if already tracked\n",
    "                        already_tracked = False\n",
    "                        for mask in last_masks.values():\n",
    "                            mask_array = np.asarray(mask)\n",
    "                            if mask_array.ndim > 2:\n",
    "                                mask_array = mask_array.squeeze()\n",
    "                                if mask_array.ndim > 2:\n",
    "                                    mask_array = mask_array[0]\n",
    "\n",
    "                            if (0 <= int(center_y) < mask_array.shape[0] and\n",
    "                                0 <= int(center_x) < mask_array.shape[1] and\n",
    "                                mask_array[int(center_y), int(center_x)]):\n",
    "                                already_tracked = True\n",
    "                                break\n",
    "\n",
    "                        # Add new object if needed\n",
    "                        if not already_tracked:\n",
    "                            ann_obj_id += 1\n",
    "                            print(f\"New object {ann_obj_id} detected at frame {idx}\")\n",
    "\n",
    "                            video_predictor.add_new_points_or_box(\n",
    "                                inference_state=inference_state,\n",
    "                                frame_idx=0,\n",
    "                                obj_id=ann_obj_id,\n",
    "                                points=[[center_x, center_y]],\n",
    "                                labels=np.array([1], np.int32),\n",
    "                            )\n",
    "\n",
    "                            # Re-propagate with new object\n",
    "                            result = next(video_predictor.propagate_in_video(\n",
    "                                inference_state,\n",
    "                                start_frame_idx=0\n",
    "                            ))\n",
    "                            _, out_obj_ids, out_mask_logits = result\n",
    "\n",
    "                            # Update masks\n",
    "                            for i, obj_id in enumerate(out_obj_ids):\n",
    "                                last_masks[obj_id] = (out_mask_logits[i] > 0).cpu().numpy()\n",
    "\n",
    "        # Calculate processing time\n",
    "        processing_time = time.time() - start_time\n",
    "        print(f\"Frame {idx} processed in {processing_time:.2f}s\")\n",
    "\n",
    "        # Put results in output queue\n",
    "        result_data = {\n",
    "            'index': idx,\n",
    "            'frame_rgb': frame_rgb,\n",
    "            'masks': dict(last_masks)  # Make a copy of the masks dict\n",
    "        }\n",
    "        result_queue.put(result_data)\n",
    "\n",
    "        # Clean up\n",
    "        del inference_state\n",
    "        gc.collect()\n",
    "\n",
    "# Function to save visualization results in a separate thread\n",
    "def save_results():\n",
    "    while True:\n",
    "        # Get processed result from queue\n",
    "        result = result_queue.get()\n",
    "\n",
    "        # Check for end of processing\n",
    "        if result is None:\n",
    "            break\n",
    "\n",
    "        idx = result['index']\n",
    "        frame_rgb = result['frame_rgb']\n",
    "        masks = result['masks']\n",
    "\n",
    "        # Create visualization\n",
    "        plt.figure(figsize=(8, 6))\n",
    "        plt.imshow(frame_rgb)\n",
    "        for obj_id, mask in masks.items():\n",
    "            utility.show_mask_v(mask, plt.gca(), obj_id=obj_id)\n",
    "        plt.savefig(os.path.join(segmented_video_dir, f\"frame_{idx:06d}.jpg\"))\n",
    "        plt.close()\n",
    "\n",
    "        print(f\"Frame {idx} visualization saved\")\n",
    "\n",
    "try:\n",
    "    # Start threads for pipelined processing\n",
    "    with ThreadPoolExecutor(max_workers=3) as executor:\n",
    "        reader_future = executor.submit(read_frames)\n",
    "        processor_future = executor.submit(process_frames)\n",
    "        writer_future = executor.submit(save_results)\n",
    "\n",
    "        # Wait for all threads to complete\n",
    "        reader_future.result()\n",
    "        processor_future.result()\n",
    "        writer_future.result()\n",
    "\n",
    "except (KeyboardInterrupt, SystemExit):\n",
    "    print(\"Exiting gracefully...\")\n",
    "finally:\n",
    "    # Release resources\n",
    "    cap.release()\n",
    "\n",
    "    # Clean up temp directory\n",
    "    for file in os.listdir(temp_dir):\n",
    "        os.remove(os.path.join(temp_dir, file))\n",
    "    os.rmdir(temp_dir)\n",
    "\n",
    "    print(f\"Processing completed or interrupted after {frame_idx} frame\")"
   ],
   "id": "f8bef7b1b2ae6a97",
   "outputs": [],
   "execution_count": null
  }
 ],
 "metadata": {
  "kernelspec": {
   "display_name": "Python 3",
   "language": "python",
   "name": "python3"
  },
  "language_info": {
   "codemirror_mode": {
    "name": "ipython",
    "version": 2
   },
   "file_extension": ".py",
   "mimetype": "text/x-python",
   "name": "python",
   "nbconvert_exporter": "python",
   "pygments_lexer": "ipython2",
   "version": "2.7.6"
  }
 },
 "nbformat": 4,
 "nbformat_minor": 5
}
